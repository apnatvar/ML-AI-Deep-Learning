{
 "cells": [
  {
   "cell_type": "markdown",
   "id": "4b7a3823",
   "metadata": {
    "id": "4b7a3823"
   },
   "source": [
    "# Lab 6: Transfer Learning\n",
    "\n",
    "In the lab, we are going to train an object detection CNN \n",
    "using Transfer Learning. The idea is to start from your \n",
    "lab 5 network and re-use it to speed up the training \n",
    "on a new dataset."
   ]
  },
  {
   "cell_type": "code",
   "execution_count": 1,
   "id": "wPD1_-Wl19Fc",
   "metadata": {
    "colab": {
     "base_uri": "https://localhost:8080/"
    },
    "executionInfo": {
     "elapsed": 33147,
     "status": "ok",
     "timestamp": 1667393086706,
     "user": {
      "displayName": "Apnatva Rawat",
      "userId": "09178246128563254772"
     },
     "user_tz": 0
    },
    "id": "wPD1_-Wl19Fc",
    "outputId": "e0d2fe7a-441e-40a2-c966-7f59cfba3150"
   },
   "outputs": [
    {
     "name": "stdout",
     "output_type": "stream",
     "text": [
      "Mounted at /content/gdrive\n",
      "/content/gdrive/MyDrive/4c16-labs/code/lab-06\n"
     ]
    }
   ],
   "source": [
    "from google.colab import drive\n",
    "drive.mount('/content/gdrive')\n",
    "%cd /content/gdrive/MyDrive/4c16-labs/code/lab-06/"
   ]
  },
  {
   "cell_type": "code",
   "execution_count": 2,
   "id": "dae9b3b3",
   "metadata": {
    "executionInfo": {
     "elapsed": 4052,
     "status": "ok",
     "timestamp": 1667393090753,
     "user": {
      "displayName": "Apnatva Rawat",
      "userId": "09178246128563254772"
     },
     "user_tz": 0
    },
    "id": "dae9b3b3",
    "scrolled": true
   },
   "outputs": [],
   "source": [
    "# Import the necessary modules\n",
    "\n",
    "import keras\n",
    "from tensorflow.keras import datasets\n",
    "from tensorflow.keras.layers import Input, Dense, Flatten, Dropout, Activation \n",
    "from tensorflow.keras.layers import PReLU, LeakyReLU, Conv2D, Lambda, MaxPooling2D\n",
    "from tensorflow.keras.regularizers import l2\n",
    "\n",
    "from tensorflow.keras.layers import BatchNormalization\n",
    "\n",
    "from tensorflow.keras.models import model_from_json\n",
    "\n",
    "from IPython.display import clear_output\n",
    "\n",
    "import numpy as np\n",
    "import matplotlib.pyplot as plt\n",
    "%matplotlib inline\n",
    "from matplotlib.ticker import MaxNLocator\n",
    "\n",
    "import pickle\n",
    "import sklearn as skl\n",
    "\n",
    "from sklearn import datasets, linear_model\n",
    "from sklearn.model_selection import cross_val_score"
   ]
  },
  {
   "cell_type": "code",
   "execution_count": 3,
   "id": "aa178fe1",
   "metadata": {
    "executionInfo": {
     "elapsed": 17,
     "status": "ok",
     "timestamp": 1667393090754,
     "user": {
      "displayName": "Apnatva Rawat",
      "userId": "09178246128563254772"
     },
     "user_tz": 0
    },
    "id": "aa178fe1"
   },
   "outputs": [],
   "source": [
    "# Define some useful functions\n",
    "class PlotLossAccuracy(keras.callbacks.Callback):\n",
    "    def on_train_begin(self, logs={}):\n",
    "        self.i = 0\n",
    "        self.x = []\n",
    "        self.acc = []\n",
    "        self.losses = []\n",
    "        self.val_losses = []\n",
    "        self.val_acc = []\n",
    "        self.logs = []\n",
    "\n",
    "    def on_epoch_end(self, epoch, logs={}):\n",
    "        \n",
    "        self.logs.append(logs)\n",
    "        self.x.append(int(self.i))\n",
    "        self.losses.append(logs.get('loss'))\n",
    "        self.val_losses.append(logs.get('val_loss'))\n",
    "        self.acc.append(logs.get('accuracy'))\n",
    "        self.val_acc.append(logs.get('val_accuracy'))\n",
    "        \n",
    "        self.i += 1\n",
    "        \n",
    "        clear_output(wait=True)\n",
    "        plt.figure(figsize=(16, 6))\n",
    "        plt.plot([1, 2])\n",
    "        plt.subplot(121) \n",
    "        plt.plot(self.x, self.losses, label=\"train loss\")\n",
    "        plt.plot(self.x, self.val_losses, label=\"validation loss\")\n",
    "        plt.gca().xaxis.set_major_locator(MaxNLocator(integer=True))\n",
    "        plt.ylabel('loss')\n",
    "        plt.xlabel('epoch')\n",
    "        plt.title('Model Loss')\n",
    "        plt.legend()\n",
    "        plt.subplot(122)         \n",
    "        plt.plot(self.x, self.acc, label=\"training accuracy\")\n",
    "        plt.plot(self.x, self.val_acc, label=\"validation accuracy\")\n",
    "        plt.legend()\n",
    "        plt.ylabel('accuracy')\n",
    "        plt.xlabel('epoch')\n",
    "        plt.title('Model Accuracy')\n",
    "        plt.gca().xaxis.set_major_locator(MaxNLocator(integer=True))\n",
    "        plt.show();\n",
    "        \n",
    "def save_top_model_to_disk():    \n",
    "    # save model and weights (don't change the filenames)\n",
    "    model_json = top_model.to_json()\n",
    "    with open(\"top_model.json\", \"w\") as json_file:\n",
    "        json_file.write(model_json)\n",
    "    # serialize weights to HDF5\n",
    "    top_model.save_weights(\"top_model.h5\")\n",
    "    print(\"Saved top_model to top_model.json and weights to top_model.h5\")\n",
    "\n",
    "def save_finetuned_model_to_disk():    \n",
    "    # save model and weights (don't change the filenames)\n",
    "    model_json = finetuned_model.to_json()\n",
    "    with open(\"finetuned_model.json\", \"w\") as json_file:\n",
    "        json_file.write(model_json)\n",
    "    # serialize weights to HDF5\n",
    "    finetuned_model.save_weights(\"finetuned_model.h5\")\n",
    "    print(\"Saved model to finetuned_model.json and weights to finetuned_model.h5\")\n",
    "\n"
   ]
  },
  {
   "cell_type": "markdown",
   "id": "20f26ba1",
   "metadata": {
    "id": "20f26ba1"
   },
   "source": [
    "# Loading the new dataset (cifar100)\n",
    "\n",
    "We are going to use the 10 first classes of the cifar100 dataset.\n",
    "https://www.cs.toronto.edu/~kriz/cifar.html\n",
    "\n",
    "> This dataset is just like the CIFAR-10, except it has 100 classes containing 600 images each. There are 500 training images and 100 testing images per class. The 100 classes in the CIFAR-100 are grouped into 20 superclasses. Each image comes with a \"fine\" label (the class to which it belongs) and a \"coarse\" label (the superclass to which it belongs).\n"
   ]
  },
  {
   "cell_type": "code",
   "execution_count": 4,
   "id": "15120ac7",
   "metadata": {
    "colab": {
     "base_uri": "https://localhost:8080/"
    },
    "executionInfo": {
     "elapsed": 5214,
     "status": "ok",
     "timestamp": 1667393095952,
     "user": {
      "displayName": "Apnatva Rawat",
      "userId": "09178246128563254772"
     },
     "user_tz": 0
    },
    "id": "15120ac7",
    "outputId": "7d7a09ff-4afc-43f3-fc8f-93f97034fc0d"
   },
   "outputs": [
    {
     "name": "stdout",
     "output_type": "stream",
     "text": [
      "  % Total    % Received % Xferd  Average Speed   Time    Time     Time  Current\n",
      "                                 Dload  Upload   Total   Spent    Left  Speed\n",
      "100 14.6M  100 14.6M    0     0  3028k      0  0:00:04  0:00:04 --:--:-- 3574k\n"
     ]
    }
   ],
   "source": [
    "!curl --create-dirs -o /home/tcd/data/cifar100-dataset.pkl http://4c16.ml/~mindfreeze/cifar100-dataset.pkl\n"
   ]
  },
  {
   "cell_type": "code",
   "execution_count": 5,
   "id": "7a81de8d",
   "metadata": {
    "colab": {
     "base_uri": "https://localhost:8080/",
     "height": 768
    },
    "executionInfo": {
     "elapsed": 1460,
     "status": "ok",
     "timestamp": 1667393097404,
     "user": {
      "displayName": "Apnatva Rawat",
      "userId": "09178246128563254772"
     },
     "user_tz": 0
    },
    "id": "7a81de8d",
    "outputId": "eeece36d-e2c0-40e2-c8f2-73a1cbe7b9b1"
   },
   "outputs": [
    {
     "name": "stdout",
     "output_type": "stream",
     "text": [
      "loading the dataset...\n",
      "loaded.\n",
      "let's look at some of the pictures and their ground truth labels:\n"
     ]
    },
    {
     "data": {
      "image/png": "[encoded data removed]",
      "text/plain": [
       "<Figure size 864x864 with 9 Axes>"
      ]
     },
     "metadata": {
      "needs_background": "light"
     },
     "output_type": "display_data"
    }
   ],
   "source": [
    "# Loading new dataset cifar100\n",
    "\n",
    "print('loading the dataset...')\n",
    "\n",
    "pkl_file = open('/home/tcd/data/cifar100-dataset.pkl', 'rb')\n",
    "dataset = pickle.load(pkl_file)\n",
    "\n",
    "print('loaded.')\n",
    "\n",
    "print('let\\'s look at some of the pictures and their ground truth labels:')\n",
    "\n",
    "plt.figure(figsize=(12,12))\n",
    "plt.plot([3, 3])\n",
    "\n",
    "X = dataset['X'].astype('float32')/255\n",
    "Y = dataset['Y'].astype('float32')\n",
    "Y = keras.utils.to_categorical(Y)\n",
    "\n",
    "for i in range(0,9):\n",
    "    # pictures are 32x32x3 (width=32, height=32, 3 colour channels)\n",
    "    pic = X[i]\n",
    "\n",
    "    # Y[i] returns an array of zeros and with Y[i][classid] = 1\n",
    "    # for instance  Y[i] = [ 0 0 0 0 0 1 0 0 0 0] => classid=5 \n",
    "    #          and  Y[i] = [ 1 0 0 0 0 0 0 0 0 0] => classid=0\n",
    "    # we can get the classid by using the argmax function on the vector Y[i]\n",
    "    classid = Y[i].argmax(-1)\n",
    "\n",
    "    # getting back the name of the label for that classid\n",
    "    classname = dataset['labels'][classid]\n",
    "    plt.subplot(3,3,i+1)\n",
    "    plt.imshow(pic)\n",
    "    plt.title('label: {}'.format(classname))\n"
   ]
  },
  {
   "cell_type": "code",
   "execution_count": 6,
   "id": "26757587",
   "metadata": {
    "executionInfo": {
     "elapsed": 18,
     "status": "ok",
     "timestamp": 1667393097405,
     "user": {
      "displayName": "Apnatva Rawat",
      "userId": "09178246128563254772"
     },
     "user_tz": 0
    },
    "id": "26757587"
   },
   "outputs": [],
   "source": [
    "# training / validation split\n",
    "X_train, X_validation, Y_train, Y_validation = skl.model_selection.train_test_split(X, Y, test_size=.1)"
   ]
  },
  {
   "cell_type": "markdown",
   "id": "f8da1ce8",
   "metadata": {
    "id": "f8da1ce8"
   },
   "source": [
    "## Loading the Base Network\n",
    "\n",
    "Our starting point will be to take your CNN network from Lab 5 \n",
    "and use it for building visual features for the images of our new dataset.\n",
    "So let's start with re-loading your network. \n",
    "\n",
    "You don't need to retrain your network but you can if you want. If you do, note that Also, \n",
    "note that we probably don't need a very long training. The idea of this lab \n",
    "is only to show that you can get a good kick start from lab 5's network.\n"
   ]
  },
  {
   "cell_type": "code",
   "execution_count": 7,
   "id": "81df3a92",
   "metadata": {
    "executionInfo": {
     "elapsed": 2445,
     "status": "ok",
     "timestamp": 1667393099833,
     "user": {
      "displayName": "Apnatva Rawat",
      "userId": "09178246128563254772"
     },
     "user_tz": 0
    },
    "id": "81df3a92"
   },
   "outputs": [],
   "source": [
    "# Here we assume that you have already successfully completed Lab 5 \n",
    "# and trained a CNN on cifar10\n",
    "\n",
    "# load json and create base_model\n",
    "with open('../lab-05/model.json', 'r') as json_file:\n",
    "    loaded_model_json = json_file.read()\n",
    "base_model = model_from_json(loaded_model_json)\n",
    "# load weights into base_model\n",
    "base_model.load_weights(\"../lab-05/model.h5\")\n",
    "# print the model summary"
   ]
  },
  {
   "cell_type": "code",
   "execution_count": 8,
   "id": "6859c29a",
   "metadata": {
    "colab": {
     "base_uri": "https://localhost:8080/"
    },
    "executionInfo": {
     "elapsed": 391,
     "status": "ok",
     "timestamp": 1667393538797,
     "user": {
      "displayName": "Apnatva Rawat",
      "userId": "09178246128563254772"
     },
     "user_tz": 0
    },
    "id": "6859c29a",
    "outputId": "f8180021-ad87-4bd2-dbad-6978401420da"
   },
   "outputs": [
    {
     "name": "stdout",
     "output_type": "stream",
     "text": [
      "Model: \"model_11\"\n",
      "_________________________________________________________________\n",
      " Layer (type)                Output Shape              Param #   \n",
      "=================================================================\n",
      " input_12 (InputLayer)       [(None, 32, 32, 3)]       0         \n",
      "                                                                 \n",
      " conv2d_64 (Conv2D)          (None, 32, 32, 32)        896       \n",
      "                                                                 \n",
      " conv2d_65 (Conv2D)          (None, 32, 32, 32)        9248      \n",
      "                                                                 \n",
      " max_pooling2d_33 (MaxPoolin  (None, 16, 16, 32)       0         \n",
      " g2D)                                                            \n",
      "                                                                 \n",
      " dropout_55 (Dropout)        (None, 16, 16, 32)        0         \n",
      "                                                                 \n",
      " conv2d_66 (Conv2D)          (None, 16, 16, 64)        18496     \n",
      "                                                                 \n",
      " conv2d_67 (Conv2D)          (None, 16, 16, 64)        36928     \n",
      "                                                                 \n",
      " max_pooling2d_34 (MaxPoolin  (None, 8, 8, 64)         0         \n",
      " g2D)                                                            \n",
      "                                                                 \n",
      " dropout_56 (Dropout)        (None, 8, 8, 64)          0         \n",
      "                                                                 \n",
      " conv2d_68 (Conv2D)          (None, 8, 8, 128)         73856     \n",
      "                                                                 \n",
      " conv2d_69 (Conv2D)          (None, 8, 8, 128)         147584    \n",
      "                                                                 \n",
      " max_pooling2d_35 (MaxPoolin  (None, 4, 4, 128)        0         \n",
      " g2D)                                                            \n",
      "                                                                 \n",
      " flatten_11 (Flatten)        (None, 2048)              0         \n",
      "                                                                 \n",
      " dense_44 (Dense)            (None, 512)               1049088   \n",
      "                                                                 \n",
      " dropout_57 (Dropout)        (None, 512)               0         \n",
      "                                                                 \n",
      " dense_45 (Dense)            (None, 256)               131328    \n",
      "                                                                 \n",
      " dropout_58 (Dropout)        (None, 256)               0         \n",
      "                                                                 \n",
      " dense_46 (Dense)            (None, 128)               32896     \n",
      "                                                                 \n",
      " dropout_59 (Dropout)        (None, 128)               0         \n",
      "                                                                 \n",
      " dense_47 (Dense)            (None, 10)                1290      \n",
      "                                                                 \n",
      "=================================================================\n",
      "Total params: 1,501,610\n",
      "Trainable params: 1,501,610\n",
      "Non-trainable params: 0\n",
      "_________________________________________________________________\n"
     ]
    }
   ],
   "source": [
    "base_model.summary()\n",
    "\n",
    "# In the summary, take note of the Layer names in the first column\n",
    "# eg. conv2d_6 (Conv2D) means that 'conv2d_6' will be the name for \n",
    "# that layer\n",
    "\n",
    "# In preparation for the next step, You also need to check that \n",
    "# shape of the Flatten layer is small enough. Typically we want something\n",
    "# like (None, 2048). You don't want (None, 40000)."
   ]
  },
  {
   "cell_type": "markdown",
   "id": "e7c3cd40",
   "metadata": {
    "id": "e7c3cd40"
   },
   "source": [
    "# Part 1: Using the Base Network to Build Visual Features\n",
    "\n",
    "In this first part we are going to directly use the base model to pre-compute \n",
    "visual features on this new dataset. For this, we are going to compute the predictions \n",
    "for the intermediate `Flatten` layer."
   ]
  },
  {
   "cell_type": "code",
   "execution_count": 26,
   "id": "13b91965",
   "metadata": {
    "colab": {
     "base_uri": "https://localhost:8080/"
    },
    "executionInfo": {
     "elapsed": 23623,
     "status": "ok",
     "timestamp": 1667398096603,
     "user": {
      "displayName": "Apnatva Rawat",
      "userId": "09178246128563254772"
     },
     "user_tz": 0
    },
    "id": "13b91965",
    "outputId": "47f5463e-8e9a-4016-eaff-4bb61b668107"
   },
   "outputs": [
    {
     "name": "stdout",
     "output_type": "stream",
     "text": [
      "141/141 [==============================] - 22s 148ms/step\n",
      "16/16 [==============================] - 1s 71ms/step\n",
      "(4500, 2048)\n",
      "(500, 2048)\n"
     ]
    }
   ],
   "source": [
    "# change the `flatten_2` name to the corresponding name from your network\n",
    "\n",
    "# TODO: create model to predict the features at 'flatten' layer\n",
    "\n",
    "features_model = keras.Model(inputs=base_model.input,\n",
    "                    outputs=base_model.get_layer('flatten_11').output)\n",
    "train_features = features_model.predict(X_train) # \n",
    "validation_features = features_model.predict(X_validation) # \n",
    "\n",
    "# checking that everything is ok, you should get a tensor of size 4500 x Flatten Size\n",
    "# eg. (4500, 2048)\n",
    "print(train_features.shape)\n",
    "print(validation_features.shape)\n",
    "\n"
   ]
  },
  {
   "cell_type": "code",
   "execution_count": 32,
   "id": "3103c96c",
   "metadata": {
    "colab": {
     "base_uri": "https://localhost:8080/"
    },
    "executionInfo": {
     "elapsed": 518,
     "status": "ok",
     "timestamp": 1667398397732,
     "user": {
      "displayName": "Apnatva Rawat",
      "userId": "09178246128563254772"
     },
     "user_tz": 0
    },
    "id": "3103c96c",
    "outputId": "c8bc7fda-e43e-4b21-da91-98690cb65341"
   },
   "outputs": [
    {
     "name": "stdout",
     "output_type": "stream",
     "text": [
      "Model: \"model_7\"\n",
      "_________________________________________________________________\n",
      " Layer (type)                Output Shape              Param #   \n",
      "=================================================================\n",
      " input_3 (InputLayer)        [(None, 2048)]            0         \n",
      "                                                                 \n",
      " dense_7 (Dense)             (None, 256)               524544    \n",
      "                                                                 \n",
      " batch_normalization_5 (Batc  (None, 256)              1024      \n",
      " hNormalization)                                                 \n",
      "                                                                 \n",
      " dense_8 (Dense)             (None, 10)                2570      \n",
      "                                                                 \n",
      "=================================================================\n",
      "Total params: 528,138\n",
      "Trainable params: 527,626\n",
      "Non-trainable params: 512\n",
      "_________________________________________________________________\n"
     ]
    }
   ],
   "source": [
    "# now that you have computed the new features for your dataset,\n",
    "# you need to design a simple classification network.\n",
    "# For good measure, use one with BatchNormalization, dropout, etc. \n",
    "# and train it.\n",
    "\n",
    "\n",
    "inputs = keras.layers.Input(shape=train_features.shape[1:]) \n",
    "# TODO: complete the network ....\n",
    "x = Dense(512, activation = 'relu')(inputs)\n",
    "x = BatchNormalization()(x)\n",
    "x = Dropout(0.2)(x)\n",
    "x = Dense(256, activation = 'relu')(inputs)\n",
    "x = BatchNormalization()(x)\n",
    "predictions = Dense(10, activation='softmax')(x)\n",
    "\n",
    "# now we can compile it and train it.\n",
    "top_model = keras.models.Model(inputs=inputs, outputs=predictions)\n",
    "# TODO: write code to train it ...\n",
    "top_model.compile(optimizer = 'adam', loss = 'categorical_crossentropy', metrics = ['accuracy'])\n",
    "\n",
    "top_model.summary()"
   ]
  },
  {
   "cell_type": "code",
   "execution_count": 33,
   "id": "IXtUM3rTkoKF",
   "metadata": {
    "colab": {
     "base_uri": "https://localhost:8080/",
     "height": 439
    },
    "executionInfo": {
     "elapsed": 3402,
     "status": "ok",
     "timestamp": 1667398416736,
     "user": {
      "displayName": "Apnatva Rawat",
      "userId": "09178246128563254772"
     },
     "user_tz": 0
    },
    "id": "IXtUM3rTkoKF",
    "outputId": "0ad81575-b94f-41a0-c9f3-c5d60f3d42a0"
   },
   "outputs": [
    {
     "data": {
      "image/png": "[encoded data removed]",
      "text/plain": [
       "<Figure size 1152x432 with 2 Axes>"
      ]
     },
     "metadata": {
      "needs_background": "light"
     },
     "output_type": "display_data"
    },
    {
     "name": "stdout",
     "output_type": "stream",
     "text": [
      "\b\b\b\b\b\b\b\b\b\b\b\b\b\b\b\b\b\b\b\b\b\b\b\b\b\b\b\b\b\b\b\b\b\b\b\b\b\b\b\b\b\b\b\b\b\b\b\b\b\b\b\b\b\b\b\b\b\b\b\b\b\b\b\b\b\b\b\b\b\b\b\b\b\b\b\b\b\b\b\b\r",
      "9/9 [==============================] - 1s 92ms/step - loss: 0.4477 - accuracy: 0.8702 - val_loss: 1.7090 - val_accuracy: 0.7120\n"
     ]
    },
    {
     "data": {
      "text/plain": [
       "<keras.callbacks.History at 0x7f3a7f4a4ed0>"
      ]
     },
     "execution_count": 33,
     "metadata": {},
     "output_type": "execute_result"
    }
   ],
   "source": [
    "# the dataset is very small and the base_model gives us a very good \n",
    "# starting point, so we only need a handful of epochs, probably 1 \n",
    "# or 2 will do.\n",
    "num_epochs = 3\n",
    "\n",
    "# Create an instance of our callback functions class, to plot our loss function and accuracy with each epoch.\n",
    "pltCallBack = PlotLossAccuracy()\n",
    "\n",
    "# Run the training.\n",
    "top_model.fit(train_features, Y_train,\n",
    "          batch_size=512, epochs=num_epochs, \n",
    "          validation_data=(validation_features, Y_validation), \n",
    "          callbacks=[pltCallBack])"
   ]
  },
  {
   "cell_type": "code",
   "execution_count": 34,
   "id": "G-30cbk1w6QB",
   "metadata": {
    "colab": {
     "base_uri": "https://localhost:8080/"
    },
    "executionInfo": {
     "elapsed": 998,
     "status": "ok",
     "timestamp": 1667398425518,
     "user": {
      "displayName": "Apnatva Rawat",
      "userId": "09178246128563254772"
     },
     "user_tz": 0
    },
    "id": "G-30cbk1w6QB",
    "outputId": "f3eb6639-be17-4556-e240-d8724834208a"
   },
   "outputs": [
    {
     "name": "stdout",
     "output_type": "stream",
     "text": [
      "Saved top_model to top_model.json and weights to top_model.h5\n"
     ]
    }
   ],
   "source": [
    "# write model to top_model.json and weights to top_model.h5 for submission\n",
    "# you'll need to get about 65% accuracy to get full marks\n",
    "\n",
    "save_top_model_to_disk()"
   ]
  },
  {
   "cell_type": "markdown",
   "id": "33b16598",
   "metadata": {
    "id": "33b16598"
   },
   "source": [
    "# Part 2: Fine-Tuning the Base Network\n",
    "\n",
    "In this part, instead of pre-computing the visual features, \n",
    "we are going to load the base model, freeze the weights for the convolutional layers and allow the optimizer to fine-tune the classification dense layers. This is done by setting the flag\n",
    "`trainable` to `True` or `False` in the network layers.\n"
   ]
  },
  {
   "cell_type": "code",
   "execution_count": 35,
   "id": "77449c00",
   "metadata": {
    "executionInfo": {
     "elapsed": 1149,
     "status": "ok",
     "timestamp": 1667398680266,
     "user": {
      "displayName": "Apnatva Rawat",
      "userId": "09178246128563254772"
     },
     "user_tz": 0
    },
    "id": "77449c00"
   },
   "outputs": [],
   "source": [
    "finetuned_model = keras.models.clone_model(base_model)\n",
    "\n",
    "# set the all the layers in model to trainable = False\n",
    "\n",
    "for layer in finetuned_model.layers:\n",
    "    layer.trainable = False\n",
    "    \n",
    "# TODO: then set all the layers after the Flatten layer to be trainable \n"
   ]
  },
  {
   "cell_type": "code",
   "execution_count": 40,
   "id": "owMkRD0_tKSe",
   "metadata": {
    "colab": {
     "base_uri": "https://localhost:8080/"
    },
    "executionInfo": {
     "elapsed": 344,
     "status": "ok",
     "timestamp": 1667399473762,
     "user": {
      "displayName": "Apnatva Rawat",
      "userId": "09178246128563254772"
     },
     "user_tz": 0
    },
    "id": "owMkRD0_tKSe",
    "outputId": "e987ad5b-b21a-49f1-80b4-e108eac8d8e9"
   },
   "outputs": [
    {
     "name": "stdout",
     "output_type": "stream",
     "text": [
      "0 <keras.engine.input_layer.InputLayer object at 0x7f3a7fa17ad0> False\n",
      "1 <keras.layers.convolutional.conv2d.Conv2D object at 0x7f3a7fa17e90> False\n",
      "2 <keras.layers.convolutional.conv2d.Conv2D object at 0x7f3a7fa17850> False\n",
      "3 <keras.layers.pooling.max_pooling2d.MaxPooling2D object at 0x7f3a7e94d190> False\n",
      "4 <keras.layers.regularization.dropout.Dropout object at 0x7f3a7fa94290> False\n",
      "5 <keras.layers.convolutional.conv2d.Conv2D object at 0x7f3a7fa58310> False\n",
      "6 <keras.layers.convolutional.conv2d.Conv2D object at 0x7f3a7fa589d0> False\n",
      "7 <keras.layers.pooling.max_pooling2d.MaxPooling2D object at 0x7f3a7e52d890> False\n",
      "8 <keras.layers.regularization.dropout.Dropout object at 0x7f3a7fb15310> False\n",
      "9 <keras.layers.convolutional.conv2d.Conv2D object at 0x7f3a8b479750> False\n",
      "10 <keras.layers.convolutional.conv2d.Conv2D object at 0x7f3a8ee69890> False\n",
      "11 <keras.layers.pooling.max_pooling2d.MaxPooling2D object at 0x7f3a8b483e50> False\n",
      "12 <keras.layers.reshaping.flatten.Flatten object at 0x7f3a860c4310> False\n",
      "13 <keras.layers.core.dense.Dense object at 0x7f3a86115cd0> True\n",
      "14 <keras.layers.regularization.dropout.Dropout object at 0x7f3a86115e10> True\n",
      "15 <keras.layers.core.dense.Dense object at 0x7f3a9165a7d0> True\n",
      "16 <keras.layers.regularization.dropout.Dropout object at 0x7f3a913ace10> True\n",
      "17 <keras.layers.core.dense.Dense object at 0x7f3a81f53210> True\n",
      "18 <keras.layers.regularization.dropout.Dropout object at 0x7f3a81f530d0> True\n",
      "19 <keras.layers.core.dense.Dense object at 0x7f3a806e5ed0> True\n"
     ]
    }
   ],
   "source": [
    "i = 0\n",
    "for layer in finetuned_model.layers:\n",
    "   print(i, layer, layer.trainable)\n",
    "   i = i + 1"
   ]
  },
  {
   "cell_type": "code",
   "execution_count": 39,
   "id": "tRsaswR8vLjm",
   "metadata": {
    "executionInfo": {
     "elapsed": 395,
     "status": "ok",
     "timestamp": 1667399467341,
     "user": {
      "displayName": "Apnatva Rawat",
      "userId": "09178246128563254772"
     },
     "user_tz": 0
    },
    "id": "tRsaswR8vLjm"
   },
   "outputs": [],
   "source": [
    "for i in range(13,20):\n",
    "  finetuned_model.layers[i].trainable = True"
   ]
  },
  {
   "cell_type": "code",
   "execution_count": null,
   "id": "cf6f21f6",
   "metadata": {
    "id": "cf6f21f6"
   },
   "outputs": [],
   "source": [
    "# TODO compile model \n",
    "import tensorflow as tf\n",
    "# finetuned_model.compile(...)\n",
    "opt = tf.keras.optimizers.Adam(learning_rate=0.002, decay=1e-5)\n",
    "# opt = tf.keras.optimizers.SGD(learning_rate=0.02, decay=1e-6, momentum=0.9, nesterov=True)\n",
    "\n",
    "finetuned_model.compile(optimizer = opt, loss = 'categorical_crossentropy', metrics = ['accuracy'])\n",
    "# finetuned_model.summary(...)\n",
    "\n",
    "# loading the pre-trained weights from your lab-05 network\n",
    "finetuned_model.summary()\n",
    "finetuned_model.load_weights(\"../lab-05/model.h5\")\n"
   ]
  },
  {
   "cell_type": "code",
   "execution_count": null,
   "id": "a2bd4319",
   "metadata": {
    "colab": {
     "base_uri": "https://localhost:8080/",
     "height": 456
    },
    "id": "a2bd4319",
    "outputId": "27ed46ff-a2f5-44b1-9ffe-6745a4435567"
   },
   "outputs": [
    {
     "data": {
      "image/png": "[encoded data removed]",
      "text/plain": [
       "<Figure size 1152x432 with 2 Axes>"
      ]
     },
     "metadata": {
      "needs_background": "light"
     },
     "output_type": "display_data"
    },
    {
     "name": "stdout",
     "output_type": "stream",
     "text": [
      "\b\b\b\b\b\b\b\b\b\b\b\b\b\b\b\b\b\b\b\b\b\b\b\b\b\b\b\b\b\b\b\b\b\b\b\b\b\b\b\b\b\b\b\b\b\b\b\b\b\b\b\b\b\b\b\b\b\b\b\b\b\b\b\b\b\b\b\b\b\b\b\b\b\b\b\b\b\b\b\b\r",
      "9/9 [==============================] - 11s 1s/step - loss: 0.3677 - accuracy: 0.8822 - val_loss: 0.9281 - val_accuracy: 0.7540\n",
      "Epoch 2/5\n",
      "9/9 [==============================] - ETA: 0s - loss: 0.3514 - accuracy: 0.8829"
     ]
    }
   ],
   "source": [
    "# TODO train 'model' on (X_train, Y_train) for 10 or so epochs  \n",
    "# What you should be able to observe is that the training is a bit slower than\n",
    "# in the previous case. This is partly because we haven't re-initialised the weights.\n",
    "num_epochs = 5\n",
    "\n",
    "pltCallBack = PlotLossAccuracy()\n",
    "\n",
    "finetuned_model.fit(X_train, Y_train,\n",
    "          batch_size=512, epochs=num_epochs, \n",
    "          validation_data=(X_validation, Y_validation), \n",
    "          callbacks=[pltCallBack])"
   ]
  },
  {
   "cell_type": "code",
   "execution_count": 64,
   "id": "7bcb4560",
   "metadata": {
    "colab": {
     "base_uri": "https://localhost:8080/"
    },
    "executionInfo": {
     "elapsed": 1548,
     "status": "ok",
     "timestamp": 1667404497981,
     "user": {
      "displayName": "Apnatva Rawat",
      "userId": "09178246128563254772"
     },
     "user_tz": 0
    },
    "id": "7bcb4560",
    "outputId": "a22652b3-4b32-45b6-bf4b-c2b6217949be"
   },
   "outputs": [
    {
     "name": "stdout",
     "output_type": "stream",
     "text": [
      "Saved model to finetuned_model.json and weights to finetuned_model.h5\n"
     ]
    }
   ],
   "source": [
    "# write model to model.json and weights to model.h5 for submission\n",
    "# you'll need to get 75% accuracy to get full marks\n",
    "\n",
    "save_finetuned_model_to_disk()"
   ]
  },
  {
   "cell_type": "code",
   "execution_count": null,
   "id": "gyb8EOFUxtRk",
   "metadata": {
    "id": "gyb8EOFUxtRk"
   },
   "outputs": [],
   "source": []
  }
 ],
 "metadata": {
  "colab": {
   "collapsed_sections": [],
   "provenance": []
  },
  "kernelspec": {
   "display_name": "Python 3 (ipykernel)",
   "language": "python",
   "name": "python3"
  },
  "language_info": {
   "codemirror_mode": {
    "name": "ipython",
    "version": 3
   },
   "file_extension": ".py",
   "mimetype": "text/x-python",
   "name": "python",
   "nbconvert_exporter": "python",
   "pygments_lexer": "ipython3",
   "version": "3.9.7"
  }
 },
 "nbformat": 4,
 "nbformat_minor": 5
}
