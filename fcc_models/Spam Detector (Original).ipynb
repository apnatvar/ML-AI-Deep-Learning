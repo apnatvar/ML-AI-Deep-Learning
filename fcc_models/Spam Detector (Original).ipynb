{
  "cells": [
    {
      "cell_type": "markdown",
      "metadata": {
        "id": "Eg62Pmz3o83v"
      },
      "source": [
        "*Note: You are currently reading this using Google Colaboratory which is a cloud-hosted version of Jupyter Notebook. This is a document containing both text cells for documentation and runnable code cells. If you are unfamiliar with Jupyter Notebook, watch this 3-minute introduction before starting this challenge: https://www.youtube.com/watch?v=inN8seMm7UI*\n",
        "\n",
        "---\n",
        "\n",
        "In this challenge, you need to create a machine learning model that will classify SMS messages as either \"ham\" or \"spam\". A \"ham\" message is a normal message sent by a friend. A \"spam\" message is an advertisement or a message sent by a company.\n",
        "\n",
        "You should create a function called `predict_message` that takes a message string as an argument and returns a list. The first element in the list should be a number between zero and one that indicates the likeliness of \"ham\" (0) or \"spam\" (1). The second element in the list should be the word \"ham\" or \"spam\", depending on which is most likely.\n",
        "\n",
        "For this challenge, you will use the [SMS Spam Collection dataset](http://www.dt.fee.unicamp.br/~tiago/smsspamcollection/). The dataset has already been grouped into train data and test data.\n",
        "\n",
        "The first two cells import the libraries and data. The final cell tests your model and function. Add your code in between these cells.\n"
      ]
    },
    {
      "cell_type": "code",
      "execution_count": null,
      "metadata": {
        "id": "8RZOuS9LWQvv"
      },
      "outputs": [],
      "source": [
        "# import libraries\n",
        "try:\n",
        "  # %tensorflow_version only exists in Colab.\n",
        "  !pip install tf-nightly\n",
        "except Exception:\n",
        "  pass\n",
        "import tensorflow as tf\n",
        "import pandas as pd\n",
        "from tensorflow import keras\n",
        "!pip install tensorflow-datasets\n",
        "import tensorflow_datasets as tfds\n",
        "import numpy as np\n",
        "import matplotlib.pyplot as plt\n",
        "from keras.utils import pad_sequences\n",
        "from keras.preprocessing.text import Tokenizer \n",
        "print(tf.__version__)"
      ]
    },
    {
      "cell_type": "code",
      "execution_count": null,
      "metadata": {
        "id": "lMHwYXHXCar3"
      },
      "outputs": [],
      "source": [
        "# get data files\n",
        "!wget https://cdn.freecodecamp.org/project-data/sms/train-data.tsv\n",
        "!wget https://cdn.freecodecamp.org/project-data/sms/valid-data.tsv\n",
        "\n",
        "train_file_path = \"train-data.tsv\"\n",
        "test_file_path = \"valid-data.tsv\""
      ]
    },
    {
      "cell_type": "code",
      "source": [
        "df_train = pd.read_csv(train_file_path, sep='\\t', header=0,\n",
        "    names=['h_or_s', 'text'])\n",
        "df_test = pd.read_csv(test_file_path, sep='\\t', header=0,\n",
        "    names=['h_or_s', 'text'])\n",
        "df_train.head()\n",
        "df_test.head()"
      ],
      "metadata": {
        "colab": {
          "base_uri": "https://localhost:8080/",
          "height": 206
        },
        "id": "TzI6lqZeN2uX",
        "outputId": "c8ed63ca-1cf7-43f4-b27c-e3ab8d858650"
      },
      "execution_count": 89,
      "outputs": [
        {
          "output_type": "execute_result",
          "data": {
            "text/plain": [
              "  h_or_s                                               text\n",
              "0    ham         not much, just some textin'. how bout you?\n",
              "1    ham  i probably won't eat at all today. i think i'm...\n",
              "2    ham  don‘t give a flying monkeys wot they think and...\n",
              "3    ham                                who are you seeing?\n",
              "4    ham  your opinion about me? 1. over 2. jada 3. kusr..."
            ],
            "text/html": [
              "\n",
              "  <div id=\"df-658a136d-4406-43df-8faa-f2faac41876d\">\n",
              "    <div class=\"colab-df-container\">\n",
              "      <div>\n",
              "<style scoped>\n",
              "    .dataframe tbody tr th:only-of-type {\n",
              "        vertical-align: middle;\n",
              "    }\n",
              "\n",
              "    .dataframe tbody tr th {\n",
              "        vertical-align: top;\n",
              "    }\n",
              "\n",
              "    .dataframe thead th {\n",
              "        text-align: right;\n",
              "    }\n",
              "</style>\n",
              "<table border=\"1\" class=\"dataframe\">\n",
              "  <thead>\n",
              "    <tr style=\"text-align: right;\">\n",
              "      <th></th>\n",
              "      <th>h_or_s</th>\n",
              "      <th>text</th>\n",
              "    </tr>\n",
              "  </thead>\n",
              "  <tbody>\n",
              "    <tr>\n",
              "      <th>0</th>\n",
              "      <td>ham</td>\n",
              "      <td>not much, just some textin'. how bout you?</td>\n",
              "    </tr>\n",
              "    <tr>\n",
              "      <th>1</th>\n",
              "      <td>ham</td>\n",
              "      <td>i probably won't eat at all today. i think i'm...</td>\n",
              "    </tr>\n",
              "    <tr>\n",
              "      <th>2</th>\n",
              "      <td>ham</td>\n",
              "      <td>don‘t give a flying monkeys wot they think and...</td>\n",
              "    </tr>\n",
              "    <tr>\n",
              "      <th>3</th>\n",
              "      <td>ham</td>\n",
              "      <td>who are you seeing?</td>\n",
              "    </tr>\n",
              "    <tr>\n",
              "      <th>4</th>\n",
              "      <td>ham</td>\n",
              "      <td>your opinion about me? 1. over 2. jada 3. kusr...</td>\n",
              "    </tr>\n",
              "  </tbody>\n",
              "</table>\n",
              "</div>\n",
              "      <button class=\"colab-df-convert\" onclick=\"convertToInteractive('df-658a136d-4406-43df-8faa-f2faac41876d')\"\n",
              "              title=\"Convert this dataframe to an interactive table.\"\n",
              "              style=\"display:none;\">\n",
              "        \n",
              "  <svg xmlns=\"http://www.w3.org/2000/svg\" height=\"24px\"viewBox=\"0 0 24 24\"\n",
              "       width=\"24px\">\n",
              "    <path d=\"M0 0h24v24H0V0z\" fill=\"none\"/>\n",
              "    <path d=\"M18.56 5.44l.94 2.06.94-2.06 2.06-.94-2.06-.94-.94-2.06-.94 2.06-2.06.94zm-11 1L8.5 8.5l.94-2.06 2.06-.94-2.06-.94L8.5 2.5l-.94 2.06-2.06.94zm10 10l.94 2.06.94-2.06 2.06-.94-2.06-.94-.94-2.06-.94 2.06-2.06.94z\"/><path d=\"M17.41 7.96l-1.37-1.37c-.4-.4-.92-.59-1.43-.59-.52 0-1.04.2-1.43.59L10.3 9.45l-7.72 7.72c-.78.78-.78 2.05 0 2.83L4 21.41c.39.39.9.59 1.41.59.51 0 1.02-.2 1.41-.59l7.78-7.78 2.81-2.81c.8-.78.8-2.07 0-2.86zM5.41 20L4 18.59l7.72-7.72 1.47 1.35L5.41 20z\"/>\n",
              "  </svg>\n",
              "      </button>\n",
              "      \n",
              "  <style>\n",
              "    .colab-df-container {\n",
              "      display:flex;\n",
              "      flex-wrap:wrap;\n",
              "      gap: 12px;\n",
              "    }\n",
              "\n",
              "    .colab-df-convert {\n",
              "      background-color: #E8F0FE;\n",
              "      border: none;\n",
              "      border-radius: 50%;\n",
              "      cursor: pointer;\n",
              "      display: none;\n",
              "      fill: #1967D2;\n",
              "      height: 32px;\n",
              "      padding: 0 0 0 0;\n",
              "      width: 32px;\n",
              "    }\n",
              "\n",
              "    .colab-df-convert:hover {\n",
              "      background-color: #E2EBFA;\n",
              "      box-shadow: 0px 1px 2px rgba(60, 64, 67, 0.3), 0px 1px 3px 1px rgba(60, 64, 67, 0.15);\n",
              "      fill: #174EA6;\n",
              "    }\n",
              "\n",
              "    [theme=dark] .colab-df-convert {\n",
              "      background-color: #3B4455;\n",
              "      fill: #D2E3FC;\n",
              "    }\n",
              "\n",
              "    [theme=dark] .colab-df-convert:hover {\n",
              "      background-color: #434B5C;\n",
              "      box-shadow: 0px 1px 3px 1px rgba(0, 0, 0, 0.15);\n",
              "      filter: drop-shadow(0px 1px 2px rgba(0, 0, 0, 0.3));\n",
              "      fill: #FFFFFF;\n",
              "    }\n",
              "  </style>\n",
              "\n",
              "      <script>\n",
              "        const buttonEl =\n",
              "          document.querySelector('#df-658a136d-4406-43df-8faa-f2faac41876d button.colab-df-convert');\n",
              "        buttonEl.style.display =\n",
              "          google.colab.kernel.accessAllowed ? 'block' : 'none';\n",
              "\n",
              "        async function convertToInteractive(key) {\n",
              "          const element = document.querySelector('#df-658a136d-4406-43df-8faa-f2faac41876d');\n",
              "          const dataTable =\n",
              "            await google.colab.kernel.invokeFunction('convertToInteractive',\n",
              "                                                     [key], {});\n",
              "          if (!dataTable) return;\n",
              "\n",
              "          const docLinkHtml = 'Like what you see? Visit the ' +\n",
              "            '<a target=\"_blank\" href=https://colab.research.google.com/notebooks/data_table.ipynb>data table notebook</a>'\n",
              "            + ' to learn more about interactive tables.';\n",
              "          element.innerHTML = '';\n",
              "          dataTable['output_type'] = 'display_data';\n",
              "          await google.colab.output.renderOutput(dataTable, element);\n",
              "          const docLink = document.createElement('div');\n",
              "          docLink.innerHTML = docLinkHtml;\n",
              "          element.appendChild(docLink);\n",
              "        }\n",
              "      </script>\n",
              "    </div>\n",
              "  </div>\n",
              "  "
            ]
          },
          "metadata": {},
          "execution_count": 89
        }
      ]
    },
    {
      "cell_type": "code",
      "source": [
        "import string\n",
        "import nltk\n",
        "nltk.download('stopwords')\n",
        "from nltk.corpus import stopwords"
      ],
      "metadata": {
        "colab": {
          "base_uri": "https://localhost:8080/"
        },
        "id": "HWBnLwTdHNab",
        "outputId": "26b7a5ed-0b86-4e20-d207-480ebc0d11ca"
      },
      "execution_count": 81,
      "outputs": [
        {
          "output_type": "stream",
          "name": "stderr",
          "text": [
            "[nltk_data] Downloading package stopwords to /root/nltk_data...\n",
            "[nltk_data]   Package stopwords is already up-to-date!\n"
          ]
        }
      ]
    },
    {
      "cell_type": "code",
      "source": [
        "maxLen = 50\n",
        "vocabSize = 40000\n",
        "df_train.isnull().sum()\n",
        "df_train['h_or_s'] = [0 if i=='ham' else 1 for i in df_train['h_or_s']]"
      ],
      "metadata": {
        "id": "8O5AzWTTQdfx"
      },
      "execution_count": 90,
      "outputs": []
    },
    {
      "cell_type": "code",
      "source": [
        "print(df_train.groupby('h_or_s').count())\n",
        "print(df_test.groupby('h_or_s').count())"
      ],
      "metadata": {
        "colab": {
          "base_uri": "https://localhost:8080/"
        },
        "id": "f4MrNHNiBHJz",
        "outputId": "a2b16841-0e3b-4bbc-8b15-535bb2b57441"
      },
      "execution_count": 91,
      "outputs": [
        {
          "output_type": "stream",
          "name": "stdout",
          "text": [
            "        text\n",
            "h_or_s      \n",
            "0       3618\n",
            "1        560\n",
            "        text\n",
            "h_or_s      \n",
            "ham     1204\n",
            "spam     187\n"
          ]
        }
      ]
    },
    {
      "cell_type": "code",
      "source": [
        "cleanText = []\n",
        "for sentence in df_train['text']:\n",
        "  k = ''\n",
        "  for i in sentence:\n",
        "    if i not in string.punctuation:\n",
        "      k += i\n",
        "  cleanText.append(k)\n",
        "df_train['text'] = cleanText"
      ],
      "metadata": {
        "id": "S2n0n_IBqxws"
      },
      "execution_count": 92,
      "outputs": []
    },
    {
      "cell_type": "code",
      "source": [
        "# print(df_train.groupby(['h_or_s','text']).size().reset_index(name='Count'))\n",
        "print(len(df_train))\n",
        "print(len(df_train[['h_or_s','text']].drop_duplicates()))"
      ],
      "metadata": {
        "colab": {
          "base_uri": "https://localhost:8080/"
        },
        "id": "lyJrzf5T3WA3",
        "outputId": "5b78ef50-9fb9-42d4-8704-54f2288dd1f9"
      },
      "execution_count": 93,
      "outputs": [
        {
          "output_type": "stream",
          "name": "stdout",
          "text": [
            "4178\n",
            "3916\n"
          ]
        }
      ]
    },
    {
      "cell_type": "code",
      "source": [
        "df_train = df_train[['h_or_s','text']].drop_duplicates()\n",
        "print(df_train.groupby('h_or_s').count())\n",
        "print(df_test.groupby('h_or_s').count())"
      ],
      "metadata": {
        "colab": {
          "base_uri": "https://localhost:8080/"
        },
        "id": "pX7pb1WL4u9U",
        "outputId": "9f828d38-bf8e-4099-dc02-24a380f5ea64"
      },
      "execution_count": 94,
      "outputs": [
        {
          "output_type": "stream",
          "name": "stdout",
          "text": [
            "        text\n",
            "h_or_s      \n",
            "0       3418\n",
            "1        498\n",
            "        text\n",
            "h_or_s      \n",
            "ham     1204\n",
            "spam     187\n"
          ]
        }
      ]
    },
    {
      "cell_type": "code",
      "source": [
        "df_train.head()\n",
        "df_train['text'] = [i.split() for i in df_train['text']]"
      ],
      "metadata": {
        "id": "_n78AJo45a5V"
      },
      "execution_count": 95,
      "outputs": []
    },
    {
      "cell_type": "code",
      "source": [
        "df_train.head()\n",
        "cleanText = []\n",
        "for sentences in df_train['text']:\n",
        "  k = ''\n",
        "  for words in sentences:\n",
        "    if words.isalpha():\n",
        "      # if words.lower() in stopwords.words('english'):\n",
        "      k += words + \" \"\n",
        "  cleanText.append(k)\n",
        "df_train['ctext'] = cleanText\n",
        "df_train.head()"
      ],
      "metadata": {
        "colab": {
          "base_uri": "https://localhost:8080/",
          "height": 206
        },
        "id": "TEilVMZq_qcc",
        "outputId": "bd89402d-6322-43f0-f4b1-e05798867745"
      },
      "execution_count": 96,
      "outputs": [
        {
          "output_type": "execute_result",
          "data": {
            "text/plain": [
              "   h_or_s                                               text  \\\n",
              "0       0                     [you, can, never, do, nothing]   \n",
              "1       0  [now, u, sound, like, manky, scouse, boy, stev...   \n",
              "2       0  [mum, say, we, wan, to, go, then, go, then, sh...   \n",
              "3       0  [never, y, lei, i, v, lazy, got, wat, dat, day...   \n",
              "4       0  [in, xam, hall, boy, asked, girl, tell, me, th...   \n",
              "\n",
              "                                               ctext  \n",
              "0                          you can never do nothing   \n",
              "1  now u sound like manky scouse boy stevelike i ...  \n",
              "2  mum say we wan to go then go then she can shun...  \n",
              "3  never y lei i v lazy got wat dat day ü send me...  \n",
              "4  in xam hall boy asked girl tell me the startin...  "
            ],
            "text/html": [
              "\n",
              "  <div id=\"df-6807c3ae-7406-483c-a036-2223cd4fb11a\">\n",
              "    <div class=\"colab-df-container\">\n",
              "      <div>\n",
              "<style scoped>\n",
              "    .dataframe tbody tr th:only-of-type {\n",
              "        vertical-align: middle;\n",
              "    }\n",
              "\n",
              "    .dataframe tbody tr th {\n",
              "        vertical-align: top;\n",
              "    }\n",
              "\n",
              "    .dataframe thead th {\n",
              "        text-align: right;\n",
              "    }\n",
              "</style>\n",
              "<table border=\"1\" class=\"dataframe\">\n",
              "  <thead>\n",
              "    <tr style=\"text-align: right;\">\n",
              "      <th></th>\n",
              "      <th>h_or_s</th>\n",
              "      <th>text</th>\n",
              "      <th>ctext</th>\n",
              "    </tr>\n",
              "  </thead>\n",
              "  <tbody>\n",
              "    <tr>\n",
              "      <th>0</th>\n",
              "      <td>0</td>\n",
              "      <td>[you, can, never, do, nothing]</td>\n",
              "      <td>you can never do nothing</td>\n",
              "    </tr>\n",
              "    <tr>\n",
              "      <th>1</th>\n",
              "      <td>0</td>\n",
              "      <td>[now, u, sound, like, manky, scouse, boy, stev...</td>\n",
              "      <td>now u sound like manky scouse boy stevelike i ...</td>\n",
              "    </tr>\n",
              "    <tr>\n",
              "      <th>2</th>\n",
              "      <td>0</td>\n",
              "      <td>[mum, say, we, wan, to, go, then, go, then, sh...</td>\n",
              "      <td>mum say we wan to go then go then she can shun...</td>\n",
              "    </tr>\n",
              "    <tr>\n",
              "      <th>3</th>\n",
              "      <td>0</td>\n",
              "      <td>[never, y, lei, i, v, lazy, got, wat, dat, day...</td>\n",
              "      <td>never y lei i v lazy got wat dat day ü send me...</td>\n",
              "    </tr>\n",
              "    <tr>\n",
              "      <th>4</th>\n",
              "      <td>0</td>\n",
              "      <td>[in, xam, hall, boy, asked, girl, tell, me, th...</td>\n",
              "      <td>in xam hall boy asked girl tell me the startin...</td>\n",
              "    </tr>\n",
              "  </tbody>\n",
              "</table>\n",
              "</div>\n",
              "      <button class=\"colab-df-convert\" onclick=\"convertToInteractive('df-6807c3ae-7406-483c-a036-2223cd4fb11a')\"\n",
              "              title=\"Convert this dataframe to an interactive table.\"\n",
              "              style=\"display:none;\">\n",
              "        \n",
              "  <svg xmlns=\"http://www.w3.org/2000/svg\" height=\"24px\"viewBox=\"0 0 24 24\"\n",
              "       width=\"24px\">\n",
              "    <path d=\"M0 0h24v24H0V0z\" fill=\"none\"/>\n",
              "    <path d=\"M18.56 5.44l.94 2.06.94-2.06 2.06-.94-2.06-.94-.94-2.06-.94 2.06-2.06.94zm-11 1L8.5 8.5l.94-2.06 2.06-.94-2.06-.94L8.5 2.5l-.94 2.06-2.06.94zm10 10l.94 2.06.94-2.06 2.06-.94-2.06-.94-.94-2.06-.94 2.06-2.06.94z\"/><path d=\"M17.41 7.96l-1.37-1.37c-.4-.4-.92-.59-1.43-.59-.52 0-1.04.2-1.43.59L10.3 9.45l-7.72 7.72c-.78.78-.78 2.05 0 2.83L4 21.41c.39.39.9.59 1.41.59.51 0 1.02-.2 1.41-.59l7.78-7.78 2.81-2.81c.8-.78.8-2.07 0-2.86zM5.41 20L4 18.59l7.72-7.72 1.47 1.35L5.41 20z\"/>\n",
              "  </svg>\n",
              "      </button>\n",
              "      \n",
              "  <style>\n",
              "    .colab-df-container {\n",
              "      display:flex;\n",
              "      flex-wrap:wrap;\n",
              "      gap: 12px;\n",
              "    }\n",
              "\n",
              "    .colab-df-convert {\n",
              "      background-color: #E8F0FE;\n",
              "      border: none;\n",
              "      border-radius: 50%;\n",
              "      cursor: pointer;\n",
              "      display: none;\n",
              "      fill: #1967D2;\n",
              "      height: 32px;\n",
              "      padding: 0 0 0 0;\n",
              "      width: 32px;\n",
              "    }\n",
              "\n",
              "    .colab-df-convert:hover {\n",
              "      background-color: #E2EBFA;\n",
              "      box-shadow: 0px 1px 2px rgba(60, 64, 67, 0.3), 0px 1px 3px 1px rgba(60, 64, 67, 0.15);\n",
              "      fill: #174EA6;\n",
              "    }\n",
              "\n",
              "    [theme=dark] .colab-df-convert {\n",
              "      background-color: #3B4455;\n",
              "      fill: #D2E3FC;\n",
              "    }\n",
              "\n",
              "    [theme=dark] .colab-df-convert:hover {\n",
              "      background-color: #434B5C;\n",
              "      box-shadow: 0px 1px 3px 1px rgba(0, 0, 0, 0.15);\n",
              "      filter: drop-shadow(0px 1px 2px rgba(0, 0, 0, 0.3));\n",
              "      fill: #FFFFFF;\n",
              "    }\n",
              "  </style>\n",
              "\n",
              "      <script>\n",
              "        const buttonEl =\n",
              "          document.querySelector('#df-6807c3ae-7406-483c-a036-2223cd4fb11a button.colab-df-convert');\n",
              "        buttonEl.style.display =\n",
              "          google.colab.kernel.accessAllowed ? 'block' : 'none';\n",
              "\n",
              "        async function convertToInteractive(key) {\n",
              "          const element = document.querySelector('#df-6807c3ae-7406-483c-a036-2223cd4fb11a');\n",
              "          const dataTable =\n",
              "            await google.colab.kernel.invokeFunction('convertToInteractive',\n",
              "                                                     [key], {});\n",
              "          if (!dataTable) return;\n",
              "\n",
              "          const docLinkHtml = 'Like what you see? Visit the ' +\n",
              "            '<a target=\"_blank\" href=https://colab.research.google.com/notebooks/data_table.ipynb>data table notebook</a>'\n",
              "            + ' to learn more about interactive tables.';\n",
              "          element.innerHTML = '';\n",
              "          dataTable['output_type'] = 'display_data';\n",
              "          await google.colab.output.renderOutput(dataTable, element);\n",
              "          const docLink = document.createElement('div');\n",
              "          docLink.innerHTML = docLinkHtml;\n",
              "          element.appendChild(docLink);\n",
              "        }\n",
              "      </script>\n",
              "    </div>\n",
              "  </div>\n",
              "  "
            ]
          },
          "metadata": {},
          "execution_count": 96
        }
      ]
    },
    {
      "cell_type": "code",
      "source": [
        "df_train['length1'] = [len(i) for i in df_train['text']]\n",
        "df_train.describe()\n",
        "# for i in range(len(df_train)):\n",
        "#   print(df_train.iloc[i])\n",
        "#   break\n",
        "# df_train.query(\"h_or_s == 0\").sample(n=2)\n",
        "# df_train1 = df_train[ledf_train['ctext']]"
      ],
      "metadata": {
        "colab": {
          "base_uri": "https://localhost:8080/",
          "height": 300
        },
        "id": "KT1q91JYKL-e",
        "outputId": "82f7598a-3242-46b8-cd71-b1758f8e103e"
      },
      "execution_count": 97,
      "outputs": [
        {
          "output_type": "execute_result",
          "data": {
            "text/plain": [
              "            h_or_s      length1\n",
              "count  3916.000000  3916.000000\n",
              "mean      0.127171    15.277324\n",
              "std       0.333207    10.975147\n",
              "min       0.000000     0.000000\n",
              "25%       0.000000     7.000000\n",
              "50%       0.000000    12.000000\n",
              "75%       0.000000    22.000000\n",
              "max       1.000000   171.000000"
            ],
            "text/html": [
              "\n",
              "  <div id=\"df-6815380c-cb83-439a-9401-a46adfee6daa\">\n",
              "    <div class=\"colab-df-container\">\n",
              "      <div>\n",
              "<style scoped>\n",
              "    .dataframe tbody tr th:only-of-type {\n",
              "        vertical-align: middle;\n",
              "    }\n",
              "\n",
              "    .dataframe tbody tr th {\n",
              "        vertical-align: top;\n",
              "    }\n",
              "\n",
              "    .dataframe thead th {\n",
              "        text-align: right;\n",
              "    }\n",
              "</style>\n",
              "<table border=\"1\" class=\"dataframe\">\n",
              "  <thead>\n",
              "    <tr style=\"text-align: right;\">\n",
              "      <th></th>\n",
              "      <th>h_or_s</th>\n",
              "      <th>length1</th>\n",
              "    </tr>\n",
              "  </thead>\n",
              "  <tbody>\n",
              "    <tr>\n",
              "      <th>count</th>\n",
              "      <td>3916.000000</td>\n",
              "      <td>3916.000000</td>\n",
              "    </tr>\n",
              "    <tr>\n",
              "      <th>mean</th>\n",
              "      <td>0.127171</td>\n",
              "      <td>15.277324</td>\n",
              "    </tr>\n",
              "    <tr>\n",
              "      <th>std</th>\n",
              "      <td>0.333207</td>\n",
              "      <td>10.975147</td>\n",
              "    </tr>\n",
              "    <tr>\n",
              "      <th>min</th>\n",
              "      <td>0.000000</td>\n",
              "      <td>0.000000</td>\n",
              "    </tr>\n",
              "    <tr>\n",
              "      <th>25%</th>\n",
              "      <td>0.000000</td>\n",
              "      <td>7.000000</td>\n",
              "    </tr>\n",
              "    <tr>\n",
              "      <th>50%</th>\n",
              "      <td>0.000000</td>\n",
              "      <td>12.000000</td>\n",
              "    </tr>\n",
              "    <tr>\n",
              "      <th>75%</th>\n",
              "      <td>0.000000</td>\n",
              "      <td>22.000000</td>\n",
              "    </tr>\n",
              "    <tr>\n",
              "      <th>max</th>\n",
              "      <td>1.000000</td>\n",
              "      <td>171.000000</td>\n",
              "    </tr>\n",
              "  </tbody>\n",
              "</table>\n",
              "</div>\n",
              "      <button class=\"colab-df-convert\" onclick=\"convertToInteractive('df-6815380c-cb83-439a-9401-a46adfee6daa')\"\n",
              "              title=\"Convert this dataframe to an interactive table.\"\n",
              "              style=\"display:none;\">\n",
              "        \n",
              "  <svg xmlns=\"http://www.w3.org/2000/svg\" height=\"24px\"viewBox=\"0 0 24 24\"\n",
              "       width=\"24px\">\n",
              "    <path d=\"M0 0h24v24H0V0z\" fill=\"none\"/>\n",
              "    <path d=\"M18.56 5.44l.94 2.06.94-2.06 2.06-.94-2.06-.94-.94-2.06-.94 2.06-2.06.94zm-11 1L8.5 8.5l.94-2.06 2.06-.94-2.06-.94L8.5 2.5l-.94 2.06-2.06.94zm10 10l.94 2.06.94-2.06 2.06-.94-2.06-.94-.94-2.06-.94 2.06-2.06.94z\"/><path d=\"M17.41 7.96l-1.37-1.37c-.4-.4-.92-.59-1.43-.59-.52 0-1.04.2-1.43.59L10.3 9.45l-7.72 7.72c-.78.78-.78 2.05 0 2.83L4 21.41c.39.39.9.59 1.41.59.51 0 1.02-.2 1.41-.59l7.78-7.78 2.81-2.81c.8-.78.8-2.07 0-2.86zM5.41 20L4 18.59l7.72-7.72 1.47 1.35L5.41 20z\"/>\n",
              "  </svg>\n",
              "      </button>\n",
              "      \n",
              "  <style>\n",
              "    .colab-df-container {\n",
              "      display:flex;\n",
              "      flex-wrap:wrap;\n",
              "      gap: 12px;\n",
              "    }\n",
              "\n",
              "    .colab-df-convert {\n",
              "      background-color: #E8F0FE;\n",
              "      border: none;\n",
              "      border-radius: 50%;\n",
              "      cursor: pointer;\n",
              "      display: none;\n",
              "      fill: #1967D2;\n",
              "      height: 32px;\n",
              "      padding: 0 0 0 0;\n",
              "      width: 32px;\n",
              "    }\n",
              "\n",
              "    .colab-df-convert:hover {\n",
              "      background-color: #E2EBFA;\n",
              "      box-shadow: 0px 1px 2px rgba(60, 64, 67, 0.3), 0px 1px 3px 1px rgba(60, 64, 67, 0.15);\n",
              "      fill: #174EA6;\n",
              "    }\n",
              "\n",
              "    [theme=dark] .colab-df-convert {\n",
              "      background-color: #3B4455;\n",
              "      fill: #D2E3FC;\n",
              "    }\n",
              "\n",
              "    [theme=dark] .colab-df-convert:hover {\n",
              "      background-color: #434B5C;\n",
              "      box-shadow: 0px 1px 3px 1px rgba(0, 0, 0, 0.15);\n",
              "      filter: drop-shadow(0px 1px 2px rgba(0, 0, 0, 0.3));\n",
              "      fill: #FFFFFF;\n",
              "    }\n",
              "  </style>\n",
              "\n",
              "      <script>\n",
              "        const buttonEl =\n",
              "          document.querySelector('#df-6815380c-cb83-439a-9401-a46adfee6daa button.colab-df-convert');\n",
              "        buttonEl.style.display =\n",
              "          google.colab.kernel.accessAllowed ? 'block' : 'none';\n",
              "\n",
              "        async function convertToInteractive(key) {\n",
              "          const element = document.querySelector('#df-6815380c-cb83-439a-9401-a46adfee6daa');\n",
              "          const dataTable =\n",
              "            await google.colab.kernel.invokeFunction('convertToInteractive',\n",
              "                                                     [key], {});\n",
              "          if (!dataTable) return;\n",
              "\n",
              "          const docLinkHtml = 'Like what you see? Visit the ' +\n",
              "            '<a target=\"_blank\" href=https://colab.research.google.com/notebooks/data_table.ipynb>data table notebook</a>'\n",
              "            + ' to learn more about interactive tables.';\n",
              "          element.innerHTML = '';\n",
              "          dataTable['output_type'] = 'display_data';\n",
              "          await google.colab.output.renderOutput(dataTable, element);\n",
              "          const docLink = document.createElement('div');\n",
              "          docLink.innerHTML = docLinkHtml;\n",
              "          element.appendChild(docLink);\n",
              "        }\n",
              "      </script>\n",
              "    </div>\n",
              "  </div>\n",
              "  "
            ]
          },
          "metadata": {},
          "execution_count": 97
        }
      ]
    },
    {
      "cell_type": "code",
      "source": [
        "xyz = df_train.query(\"h_or_s == 0\").sample(n=550)\n",
        "abc = df_train.query(\"h_or_s == 1\").sample(n=498)\n",
        "xyz = xyz.append(abc)\n",
        "df_train_f = xyz.sample(frac = 1)\n",
        "df_train_f.head()"
      ],
      "metadata": {
        "colab": {
          "base_uri": "https://localhost:8080/",
          "height": 206
        },
        "id": "R39Q5zmJROH_",
        "outputId": "306e6b1f-765a-47ae-c923-b559684d3cc6"
      },
      "execution_count": 98,
      "outputs": [
        {
          "output_type": "execute_result",
          "data": {
            "text/plain": [
              "      h_or_s                                               text  \\\n",
              "734        1  [free, video, camera, phones, with, half, pric...   \n",
              "91         0  [i, dont, know, jack, shit, about, anything, o...   \n",
              "985        1  [dear, matthew, please, call, 09063440451, fro...   \n",
              "2534       1  [monthly, password, for, wap, mobsicom, is, 39...   \n",
              "3948       0           [i, gotta, collect, da, car, at, 6, lei]   \n",
              "\n",
              "                                                  ctext  length1  \n",
              "734   free video camera phones with half price line ...       24  \n",
              "91    i dont know jack shit about anything or id say...       32  \n",
              "985   dear matthew please call from a landline your ...       23  \n",
              "2534  monthly password for wap mobsicom is use your ...       13  \n",
              "3948                     i gotta collect da car at lei         8  "
            ],
            "text/html": [
              "\n",
              "  <div id=\"df-4a04cdf0-db11-4609-84c6-cebd153c6a45\">\n",
              "    <div class=\"colab-df-container\">\n",
              "      <div>\n",
              "<style scoped>\n",
              "    .dataframe tbody tr th:only-of-type {\n",
              "        vertical-align: middle;\n",
              "    }\n",
              "\n",
              "    .dataframe tbody tr th {\n",
              "        vertical-align: top;\n",
              "    }\n",
              "\n",
              "    .dataframe thead th {\n",
              "        text-align: right;\n",
              "    }\n",
              "</style>\n",
              "<table border=\"1\" class=\"dataframe\">\n",
              "  <thead>\n",
              "    <tr style=\"text-align: right;\">\n",
              "      <th></th>\n",
              "      <th>h_or_s</th>\n",
              "      <th>text</th>\n",
              "      <th>ctext</th>\n",
              "      <th>length1</th>\n",
              "    </tr>\n",
              "  </thead>\n",
              "  <tbody>\n",
              "    <tr>\n",
              "      <th>734</th>\n",
              "      <td>1</td>\n",
              "      <td>[free, video, camera, phones, with, half, pric...</td>\n",
              "      <td>free video camera phones with half price line ...</td>\n",
              "      <td>24</td>\n",
              "    </tr>\n",
              "    <tr>\n",
              "      <th>91</th>\n",
              "      <td>0</td>\n",
              "      <td>[i, dont, know, jack, shit, about, anything, o...</td>\n",
              "      <td>i dont know jack shit about anything or id say...</td>\n",
              "      <td>32</td>\n",
              "    </tr>\n",
              "    <tr>\n",
              "      <th>985</th>\n",
              "      <td>1</td>\n",
              "      <td>[dear, matthew, please, call, 09063440451, fro...</td>\n",
              "      <td>dear matthew please call from a landline your ...</td>\n",
              "      <td>23</td>\n",
              "    </tr>\n",
              "    <tr>\n",
              "      <th>2534</th>\n",
              "      <td>1</td>\n",
              "      <td>[monthly, password, for, wap, mobsicom, is, 39...</td>\n",
              "      <td>monthly password for wap mobsicom is use your ...</td>\n",
              "      <td>13</td>\n",
              "    </tr>\n",
              "    <tr>\n",
              "      <th>3948</th>\n",
              "      <td>0</td>\n",
              "      <td>[i, gotta, collect, da, car, at, 6, lei]</td>\n",
              "      <td>i gotta collect da car at lei</td>\n",
              "      <td>8</td>\n",
              "    </tr>\n",
              "  </tbody>\n",
              "</table>\n",
              "</div>\n",
              "      <button class=\"colab-df-convert\" onclick=\"convertToInteractive('df-4a04cdf0-db11-4609-84c6-cebd153c6a45')\"\n",
              "              title=\"Convert this dataframe to an interactive table.\"\n",
              "              style=\"display:none;\">\n",
              "        \n",
              "  <svg xmlns=\"http://www.w3.org/2000/svg\" height=\"24px\"viewBox=\"0 0 24 24\"\n",
              "       width=\"24px\">\n",
              "    <path d=\"M0 0h24v24H0V0z\" fill=\"none\"/>\n",
              "    <path d=\"M18.56 5.44l.94 2.06.94-2.06 2.06-.94-2.06-.94-.94-2.06-.94 2.06-2.06.94zm-11 1L8.5 8.5l.94-2.06 2.06-.94-2.06-.94L8.5 2.5l-.94 2.06-2.06.94zm10 10l.94 2.06.94-2.06 2.06-.94-2.06-.94-.94-2.06-.94 2.06-2.06.94z\"/><path d=\"M17.41 7.96l-1.37-1.37c-.4-.4-.92-.59-1.43-.59-.52 0-1.04.2-1.43.59L10.3 9.45l-7.72 7.72c-.78.78-.78 2.05 0 2.83L4 21.41c.39.39.9.59 1.41.59.51 0 1.02-.2 1.41-.59l7.78-7.78 2.81-2.81c.8-.78.8-2.07 0-2.86zM5.41 20L4 18.59l7.72-7.72 1.47 1.35L5.41 20z\"/>\n",
              "  </svg>\n",
              "      </button>\n",
              "      \n",
              "  <style>\n",
              "    .colab-df-container {\n",
              "      display:flex;\n",
              "      flex-wrap:wrap;\n",
              "      gap: 12px;\n",
              "    }\n",
              "\n",
              "    .colab-df-convert {\n",
              "      background-color: #E8F0FE;\n",
              "      border: none;\n",
              "      border-radius: 50%;\n",
              "      cursor: pointer;\n",
              "      display: none;\n",
              "      fill: #1967D2;\n",
              "      height: 32px;\n",
              "      padding: 0 0 0 0;\n",
              "      width: 32px;\n",
              "    }\n",
              "\n",
              "    .colab-df-convert:hover {\n",
              "      background-color: #E2EBFA;\n",
              "      box-shadow: 0px 1px 2px rgba(60, 64, 67, 0.3), 0px 1px 3px 1px rgba(60, 64, 67, 0.15);\n",
              "      fill: #174EA6;\n",
              "    }\n",
              "\n",
              "    [theme=dark] .colab-df-convert {\n",
              "      background-color: #3B4455;\n",
              "      fill: #D2E3FC;\n",
              "    }\n",
              "\n",
              "    [theme=dark] .colab-df-convert:hover {\n",
              "      background-color: #434B5C;\n",
              "      box-shadow: 0px 1px 3px 1px rgba(0, 0, 0, 0.15);\n",
              "      filter: drop-shadow(0px 1px 2px rgba(0, 0, 0, 0.3));\n",
              "      fill: #FFFFFF;\n",
              "    }\n",
              "  </style>\n",
              "\n",
              "      <script>\n",
              "        const buttonEl =\n",
              "          document.querySelector('#df-4a04cdf0-db11-4609-84c6-cebd153c6a45 button.colab-df-convert');\n",
              "        buttonEl.style.display =\n",
              "          google.colab.kernel.accessAllowed ? 'block' : 'none';\n",
              "\n",
              "        async function convertToInteractive(key) {\n",
              "          const element = document.querySelector('#df-4a04cdf0-db11-4609-84c6-cebd153c6a45');\n",
              "          const dataTable =\n",
              "            await google.colab.kernel.invokeFunction('convertToInteractive',\n",
              "                                                     [key], {});\n",
              "          if (!dataTable) return;\n",
              "\n",
              "          const docLinkHtml = 'Like what you see? Visit the ' +\n",
              "            '<a target=\"_blank\" href=https://colab.research.google.com/notebooks/data_table.ipynb>data table notebook</a>'\n",
              "            + ' to learn more about interactive tables.';\n",
              "          element.innerHTML = '';\n",
              "          dataTable['output_type'] = 'display_data';\n",
              "          await google.colab.output.renderOutput(dataTable, element);\n",
              "          const docLink = document.createElement('div');\n",
              "          docLink.innerHTML = docLinkHtml;\n",
              "          element.appendChild(docLink);\n",
              "        }\n",
              "      </script>\n",
              "    </div>\n",
              "  </div>\n",
              "  "
            ]
          },
          "metadata": {},
          "execution_count": 98
        }
      ]
    },
    {
      "cell_type": "code",
      "source": [
        "print(df_train_f.groupby('h_or_s').count())"
      ],
      "metadata": {
        "colab": {
          "base_uri": "https://localhost:8080/"
        },
        "id": "oxK-E1gyPXKJ",
        "outputId": "0e5ffb69-4c25-4e50-dd29-8894101b6a71"
      },
      "execution_count": 99,
      "outputs": [
        {
          "output_type": "stream",
          "name": "stdout",
          "text": [
            "        text  ctext  length1\n",
            "h_or_s                      \n",
            "0        550    550      550\n",
            "1        498    498      498\n"
          ]
        }
      ]
    },
    {
      "cell_type": "code",
      "source": [
        "tokenizer = Tokenizer(num_words=vocabSize)#, oov_token='<UNK>')\n",
        "tokenizer.fit_on_texts(df_train_f['ctext'])\n",
        "word_index = tokenizer.word_index\n",
        "# print(df_train.head())\n",
        "trainSequence = tokenizer.texts_to_sequences(df_train_f['ctext'])\n",
        "print(trainSequence)\n",
        "trainPadded = pad_sequences(trainSequence, maxlen=maxLen, padding='post', truncating='post')\n",
        "print(trainPadded)\n",
        "# testSequence = tokenizer.texts_to_sequences(df_test['text'])\n",
        "# testPadded = pad_sequences(testSequence, maxlen=maxLen, padding='post', truncating='post')"
      ],
      "metadata": {
        "colab": {
          "base_uri": "https://localhost:8080/"
        },
        "id": "G00t7BSNn1jy",
        "outputId": "1e848d35-08c6-4329-a5e6-34ee9d66445e"
      },
      "execution_count": 100,
      "outputs": [
        {
          "output_type": "stream",
          "name": "stdout",
          "text": [
            "[[14, 104, 139, 435, 21, 227, 192, 113, 306, 9, 1332, 11, 934, 721, 105, 436, 6, 12], [5, 60, 72, 1333, 381, 83, 437, 12, 503, 1334, 307, 1335, 51, 49, 2, 67, 2, 50, 1336, 38, 5, 206, 11, 25, 26, 20, 722, 17, 604, 1, 4, 1337], [118, 1338, 61, 6, 23, 3, 126, 7, 382, 438, 114, 12, 69, 246, 156, 228, 136], [1339, 935, 9, 439, 1340, 8, 308, 7, 439, 63, 43, 605], [5, 606, 147, 157, 723, 46, 724], [440, 2, 47, 193, 73, 35, 1341, 725, 1342, 11, 936, 35, 340, 32, 4, 937, 19, 7, 607, 274, 2, 24, 97, 1343, 1344, 2, 1345, 194, 35, 24, 1346, 341, 1, 1347, 195], [1348, 101, 1349, 5, 50, 32, 179], [196, 10, 67, 20, 60, 10, 608, 41, 1350, 11, 15, 3, 504, 1351, 383, 3, 1352, 65, 21, 3, 247, 1353, 79, 83, 35, 40, 1354, 98, 609, 22, 275], [247, 1355, 1356, 84, 309, 19, 1357, 309, 1, 60, 180, 48, 80, 127, 229, 3, 938, 115, 310, 137, 939], [1358, 24, 1359, 206, 2, 1360], [128, 40, 181, 505, 311, 726, 1, 384, 20, 52, 46], [2, 24, 506, 610, 66, 34, 230, 70, 66, 197, 2, 72, 1, 108, 48, 57, 28, 8, 6, 23, 7, 30, 12, 126], [116, 33, 17, 441, 727, 5, 276, 442, 157, 443, 17, 441, 62, 46, 181], [102, 728, 1361, 611, 13], [35, 207, 1, 75, 2, 342, 34, 129, 19, 45, 104, 63, 277, 101, 158, 105, 227, 192, 306, 208, 6, 12, 31, 9, 231, 940], [61, 6, 612, 85, 109, 8, 110, 76, 106, 198, 9, 2], [1362, 18, 232, 8, 16, 4, 312, 10, 159, 119, 3, 70, 120, 507, 18, 248, 49, 10, 53, 43, 508, 439, 1363, 385, 16, 18, 30, 1364, 1365], [613, 36, 1366, 343, 103, 87, 10, 1367, 609, 1368, 233, 313, 148, 509, 941, 1369, 10, 46], [160, 209, 2, 15, 68, 3, 58, 27, 8, 56, 2, 32, 73, 2, 81, 34, 14, 209, 1, 107, 386, 54, 58, 1, 13], [1370, 233, 50, 161, 18, 1371, 162], [182, 116, 6, 2, 183, 5, 88, 17, 942, 510], [47, 8, 109, 437, 1372, 5, 159, 33, 278, 21, 1373, 1, 1374, 12, 56, 444, 1375, 56, 4, 511], [249, 344, 36, 387], [85, 3, 512, 94, 5, 88, 1376, 1, 1377, 2, 38, 729, 1378, 943, 19, 7, 210, 37, 2, 24, 130, 21, 3, 250, 55, 6], [14, 251, 171, 614, 1, 140, 1379, 77, 1380, 944, 1, 89, 1381], [149, 5, 615, 15, 1, 163, 28, 3, 180, 88, 1382, 945, 1383, 80, 15, 1384, 46, 513, 1385, 27, 388, 504], [78, 389, 97, 62, 74, 83, 616, 38, 345], [53, 2, 72, 73, 726, 44, 33, 95], [27, 252, 346, 730, 314, 24, 13, 1386, 25, 6, 9, 390, 346, 315, 42, 346, 314, 30], [118, 617, 64, 618, 1, 731, 27, 8, 34, 279, 172, 1, 75, 10, 22, 92, 1], [211, 7, 173, 212, 9, 131, 213, 250, 214, 1, 39, 6, 215, 132, 199], [56, 53, 10, 67, 9, 234, 79, 83, 14, 26, 391, 3, 45, 104, 63, 21, 227, 192, 113, 306, 6, 14, 13, 16, 1, 108, 48, 115], [10, 200, 1387, 66, 16, 4, 1388, 732, 1389, 733, 313, 514, 160, 1390, 235, 733, 1391, 31, 235, 48], [234, 55, 1392, 35, 24, 253, 1, 75, 10, 254, 121, 131, 38, 2, 15, 68, 3, 55, 96, 6, 23, 280, 113, 184, 42], [211, 7, 173, 212, 9], [515, 28, 49, 2, 71, 28], [619, 946, 606, 947, 36, 232, 1, 3], [1393, 1394, 1395, 1396, 1397, 12, 307, 59, 38], [2, 159, 72, 13, 47, 613, 1398, 24, 2, 948, 345, 347, 516, 949, 1, 445, 11, 734, 11, 392, 59, 38, 164, 150, 5, 99, 7, 161, 3, 185, 17, 99], [15, 2, 950, 83, 38, 517, 41, 133, 1, 38, 1399, 348, 313, 281, 49, 10, 62, 11, 3, 1400, 12, 722, 28, 8], [5, 446, 38, 5, 86, 21, 2, 1401, 2, 1402, 616, 2, 82, 79, 236, 2, 24, 79, 193, 2, 620, 1, 20, 79, 193, 5, 99, 2, 17, 36, 255], [89, 201, 1, 6, 951, 23, 7, 518, 113, 25, 89, 201, 393, 1403, 9, 394, 735, 282, 26, 29, 1, 316, 48], [519, 57, 88, 1404, 8, 4, 249, 65, 5, 1405, 3, 952, 953, 1406, 736, 74, 5, 1407, 41, 198, 9, 7, 1408, 5, 67, 1, 33, 7, 185], [182, 5, 520, 7, 6, 395, 348, 73, 2, 15, 4, 65, 41, 16], [954, 621, 1, 10, 162, 1409], [45, 317, 23, 447, 40, 22, 58, 1, 37, 147, 237, 955, 42], [37, 737, 11, 1410, 202, 5, 88, 521, 396], [151, 956, 7, 448, 46], [256, 216, 5, 15, 13, 38, 5, 149, 83, 28], [2, 44, 33, 738, 27, 252, 1411, 1412, 171, 957, 195, 28], [65, 98, 349, 87, 4, 513, 1413, 217, 17, 34, 255, 958, 65, 449, 257, 1, 522, 349, 11, 958, 1414, 349, 449, 257, 1, 522, 65, 238, 622], [148, 186, 39, 18, 350, 19, 450, 1415, 134, 1, 1416, 314, 30, 351, 282, 614, 623, 22, 318, 12, 29], [152, 7, 30, 239, 9, 14, 1, 959, 122, 240, 139, 317, 283, 352, 319, 6, 30, 16, 739, 12], [1417, 353, 8, 1418, 3, 523, 57, 354, 740, 1, 960, 12, 3, 523, 57, 1419, 3, 1420, 83, 4, 961, 962, 1421, 123, 963, 21], [284, 36, 524, 71, 1422, 2, 165, 1423, 52], [14, 283, 1424, 741, 397, 7, 30, 22, 741, 1, 32, 14, 525, 9, 1425, 80, 89, 84, 22, 29, 27, 120, 8, 14], [78, 320, 37, 99, 1, 311], [2, 15, 1, 179, 187, 3, 1426, 19, 74, 624, 1427, 1, 396, 108, 48, 23, 117, 516, 49, 742, 625, 86, 964, 8, 109, 3, 1428, 12, 965, 17, 4, 626, 398, 20, 72, 183], [6, 951, 9, 42, 1429, 89, 526, 6, 23, 3, 966, 113, 967, 525, 90, 37, 1430, 397, 525], [968, 116, 82, 56, 1431, 969, 24], [24, 109, 743, 1432, 744, 398, 20, 72, 61, 355, 5, 285, 99, 1, 258, 388], [123, 8, 527, 1433], [5, 50, 54, 2, 3, 309, 49, 2, 59], [1434, 134, 118, 451, 79, 5, 88, 1435, 2, 627, 745], [452, 19, 10, 318], [174, 9, 7, 171, 232, 970, 90, 7, 30, 44, 33, 321, 159, 7, 100, 43, 628, 61, 6, 94, 218, 16], [284, 53, 2, 72, 742, 111, 12, 971, 453, 1, 454, 1436, 34, 455, 1437, 11, 216, 13, 49, 35, 60, 32, 3, 972, 19, 528, 62, 25, 1438, 74, 286], [259, 5, 88, 285, 629, 67, 1, 92, 12, 82, 20, 1439, 26, 260, 1, 26, 321, 46, 1, 241, 26, 29], [287, 65, 10, 630, 18, 746, 103], [211, 7, 173, 212, 9, 131, 213, 261, 5, 288, 214, 6, 215, 132, 199], [179, 29, 1440, 8, 529, 2, 1, 33, 117, 185, 31, 12, 82, 117, 1441, 29, 54, 29, 456, 1], [182, 41, 43, 14], [747, 51, 36, 457, 8, 219, 262], [2, 61, 163, 257, 973, 103, 1442, 289, 1443, 12, 1444, 4, 530], [37, 41, 43, 5, 124, 163, 2, 631, 2, 67, 11, 99, 2, 458, 263, 53, 356, 9, 974, 16, 1445, 1446, 71, 115, 345, 531, 5, 53, 5, 124, 32, 242, 5, 124, 32, 3, 399, 5, 124, 445, 4, 734, 5, 124, 243, 1447, 36, 532, 975, 1448, 134, 41, 1449, 11, 976, 5, 340, 243, 6, 181, 9, 1450, 1451, 116, 15, 1, 112, 220, 41, 52, 1, 459], [533, 166, 24, 2, 181, 13], [35, 24, 1452, 1, 32, 460, 66, 23, 1453, 2, 165, 52, 9, 400, 281], [261, 51, 43, 453, 1, 233], [2, 71, 632, 3, 1454], [151, 216, 116, 515, 36, 1455, 1456, 534], [2, 15, 68, 3, 96, 175, 12, 1457, 243, 69, 1, 39, 18, 175, 6, 14, 16, 62, 3, 1458, 1459, 90, 287, 53, 10, 149], [10, 87, 3, 244, 10, 977, 64, 357, 141, 119, 69, 12, 3, 114, 748, 535, 290, 1, 3, 167, 291, 39], [978, 1460, 13, 461, 17, 1461, 1462, 21, 45, 1463, 11, 166, 1464, 23, 749, 454, 9, 25, 66, 633, 32, 1465, 11, 107, 4, 1466], [979, 19, 750, 536, 513, 8, 43, 83, 537, 292, 980, 4, 634, 981, 83, 537, 25, 66, 751, 4, 203, 238, 982], [264, 11, 256, 462, 5, 60, 15, 1, 15, 1467, 1468, 1, 53, 28, 265], [2, 15, 68, 3, 96, 175, 12, 243, 1469, 39, 18, 175, 6, 14, 16, 29, 1470, 16, 1471], [2, 15, 110, 236, 94, 70, 752, 23, 1472, 6, 635, 13], [322, 753, 68, 256, 3, 244, 17, 34, 983, 55, 121, 6, 13, 55, 132], [16, 4, 1473, 47, 124, 22], [538, 19, 984, 985, 986, 987, 384, 9, 34, 754, 52, 219, 988, 989, 990, 38, 8, 3, 89], [254, 636, 401, 463, 24, 141, 1, 119, 3, 49, 2, 15, 3, 539, 61, 6, 637, 39, 132, 638, 464, 540], [10, 221, 293, 1474, 276, 465, 221, 20, 639, 1475, 125, 3, 455, 755], [1476, 19, 194, 381, 991, 3, 455, 1477, 3, 358, 1478, 16, 3, 1479, 51, 992, 16, 117, 1480, 756, 1481, 3, 1482], [53, 2, 67, 3, 45, 58, 240, 63, 993, 21, 14, 323, 1, 101, 30, 14, 222, 14, 208, 31, 12, 6], [6, 20, 5, 288, 994, 1, 1483, 395, 221, 1484, 11, 995], [10, 1485, 17, 441, 12, 133, 181, 996, 116, 125, 133, 441, 183], [402, 1, 1486, 110, 70, 21, 997, 1487, 2, 50, 13, 6, 34, 357, 1488, 1489, 14, 23, 7, 30, 66, 1490], [17, 353, 324, 53, 2, 67, 157], [41, 278, 157, 1491, 1492, 757, 1493, 98, 1494, 98, 1495, 998, 1496, 19, 1497, 1498, 98, 541, 998, 1499, 19, 1500, 98, 1501, 71, 542, 98, 227, 1502], [259, 1503, 999, 20, 7, 90, 41, 1000, 1504, 185], [1505], [2, 15, 45, 106, 61, 6], [1506, 5, 266, 1507, 125, 758, 165, 71, 1508, 98, 1001, 759, 98, 1509, 116, 125, 278, 157, 1001, 759, 98, 1510, 759], [97, 466, 121, 760, 324, 1511, 97, 466, 9, 1512, 54, 29, 1, 94, 218], [78, 51, 1002, 313], [264, 458, 50, 2, 294, 221, 20, 46, 4, 1513, 16, 1003, 28, 159, 33, 216, 16, 4, 312], [1514, 267, 105, 11, 436, 16, 153, 761, 122, 359, 640, 58, 467, 14, 6, 16, 12], [1515, 284, 1516, 461, 3, 45, 641, 19, 260, 762, 9, 34, 754, 1, 32, 9, 14, 25, 1004, 1517, 4, 188, 543, 268, 1, 18, 642], [1518, 1519, 1520, 392, 56, 194], [544, 38, 86, 4, 249, 343, 5, 86, 245, 311], [295, 154, 608, 643, 25, 71, 3, 45, 1005, 644, 296, 137, 3, 260, 309, 12, 383, 3, 1521, 763, 92, 1, 1006], [76, 35, 24, 253, 1, 75, 10, 254, 121, 131, 38, 2, 15, 68, 3, 55, 96, 6, 23, 280, 113, 39, 42], [154, 196, 62, 764, 79, 87, 10, 41, 181, 23, 1522, 11, 1007, 26, 20, 95, 49, 10, 296, 92, 1523, 1008, 26, 29, 1, 1524], [245, 398, 20, 72, 355, 461, 1009, 23, 114, 38, 84, 8, 545, 20, 90], [269, 176, 74, 1525, 397, 763, 21, 269, 1010, 1, 403, 269, 1011, 1526, 1527, 1528, 1529, 1530], [53, 2, 67, 3, 45, 58, 240, 63, 993, 21, 14, 323, 1, 101, 30, 14, 222, 14, 208, 31, 12, 6], [1531], [254, 129, 39, 18, 350, 19, 450, 297, 26, 134, 1, 13, 346, 730, 314, 30, 351, 282, 614, 765, 31, 318], [1532, 41, 245, 258, 1012, 1533, 17, 1534, 1535, 49, 10, 67, 168, 20, 142, 15, 3, 766, 162], [115, 270, 23, 1536, 118, 1537, 1538, 19, 14, 270, 21, 166, 1539], [1540, 152, 3, 97, 84, 15, 2, 1541, 1, 468, 4, 352], [134, 35, 200, 767, 9, 59, 546, 11, 5, 632, 36, 645, 1013, 1, 768, 220, 52, 646, 28, 404, 46, 88], [128, 325, 405, 59, 1014, 5, 276, 454, 1542, 541, 1543, 1544, 360], [61, 6, 612, 85, 109, 8, 110, 76, 106, 198, 9, 2], [647, 648, 223, 7, 649, 650, 59, 3, 6, 23, 647, 234, 651, 6, 1, 443, 2, 65, 148, 189, 1545], [284, 2, 469, 3, 185, 19, 1546, 1015, 1, 384, 52, 183, 281], [62, 361, 51, 1547, 152, 1, 107, 326, 47, 200, 245, 454, 9, 190, 11, 769, 28, 326, 46, 298, 324, 183, 281, 34, 1016, 232, 8, 3, 1548, 2, 71, 470], [2, 24, 96, 4, 1549, 58, 63, 3, 362, 406, 12, 3, 55, 22, 1550, 1, 1551, 1552], [182, 347, 43, 1017, 1, 38, 324, 116, 53, 47, 169, 285, 182], [1553, 106, 1554, 150, 471, 143, 9, 7, 770, 1555, 1556], [264, 5, 44, 268, 28, 313], [15, 71, 327, 217, 1, 53, 299, 33, 17, 771, 183], [1018, 1557, 128, 1558, 1559, 49, 128, 40, 1560, 1561, 128, 772, 1562, 17, 1563], [1019, 5, 547, 1564, 135, 4, 1565, 327, 1566], [10, 50, 81, 19, 300, 191, 297, 127, 77, 1020, 13, 22, 4, 170, 121, 1, 363, 1021], [200, 245, 40, 32, 144, 1567], [182, 10, 50, 43, 241, 364, 4, 210, 129, 1568, 91, 3, 201, 1022, 19, 252, 179, 1569, 1570, 292, 1571, 31, 1023, 161, 115, 394], [1024, 10, 6, 1, 39, 55, 10, 15, 365, 74, 18, 30, 1025, 390, 4, 1572, 1026], [328, 1, 1573, 10, 44, 33, 1027, 1028, 19, 74, 4, 122, 472, 11, 1029, 773, 241, 54, 32, 1030, 29, 1], [10, 15, 3, 473, 474, 1031, 57, 366, 10, 87, 47, 271, 6, 1, 316, 48, 31, 1031, 29, 89, 120, 1574, 1032, 329], [7, 173, 9, 131, 213, 214, 1, 39, 6, 215, 132, 1033, 199], [1575, 195, 18, 1576, 1577, 266, 224, 1578, 1579, 533, 1580, 116, 40, 774, 775, 330, 120, 10], [83, 111, 1581, 4, 1582, 949, 24, 966, 356, 1, 6, 4, 538, 11, 108, 48], [519, 56, 528, 2, 72, 1583, 1034, 2, 296, 108, 48, 57, 28, 8, 163, 257, 3, 6, 16, 23, 126], [81, 3, 407, 548, 127, 77, 1020, 13, 204, 26, 549, 1, 776], [197, 10, 72, 91, 550, 34, 230, 70, 75, 2, 124, 519, 57, 6, 13, 74, 44, 33, 777, 315], [778, 747], [1035, 5, 1584, 1585, 224, 120, 5, 1036, 779, 17, 224, 475, 1586, 1587, 5, 47, 1037], [14, 1588, 9, 1038, 4, 209, 780, 70, 1039, 110, 209, 22, 48, 241, 22, 29, 1589], [76, 7, 30, 90, 91, 64, 130, 3, 55, 96, 6, 23, 126, 39, 184, 42], [135, 1040, 7, 781, 551, 782, 114, 12, 246, 156, 6, 13, 783, 228, 136, 784], [1590, 124, 348, 16, 63, 21, 1591], [41, 517, 1592, 785, 59, 1593], [53, 2, 67, 277, 101, 158, 105, 26, 11, 3, 45, 104, 63, 9, 42, 786, 301, 89, 77, 6, 12, 31, 9, 231, 169], [367, 408, 521, 1, 107, 4, 1594, 19, 3, 1595, 38, 461, 48, 19, 18, 552, 11, 992, 1596, 18, 1597, 354, 553, 3, 1598, 185, 8, 202, 1, 1041, 1042], [5, 99, 1, 145, 181, 11, 163, 2, 144, 97, 1599], [76, 18, 130, 3, 382, 524, 1, 1600, 1601, 12, 1, 39, 22, 652, 1], [1602, 9, 1603, 26, 368, 179, 508, 653, 654, 241, 21, 29, 37, 554, 409, 161], [5, 93, 1, 163, 1604, 5, 308, 476, 19, 608, 1605, 56, 8, 7, 1043, 1606], [50, 2, 25, 145, 17, 9, 3, 1607, 477, 528, 202, 5, 67, 2, 1, 82], [956, 36, 1608, 5, 180, 2, 56, 1609], [1610, 1611, 1612, 1044], [37, 1613], [67, 4, 122, 104, 478, 277, 101, 158, 105, 227, 192, 113, 306, 31, 12, 6, 9, 231, 169], [1, 943, 11, 331, 4, 479, 58, 1614, 302, 1615, 21, 177, 58, 40, 1616, 241, 23, 1617, 31, 21, 4, 170, 48], [440, 10], [56, 1, 149, 37, 102, 1045, 1046, 78, 320, 37, 99, 1, 311, 117, 5, 44, 40, 49, 272, 145, 12, 43], [37, 5, 787, 4, 1618, 8, 4, 555, 38, 111, 1619, 46, 111, 27, 516, 8, 285, 1620, 15, 2, 404, 1621, 7, 1622, 444, 62, 236, 11, 15, 2, 1623, 49, 2, 24, 278, 19, 1624, 516, 12, 49, 788, 25, 53, 4, 1625, 1047], [361, 5, 88, 111, 1048, 655, 274, 2, 59, 220, 556], [7, 530, 46, 8, 47, 164, 43, 789], [14, 106, 656, 7, 14, 26, 391, 66, 633, 1, 27, 106, 21, 4, 170, 14, 9, 657, 1626, 514], [547, 1049, 3, 312, 1, 32, 557, 540, 9, 7, 63, 1627, 44, 2, 40, 1, 4, 1628, 766, 206, 2, 107, 38, 517, 1629, 5, 99, 2, 196, 5, 1630, 1, 82, 2], [1050, 3, 1051, 1631, 12, 1632, 124, 32, 410, 6, 14, 13, 12, 26, 95, 161, 35, 44], [164, 1633, 1634], [533, 59, 3, 658, 1635, 8, 165, 202, 11, 165, 1636, 41, 1637, 16, 4, 1638], [1639, 8, 4, 1640, 790, 4, 399, 86, 1641, 16, 111, 791, 1052, 85, 1642, 114, 74, 1643, 24, 1644, 411, 792], [51, 5, 442, 758, 1053, 71, 59, 1645], [25, 1646, 1647], [97, 233, 8, 83, 1054, 4, 343, 91, 1, 1648, 3, 1054, 38, 4, 1649, 44, 1055, 11, 308, 49, 2, 67, 1, 72, 115], [78, 627, 34, 328, 47, 56, 24, 2, 616, 9, 659, 1650, 88, 5, 618], [78, 43, 3, 611, 44, 32, 220, 3, 1651, 137, 1652, 169, 11, 793, 16, 793, 149, 35, 87, 74, 133, 1, 4, 794], [5, 59, 558, 51, 480, 1, 1653, 48, 16, 4, 1654, 49, 28, 449, 2, 795, 356], [41, 1056, 559, 71, 796, 16, 797, 142, 1655, 659, 178, 544, 5, 798, 57, 44, 40, 1656, 65], [1057, 5, 660, 35, 412, 546, 1657, 43, 2, 24, 481, 79, 159, 5, 1658, 2], [276, 125, 1037, 62, 219, 276, 266, 542, 28, 262, 1659, 16, 18, 293, 1660, 264], [1058, 36, 118, 278, 1059, 639], [10, 15, 3, 473, 474, 57, 8, 413, 187, 75, 21, 560, 48, 57, 142, 561, 57, 366, 18, 47, 562, 16], [152, 7, 30, 239, 9, 14, 1, 959, 122, 240, 139, 317, 283, 352, 319, 6, 30, 16, 739, 12], [1661, 10, 206, 78, 262, 360, 224, 1060, 46, 1662], [194, 1663, 799, 3, 166, 65, 17, 1664, 20, 3, 1665, 451, 292, 74, 4, 661, 563, 41, 1666, 72, 4, 1667, 1668], [2, 15, 64, 357, 141, 1, 119, 3, 800, 175, 6, 289, 4, 801, 802, 225, 136, 143, 1061, 1062], [564, 5, 553, 4, 148, 65, 35, 71, 528, 565, 9, 4, 249, 65, 21, 1669, 265], [1670, 116, 40, 774, 775, 162, 35, 50, 1039, 1063, 541, 40, 803, 330, 40, 1064, 102, 804, 804, 804], [76, 7, 30, 37, 68, 3, 250, 414, 55, 16, 27, 8, 4, 172, 1, 415, 2, 6, 566], [49, 2, 620, 4, 1671, 134], [18, 1065, 8, 13, 188, 387, 1066, 4, 1672, 556, 3, 1673, 125, 1674, 12, 137, 1675, 26, 3, 125, 12, 137, 1, 97, 466], [295, 34, 1067, 1676, 2, 299, 33, 662, 1, 301, 9, 4, 1677, 2, 152, 1, 39, 9, 14, 31, 21, 134, 1, 27, 120, 1, 316, 48, 26, 29], [206, 10, 108, 48, 56, 65, 4, 663, 8, 46, 790, 5, 99, 1, 1068, 144, 392, 48], [805, 806, 807, 17, 99, 808, 16, 18, 210, 112, 18, 22, 100, 332, 1, 9, 809, 12, 269, 332, 9, 416, 567, 810, 332], [171, 177, 45, 416, 397, 1, 7, 30, 127, 77], [1678, 35, 24, 253, 1, 75, 2, 148, 811, 121, 131, 38, 2, 68, 3, 55, 96, 6, 39, 132, 184, 42], [634, 23, 146, 417, 34, 140, 418, 25, 54, 4, 170, 365, 1, 13, 189, 1069], [76, 18, 96, 175, 8, 165, 1679, 6, 13, 1680], [109, 4, 1681, 19, 1682, 1070, 10, 1683, 1684, 52, 18, 812], [41, 13, 51, 15, 1, 471, 482, 9, 4, 663, 1, 384, 20], [118, 226, 664, 1, 39, 27, 252, 129, 46, 2, 605, 61, 40, 1, 1071, 363, 143, 1, 29, 222, 22, 29, 1], [419, 82, 2, 17, 3, 665], [568, 420, 20, 360, 1685, 813, 183], [295, 39, 18, 160, 1686, 78, 1, 1687, 18, 369, 814, 168, 9, 189, 623, 1688, 12, 29], [76, 27, 8, 4, 172, 1, 75, 815, 15, 68, 6, 1072, 1073], [1689, 538, 19, 984, 985, 986, 987, 384, 9, 34, 754, 52, 219, 988, 989, 990, 38, 8, 3, 89], [322, 174, 1, 3, 97, 185, 10, 15, 68, 4, 234, 55, 39, 8, 421, 25, 6, 13, 42, 89, 526, 569], [195, 4, 1074, 1690, 1691, 177, 21, 7, 368, 9, 45, 1692, 32, 115, 370, 23, 1693, 161, 6], [61, 6, 1694, 21, 1695, 1, 1696, 12, 1697, 7, 737, 749, 478, 14, 19, 409, 129, 422, 103, 666, 1698, 1, 735, 11, 282], [206, 2, 667, 83, 4, 45, 1699, 1700, 28, 461, 21, 74, 19, 1701, 392], [1074, 1, 32, 7, 14, 1075, 26, 552, 1, 13, 189, 143, 42, 99, 161, 6], [1702, 2, 72, 8, 253, 1, 75, 2, 967, 34, 230, 70, 1, 108, 48, 57, 28, 263, 33, 6, 23, 7, 30, 12, 126], [135, 80, 2, 15, 3, 166, 352], [5, 88, 1703, 3, 1704, 17, 4, 668, 11, 3, 1076, 17, 4, 1077, 8, 38, 2], [9, 18, 186, 1, 81, 3, 69, 127, 229, 22, 1078, 1, 363, 1705, 816], [118, 97, 333, 79, 2, 669, 118], [753, 68, 1079, 1, 4, 817, 279, 12, 69, 1, 147, 6, 315], [62, 3, 818, 302, 54, 652, 120, 1, 74, 18, 371, 49, 1706, 87, 334, 555, 80, 197, 285, 1080, 10, 1707, 353, 240, 1708, 20, 4, 303], [179, 161, 20, 112, 936, 38, 41, 1081, 3, 1709, 23, 1710, 11, 38, 49, 159, 179, 54, 20, 3, 106, 83, 79, 1, 507, 1082, 174], [1083, 28, 25, 483, 20, 41, 532, 1711, 1084, 1712, 1713, 408, 36, 1714, 1715, 358, 10, 1716, 1717], [2, 24, 570, 85, 135, 1085, 61, 112, 20, 7, 1718, 11, 1719, 17, 571], [81, 4, 1086, 1720, 11, 4, 232, 19, 4, 1721, 443, 31, 1722, 344, 819, 186, 1, 33, 4, 249, 1723, 1724], [88, 45, 177, 60, 1725, 35, 1087, 364, 44, 125, 137, 10, 61, 320, 120, 820, 18, 335, 31, 1726, 1727, 318], [7, 368, 15, 64, 1728, 52, 9, 1729, 7, 1730, 1731, 8, 1732], [821, 40, 1733, 98, 822, 1734], [286, 91, 1735, 9, 557, 84, 333, 91, 145, 17, 3, 271, 312, 299, 2, 349, 59, 4, 1088, 1736, 11, 1737, 7, 1738, 46, 4, 1089, 1089, 1739], [2, 15, 64, 357, 141, 1, 119, 3, 175, 6, 289, 4, 801, 802, 225, 136, 143, 1061, 1062], [56, 5, 620, 86, 5, 572, 162, 573, 1, 393, 355, 41, 388, 3], [25, 253, 1, 1740, 48, 73, 41, 1036, 1, 82, 3, 574, 1090, 304, 27, 77, 35, 412, 940, 32, 670, 51, 5, 340, 671, 1091], [54, 298, 90, 11, 163, 31, 169, 333, 9, 150, 2, 412, 38, 1, 190, 59, 38, 78], [36, 1092, 8, 823, 224, 423, 17, 224, 1093, 47, 41, 43, 824, 825, 117, 47, 137, 10, 465, 826, 103, 12, 672, 178], [424, 1094, 347, 673, 1095, 13, 47, 22, 20, 73, 10, 630, 49, 10, 50, 93, 1096, 275], [206, 10, 507, 4, 1741, 540], [827, 326, 3, 45, 1097, 21, 14, 1742, 472, 1, 18, 30, 22, 18, 177, 203, 1, 403, 1743, 1], [37, 157, 49, 2, 828, 38, 28, 656, 4, 1098, 1744, 157], [2, 24, 13, 1745, 74, 218, 32, 1746, 19, 247, 1099, 12, 1747, 674, 1, 7, 63, 40, 1, 1748, 37, 1749], [1100, 8, 59, 3, 1750, 19, 3, 829, 575, 265, 87, 17, 334, 555, 829, 265, 87, 1056, 453, 1087, 1751, 49, 265, 1752, 42, 1753, 518, 265, 1754, 576, 1755, 238], [5, 71, 59, 111, 5, 50, 32, 144, 115, 183, 575, 32, 722, 2, 795, 59], [151, 17, 830, 123, 25, 550, 49, 35, 1756, 437, 59, 110, 1101, 1102, 73, 11, 79, 193], [556, 831, 1103, 4, 832, 91, 141, 10, 9, 69, 12, 226, 6, 577, 155, 138, 518, 126, 225, 317, 833], [86, 285, 97, 1, 82, 2, 4, 293, 84, 1757, 64, 1104, 2], [50, 10, 451, 20, 17, 157, 1758, 5, 71, 392, 547, 630, 364], [259, 1105, 482, 13, 35, 1759, 221, 43, 243, 3, 834, 65, 80, 79, 50, 5, 835, 4, 991, 1105], [211, 7, 173, 212, 9, 131, 213, 261, 5, 288, 214, 6, 215, 132, 199], [97, 675, 510, 836, 1760, 1761, 3, 480, 1762, 4, 1763, 19, 676, 5, 71, 110, 129, 23, 1764, 11, 5, 1765, 2, 24, 1766, 1767, 2, 1768, 23, 1769], [2, 15, 45, 106, 61, 6], [259, 1106, 67, 260, 275, 310, 268, 397, 18, 63, 22, 741, 1, 14, 11, 80, 25, 89, 84, 1, 29, 26, 1770, 1771], [336, 243, 1107, 1772, 15, 1773, 16, 220], [60, 522, 2, 50, 324, 85, 677, 14, 1108, 21, 85, 2, 446, 9, 115, 425, 6], [61, 60, 26, 20, 1774, 5, 15, 459, 625, 1, 325], [85, 3, 475, 678, 2, 24, 141, 1, 119, 3, 250, 32, 28, 679, 1, 7, 1775, 22, 4, 170, 78, 1, 37, 1, 39, 1776], [578, 1777, 92, 98, 426, 13, 1778, 205, 42, 23, 1779], [837, 248, 7, 104, 44, 33, 21, 2, 957], [1780, 1781, 385, 1782], [5, 1783, 3, 45, 90, 838, 10, 42, 308, 27, 1784], [27, 8, 4, 172, 1, 839, 10, 2, 15, 68, 27, 252, 251, 55, 19, 337, 69, 12, 55, 25, 6], [419, 398, 20, 72, 73, 256, 245, 33, 469, 1785], [153, 1786, 2, 579, 23, 74, 65, 1109, 1787, 21, 3, 14, 483, 427, 77, 40, 1, 579, 310, 16, 439, 1, 29, 738, 580, 1788, 31, 29], [581, 13, 41, 292, 38, 260, 1789, 1790], [1110, 1791, 480, 45, 484, 1111], [211, 7, 173, 212, 9, 131, 213, 475, 214, 6, 215, 132, 199], [80, 101, 271, 109], [197, 91, 1792, 34, 230, 70, 11, 485, 7, 63, 444, 142, 383, 1793, 108, 48, 57, 28, 8, 6, 23, 126], [54, 3, 1112, 18, 1794, 1795, 1796, 66, 3, 552, 22, 93, 1797, 403, 93, 1798, 651, 1, 1799, 1800, 37, 1801], [424, 23, 153, 9, 1113, 14, 525, 1, 270, 472, 11, 680, 428, 14, 222, 11, 1114, 391, 31, 134, 657, 143, 1802], [1803, 511, 43, 1115, 2, 72, 36, 1804, 582, 1805, 2, 1, 7, 1806, 1807, 36, 1012, 11, 1808, 7, 756, 1, 28, 60, 522, 5, 72, 237, 162, 1809, 349], [37, 102, 1116, 299, 33, 144, 1810, 658], [151, 116, 320, 17, 3, 574, 323, 338, 398, 2, 72, 73, 5, 32, 1, 840], [150, 1019, 56, 271, 109, 2, 152], [5, 15, 1, 107, 1047, 21, 841], [182, 9, 4, 1811, 134, 1812], [1813, 2, 1814, 245, 33, 202, 289], [244, 85, 3, 512, 158, 94, 2, 1815, 64, 141, 1, 119, 3, 486, 1, 147, 6, 184, 546, 42], [53, 2, 372, 1117, 38, 73, 256, 583, 742, 133, 1816, 531, 2, 8, 110, 1118, 11, 1119, 583, 1817, 531, 2, 8, 3, 1818], [154, 27, 8, 1819, 35, 44, 33, 842, 2, 3, 14, 63, 90, 17, 3, 574, 19, 328, 353, 44, 163, 2, 110, 525, 1, 74, 4, 837, 1820], [14, 146, 417, 34, 140, 418, 25, 54, 4, 170, 81, 1, 13, 189, 1120], [1121, 1821, 1822, 1823, 1824, 1825, 1826, 843, 1, 1121, 6], [41, 767, 1122, 756, 1123, 609, 1827, 11, 788, 828, 417, 20], [14, 146, 17, 3, 487, 418, 1, 81, 1124, 817, 279, 1079, 299, 26, 1124, 1, 1, 119, 146, 1828, 22, 1829, 143], [15, 2, 673, 242, 364], [153, 94, 2, 299, 13, 39, 7, 14, 139, 63, 844, 9, 7, 488, 6, 13, 16, 129, 422, 136, 143, 429, 1830], [263, 2, 43, 736, 20, 36, 93, 5, 1125, 2], [128, 145, 1831, 98, 681, 1, 20, 360], [194, 78], [5, 25, 1832, 27, 113, 584, 20, 21, 4, 1833, 5, 60, 1834, 838, 1835, 18, 36, 197, 51, 367, 1836, 20, 21, 3, 1837, 238, 11, 570, 1838], [7, 140, 1839, 176, 24, 682, 1, 507, 27, 252, 45, 176, 1126, 430, 1840, 683, 1841, 1127, 1842, 745, 115, 394, 17, 98], [51, 164, 16, 1843, 28, 615, 33, 1128, 1844], [78, 38, 223, 125, 1845, 49, 10, 87, 462, 149, 83, 684, 10, 67, 1, 53, 1846, 1847, 1848, 794, 17, 48, 83, 52, 1, 10, 684, 83], [78], [194, 135, 137, 10, 183], [4, 148, 504, 5, 372, 845, 1, 53, 86, 584, 2, 11, 5, 340, 149, 28, 223, 15, 1849, 846, 33, 1129, 1850, 4, 1851, 11, 331, 133, 51, 85, 847, 85, 5, 1130, 28, 685, 243, 52, 4, 830, 38, 2, 243, 1852, 59, 5, 223, 53, 28, 1, 584, 2, 131, 2, 285, 60, 72, 20, 46, 74, 28, 86, 1853, 848, 51, 28, 685, 789, 4, 611, 5, 15, 21, 28, 8, 2, 15, 4, 65, 1, 1854, 28, 51, 2, 305, 43, 1, 2, 1855, 2, 107, 1856, 2, 233, 2, 67, 1, 40, 48, 5, 60, 686, 3, 327, 217, 202, 11, 109, 51, 73, 2, 60, 187, 4, 571, 73, 2, 1131, 1857, 16, 251, 19, 28, 73, 5, 124, 15, 3, 185, 17, 4, 626, 444, 41, 1129, 38, 477, 1858, 11, 1859, 1860, 16, 4, 571, 1861, 16, 4, 1862, 164, 307, 625, 2, 687, 1, 33, 97, 83, 46, 1132, 616, 4, 571], [298, 1863, 273, 8, 17, 1133], [5, 1864, 10, 415, 505, 123, 412, 1865], [2, 24, 3, 244, 2, 15, 64, 357, 141, 1, 119, 69, 12, 3, 175, 290, 1, 3, 167, 291, 1, 39, 6, 225], [76, 27, 8, 34, 172, 1, 75, 10, 7, 55, 23, 585, 8, 165, 373, 156, 1, 39, 6, 13], [609, 167, 92, 25, 305, 7, 489, 11, 1866, 167, 6, 13, 558, 92, 431, 1134, 167, 70, 1867], [154, 4, 1868, 661, 24, 198, 9, 2, 1, 26, 220, 26, 13, 9, 3, 166, 286, 1135, 54, 29, 1, 29, 27, 70], [35, 207, 1, 75, 2, 342, 7, 31, 1, 34, 129, 19, 3, 104, 478, 277, 1136, 105, 283, 26, 208, 31, 12, 6, 13], [1869, 8, 529, 2, 1, 33, 117, 185, 31, 12, 82, 117, 29, 54, 29, 456, 1], [644, 771, 1137, 3, 565, 668, 55, 49, 10, 72, 57, 4, 45, 1138, 19, 1139, 44, 33, 22, 117, 249, 203, 1, 29, 849], [264, 116, 33, 462, 1, 32, 52, 289, 622, 11, 82, 586, 56], [62, 1088, 17, 1870, 4, 1871, 25, 361], [134, 5, 1140, 3, 574, 19, 310, 16, 1872, 477, 165, 1873, 767, 162, 41, 25, 850, 52], [194, 166, 116, 1141, 190, 115, 47, 38, 35, 50, 348], [64, 52, 1, 1874, 504, 1142, 206, 2, 15, 3, 97, 457, 73, 24, 10, 1875, 1876, 5, 404, 1143, 103], [587, 30, 851, 87, 237, 6, 13, 852, 853, 18, 369, 204, 854, 270, 855, 1877, 300, 856, 857], [174, 9, 7, 171, 232, 1144, 90, 30, 44, 33, 321, 159, 7, 100, 43, 628, 61, 6, 94, 218], [154, 1878, 94, 488, 129, 4, 45, 30, 23, 42, 46, 1879, 1880, 1, 32, 237], [88, 5, 38, 193, 1145, 1881], [53, 2, 1882, 38, 17, 83, 490, 135, 15, 1883, 19, 588, 1146, 1884, 469, 21, 1885], [322, 10, 50, 39, 688, 1886, 3, 858, 137, 1147, 17, 1887, 17, 1888, 12, 1147, 191, 96, 6, 1, 39, 363, 1889], [194, 1148, 1890, 2, 296, 204, 38, 302, 1149, 256, 4, 1891, 11, 41, 4, 1892, 2, 163, 20, 3, 1893, 11, 116, 163, 2, 102], [216, 28, 685, 2, 57, 1894, 28, 86, 197, 21, 3, 90, 59, 237], [53, 2, 67, 3, 45, 104, 277, 101, 158, 105, 26, 9, 42, 786, 301, 89, 77, 6, 13, 12, 31, 9, 231, 169], [7, 188, 1150, 275, 104, 44, 33, 268, 1, 2, 195, 49, 102, 1895, 8, 43, 470, 9, 26, 95, 4, 1896, 1, 32, 4, 188, 104], [5, 99, 790, 5, 367, 40, 289], [14, 251, 859, 176, 6, 374, 205, 32, 3, 1897, 1898, 268, 127, 77, 25, 26, 944, 1, 89, 1899, 765], [589, 1900, 2, 33, 1151, 216, 13, 41, 43, 245, 445, 7, 1901, 336, 72], [266, 144, 19, 860, 108, 1902, 162, 847, 1903, 43, 559, 224, 1904, 5, 861, 364, 87, 18, 559, 659, 330, 5, 615, 125, 453, 1, 168], [587, 30, 851, 87, 237, 6, 13, 852, 853, 7, 369, 204, 854, 270, 855, 1152, 300, 856, 857], [14, 77, 146, 1905, 3, 186, 81, 362, 12, 69, 127, 229, 22, 862, 1, 363, 1906, 816], [76, 35, 24, 253, 1, 75, 10, 254, 121, 131, 38, 2, 15, 68, 3, 55, 96, 6, 23, 280, 113, 39, 184, 42], [44, 10, 221, 18, 1153, 689, 375, 8, 18, 1907, 326, 3, 1908, 258, 108, 48, 14, 22, 1154, 863, 66, 18, 1155, 864, 224, 376, 1154, 1909], [491, 53, 2, 553, 20], [234, 45, 490, 651, 858, 24, 13, 16, 1156, 23, 4, 177, 1910, 4, 84, 23, 482, 11, 16, 1157, 534, 690, 286, 27, 77, 1911, 1912, 1158], [47, 128, 445, 249, 360, 80, 73, 8, 157, 1159, 1913], [38, 865, 47, 56, 53, 2, 71, 1914, 9, 7, 284, 818, 5, 88, 7, 284, 818, 1915, 5], [79, 53, 2, 294, 40, 1, 82, 1082, 16, 7, 1916], [1917, 272, 1130, 4, 65, 19, 1918, 1919], [15, 2, 404, 17, 1920], [5, 88, 1921, 6, 2, 169, 1922, 329, 570, 1923, 11, 1924], [5, 1925, 367, 686, 49, 10, 60, 180, 20, 12, 49, 10, 60, 99, 20, 51, 10, 838, 285, 584, 20, 1926, 10, 99, 20, 338, 10, 60, 112, 20, 107, 329], [5, 787, 1927, 572, 12, 216], [1928, 1929, 104, 177, 99, 161, 1930, 12, 6, 2, 447, 33, 177, 368, 1931, 46, 1932, 195], [47, 1933, 1934, 20, 578, 13, 157, 1935, 1936, 148, 252, 392, 1937, 65], [47, 677, 304, 785, 1, 33, 271, 46, 249, 1160, 51, 42, 389, 327, 44, 1938, 271, 1, 2, 482, 7, 148, 1160, 1939, 220, 482, 255, 422, 1940], [238, 1161, 118, 799, 3, 589, 84], [1162, 51, 62, 47, 370], [67, 1941, 590, 17, 1942, 492, 13, 1163, 1943, 315], [236, 425, 153, 493, 103, 8, 7, 339, 48, 150, 494, 495, 591, 477, 3, 479, 592, 373, 2], [45, 176, 27, 77, 1126, 1944, 1945, 1946, 44, 1947, 1, 232, 1164, 1165, 16, 188, 106], [2, 24, 130, 3, 1166, 691, 139, 6, 23, 126, 231, 866, 351, 282, 1948, 745], [5, 60, 72, 10, 11, 10, 60, 72, 20, 54, 92, 1, 13, 11, 395, 108, 427, 293, 42, 692, 593, 490, 12, 219], [76, 7, 30, 90, 91, 64, 130, 21, 3, 55, 96, 6, 23, 280, 113, 39, 184, 42], [56, 83, 27, 102, 80], [1949, 1167, 202, 383, 3, 92, 12, 1168, 21, 247, 693, 17, 377, 335, 1, 32, 1950, 52, 25, 31, 594, 13, 14, 168, 429, 22, 29], [264, 47, 88, 5, 79, 193, 9, 110, 1951], [53, 2, 67, 3, 45, 104, 478, 277, 101, 158, 105, 227, 192, 113, 306, 208, 31, 12, 6, 9, 231, 169], [14, 120, 182, 3, 70, 2, 1169, 23, 263, 43, 33, 679, 85, 2, 53, 43, 15, 1952, 410, 61, 251, 52, 1, 119, 4, 70], [61, 6, 34, 94, 70, 694, 16, 536, 85, 2, 15, 68, 3, 96, 69, 12, 55], [412, 595, 595, 5, 124, 53, 4, 867, 1953, 123, 8, 3, 1954, 399, 695, 123, 1170, 19, 343, 57, 1171, 3, 349, 1, 1955, 298, 84], [1956], [49, 2, 87, 181, 80, 145, 341, 866, 201], [1957, 13, 22, 489, 12, 1172, 18, 203, 596, 403, 489, 1083, 1, 1, 168, 11, 32, 1135], [267, 7, 105, 436, 16, 153, 12, 192, 696, 359, 11, 640, 21, 1173, 1958, 14, 6, 16], [2, 1959, 68, 7, 781, 551, 782, 114, 12, 246, 156, 6, 13, 783, 228, 189, 261, 784], [1960, 62, 111, 1961, 1962, 836, 4, 411, 1963, 8, 17, 114, 47, 272, 1964, 40, 727, 4, 411, 1965, 28, 1966], [14, 176, 274, 2, 1967, 7, 45, 248, 26, 29, 1, 1, 241, 1968, 66], [27, 106, 8, 1174, 1, 2, 66, 1969, 378, 11, 8, 43, 1970, 1, 4], [223, 2, 59, 1, 82, 36, 275, 310, 142, 24, 47, 260, 142, 200, 941, 1971, 17, 4, 379], [36, 524, 86, 78, 51, 1972, 1973, 178, 1143, 868, 103, 51, 62, 78, 20, 355, 41, 43, 697, 101, 1974, 51, 568, 1975, 16, 36, 279, 377, 1175], [5, 15, 869, 1976, 85, 19, 103], [547, 1977, 311, 49, 10, 50, 287, 19, 221, 870, 330, 10, 98, 190, 221, 50, 262, 178, 12, 10, 465, 40, 311, 157, 1978, 80, 1176, 825, 20, 566], [1979, 1980, 1, 530, 9, 160, 47, 142, 24, 1981, 9, 1982, 1983, 25, 85, 3, 698, 91, 1, 163, 3, 1984, 16, 56, 142, 1177, 125, 376], [35, 207, 1, 6, 2, 342, 7, 31, 1, 34, 160, 9, 3, 104, 30, 105, 283, 26, 14, 208, 31, 12, 6, 13, 551, 1157], [1985, 8, 28, 388], [1000, 239, 36, 1986, 1987, 871, 597, 1, 1988, 11, 152, 3, 448, 21, 1989], [264, 264, 160, 92, 21, 20], [604, 8, 102, 19, 334, 1990, 1991, 1992, 3, 324, 17, 1178, 552, 47, 354, 163, 604, 57, 1179, 10, 238, 1993, 1994, 329], [699, 345, 16, 1995, 1996, 46, 1997, 305, 23, 3, 1998, 641, 21, 374, 231, 1174, 1, 2, 66, 1999], [94, 70, 752, 35, 2000, 207, 1, 187, 3, 231, 1, 2, 51, 200, 994, 1, 53, 47, 61, 6, 1, 2001], [2002, 207, 364, 11, 367, 1180, 872, 337], [46, 395, 40, 1, 530, 2003], [67, 32, 1181, 281, 67, 273, 432, 873, 268, 397, 18, 210, 168, 4, 431, 1182, 432, 158, 66, 433, 2004, 1], [53, 10, 149, 38, 101, 489, 44, 2005, 10, 103, 66, 2006, 18, 2007, 1183, 381, 532, 2008], [18, 1065, 8, 13, 18, 188, 387, 8, 57, 2009, 2010, 489, 17, 4, 344, 22, 18, 344, 1, 97, 466], [260, 167, 874, 6, 13, 25, 89, 201, 577, 378, 155, 138, 875, 8, 3, 374, 205, 6], [211, 7, 173, 212, 9, 131, 213, 475, 214, 6, 215, 199], [39, 3, 407, 548, 25, 6, 13, 15, 2, 68], [47, 73, 53, 2, 296, 1184], [174, 9, 7, 780, 1, 171, 379, 7, 30, 44, 33, 321, 61, 1176, 66, 633, 134, 12, 37, 49, 2, 31, 37, 2, 44, 43, 33, 321], [295, 22, 6, 1, 37, 39, 7, 486, 19, 546, 348, 65, 1, 308, 23, 7, 63, 13, 535, 2011], [151, 164, 56, 5, 86, 452], [27, 120, 8, 9, 7, 30, 248, 232, 28, 91, 64, 2012, 85, 2013, 172, 2014, 1185, 1, 158, 2015, 2016, 1, 2017], [234, 2018, 18, 130, 337, 598, 191, 297, 14, 146, 87, 140, 121, 22, 300, 1, 2019], [5, 2020, 36, 371, 38, 2, 2021, 1, 2022, 85, 7, 371], [53, 2, 67, 3, 45, 104, 63, 277, 101, 158, 105, 700, 104, 319, 11, 762, 89, 77, 14, 2023, 6, 12, 31, 13], [599, 1, 451, 46, 4, 2024, 785, 78, 17, 298, 8, 460, 2025, 820, 242, 71, 1186, 545, 46, 162], [76, 7, 30, 90, 91, 64, 130, 21, 3, 55, 96, 6, 23, 280, 113, 39, 184, 42], [151, 164, 491, 62, 1, 32, 17, 8, 38, 78], [23, 2026, 2027, 952, 22, 29], [2028, 385, 496, 56, 2029, 380, 2030, 2031, 2032, 1, 334, 2033, 224, 2034, 683, 2035, 22, 334, 224, 12, 683, 1, 13, 186, 81, 69], [134, 142, 1187, 36, 2036, 41, 133, 1, 4, 2037, 792, 183, 428, 44, 17, 1, 538, 183, 2038, 16, 848], [876, 52, 7, 210, 21, 3, 1188, 156, 19, 3, 1112, 309, 106, 428, 3, 14, 877, 100, 22, 701, 876, 1, 567, 89, 1189], [264, 116, 33, 109, 289], [19, 661, 677, 702, 10, 57, 87, 2039, 27, 87, 682, 18, 127, 2040, 99, 50, 10, 2041, 26, 878, 1, 288], [259, 56, 65, 8, 7, 583, 16, 534, 35, 40, 9, 2042, 16, 534], [322, 18, 130, 337, 19, 598, 191, 297, 14, 146, 34, 140, 121, 22, 300, 1, 879, 1021], [34, 30, 90, 91, 68, 1, 39, 319, 257, 95, 12, 492, 4, 1190, 260, 113, 16], [154, 49, 18, 1015, 938, 2043, 370, 820, 2044, 880, 1186, 88, 14, 74, 188, 77, 92, 13, 1068, 65, 2045], [21, 36, 1092, 178, 35, 821, 2046, 1191, 517], [2, 15, 68, 85, 3, 512, 703, 94, 34, 832, 91, 1192, 2, 1, 81, 3, 55, 1, 147, 8, 421, 25, 6], [2047, 63, 27, 63, 5, 344, 27, 102, 51, 2048, 4, 293, 8, 304, 5, 60, 135], [152, 7, 839, 30, 2049, 122, 359, 58, 814, 74, 14, 267, 105, 26, 16, 153, 761, 26, 134, 9, 2050, 37, 1, 623, 23, 1067], [370, 830, 2051, 2, 223, 149, 1193, 223, 2052, 2053, 52, 3, 2054, 12, 144, 381, 2055, 79, 193, 123, 2056, 123, 2057, 2058, 52, 17, 59, 2059], [10, 15, 3, 473, 474, 57, 8, 413, 187, 75, 21, 560, 48, 57, 142, 561, 57, 366, 18, 47, 562, 16], [5, 72, 2060, 588, 304, 36, 2061, 86, 59, 2, 356, 43, 33, 2062, 80, 313, 5, 88, 354, 4, 102, 1, 204, 2063], [581, 62, 78, 5, 340, 553, 945, 148, 509], [14, 9, 77, 58, 100, 18, 30, 127, 77, 25, 22, 58, 1, 32, 433, 11, 112, 18, 369, 704, 315], [5, 266, 10, 276, 442, 2064, 17, 224, 2065, 262, 178, 355, 5, 497, 2066, 98, 705, 8, 133, 112, 2067], [2068, 2069, 2, 15, 64, 881, 1194, 378, 155, 138, 2070], [32, 18, 171, 14, 13, 31, 1, 27, 120, 21, 100, 251, 176, 1, 7, 63, 127, 77, 25, 89, 229, 316, 48, 54, 29], [2, 706, 2071, 28, 51, 62, 882, 62, 2072, 436, 31, 376, 13, 1, 1055, 883, 1150, 217, 38, 44, 2073, 7, 686, 23, 42], [160, 209, 3, 884, 45, 58, 8, 52, 209, 103, 209, 8, 14, 168, 107, 386, 22, 58, 1, 13], [211, 7, 173, 212, 9, 131, 213, 475, 214, 6, 215, 132, 199], [2074, 695, 28], [35, 15, 45, 702, 1091, 17, 7, 335, 476, 19, 45, 304, 707, 17, 7, 335, 31, 426, 1, 258, 13, 42, 2075], [2076, 53, 20, 3, 2077, 179, 2078, 36, 457, 2079, 1, 2080, 179, 103, 8, 117, 457], [6, 635, 13], [79, 86, 433, 11, 583], [81, 3, 484, 2081, 19, 2082, 3, 549, 19, 18, 1195, 350, 365, 34, 140, 121, 22, 300, 1, 363], [7, 173, 91, 64, 2083, 21, 14, 26, 391, 1, 656, 25, 22, 4, 170, 410, 1, 37, 136], [586, 38, 545, 219, 4, 2084, 8, 28, 3, 2085, 274, 2, 15, 3, 166, 84, 217, 87, 133, 491, 202, 885, 575], [88, 17, 2086, 2087, 1095], [196, 5, 869, 2], [80, 124, 32, 157, 886, 36, 2088, 701, 708, 128, 724], [247, 693, 24, 198, 9, 2, 26, 7, 596, 863, 66, 7, 2089, 85, 2090, 288, 12, 683, 9, 600, 2091, 26, 7, 596, 863, 66, 3, 376], [1196, 44, 375, 32, 2092, 1, 167], [195, 4, 2093, 19, 2094, 2095, 16, 10, 66, 18, 709, 650, 2096, 17, 27, 527, 19, 2097, 28, 8, 3, 2098, 191, 1, 33, 709, 883], [2099, 2, 294, 498, 95, 376, 412, 2, 200, 452, 83, 43, 2100, 9, 2101], [244, 85, 3, 512, 158, 94, 2, 15, 64, 141, 1, 2102, 55, 486, 1, 39, 6, 39, 132, 184, 546, 42], [34, 230, 70, 91, 64, 550, 75, 10, 66, 197, 2103, 6, 13, 74, 44, 33, 777], [423, 18, 2104, 1030, 129, 32, 110, 499, 601, 100, 16, 18, 63, 1004, 16, 4, 729, 70, 106, 9, 394], [440, 2, 53, 2, 2105, 426, 4, 2106], [710, 41, 559, 4, 2107, 21, 887, 684, 888, 10], [1197, 2108, 1, 81, 69, 23, 1, 301, 22, 11, 54, 1, 225, 2109, 143, 31, 889, 394], [62, 78, 360, 10, 233, 573, 162, 509], [1198, 2, 15, 43, 2110, 4, 248, 2, 15, 262, 2111, 9, 508, 2112, 2113, 385, 1, 147, 7, 248], [890, 35, 124, 82, 49, 35, 50, 168, 1199, 11, 2114, 12, 380, 1199, 67, 521, 65], [2115, 2116, 1200, 1201, 2117, 2118, 572], [644, 771, 1137, 3, 565, 668, 55, 49, 10, 72, 57, 4, 45, 1138, 19, 1139, 44, 33, 22, 117, 249, 203, 1, 29, 849, 2119], [11, 180, 2120, 4, 2121, 11, 267, 2122, 10, 447, 43, 72, 20, 389, 135], [], [2123, 92, 32, 2124, 146, 417, 92, 2125, 46, 3, 2126, 19, 4, 225, 31, 12, 6, 1, 2127, 1202, 2128, 2129, 138, 593], [2130, 31, 273, 12, 269, 403, 2131, 2132, 2133, 2134, 2135, 100, 14, 11, 115, 73, 10, 168, 9], [267, 105, 267, 22, 192, 696, 16, 122, 153, 467, 317, 6, 9, 4, 389, 122, 314, 12], [61, 6, 612, 85, 109, 8, 110, 76, 106, 198, 9, 2], [78, 946, 13, 2, 46, 2136], [40, 2137, 60, 2138, 1178, 78], [128, 471, 20, 17, 441, 5, 630, 1063], [5, 685, 135, 196, 5, 15, 2139, 2140, 46, 36, 2141, 56, 206, 2, 235, 52, 278], [347, 64, 253, 1, 415, 190, 891, 2142], [347, 43, 268, 28, 123, 50, 54, 20], [2143, 25, 1028, 20, 38, 2, 1203, 34, 963, 174], [164, 97, 395, 440, 676, 61, 1066, 4, 962, 15, 476, 19, 2144, 11, 15, 3, 2145, 84], [2146, 571, 2147, 2148, 56, 24, 2, 452, 19], [2, 2149, 48, 19, 892, 2150, 1204, 4, 293, 84, 2151, 2152, 21, 20, 1172, 73, 10, 2153, 32, 3, 489, 2154, 1205, 165, 366, 35, 44, 32], [507, 85, 677, 579, 85, 10, 59, 37, 2155, 305, 10, 50, 243, 54, 377, 2156, 22, 510, 1], [67, 1, 2157, 52, 18, 642, 21, 3, 140, 45, 100, 31, 27, 26, 1206, 4, 872, 98, 303, 176, 158, 291, 464, 143], [2158, 118, 1204, 27, 8, 7, 279, 1117, 1, 147, 7, 438, 114, 12, 69, 175, 6, 23, 126, 136, 228], [643, 4, 1106, 87, 95, 107, 38, 379, 1207, 81, 688, 858, 2159, 21, 688, 177, 22, 177, 1, 2160, 378], [32, 4, 893, 499, 269, 171, 12, 240, 601, 16, 1208, 30, 9, 2161, 302, 26, 100, 12, 601, 1, 429, 22, 1209, 29], [2162, 24, 2, 102, 19, 220], [118, 35, 71, 111, 2163, 154, 154], [266, 2164, 125, 50, 336, 5, 772, 40, 2165, 544, 50, 40, 9, 102, 645, 2166], [128, 266, 19, 287, 1, 434, 281], [53, 2, 67, 277, 101, 158, 105, 26, 11, 3, 45, 104, 63, 9, 42, 786, 301, 89, 77, 6, 13, 12, 31, 9, 231, 169], [18, 711, 8, 500, 301, 1, 712, 18, 713, 13, 54, 69, 1, 42, 894, 155, 138], [1210, 245, 2167, 66, 17, 3, 2168, 665], [5, 149, 200, 133, 1, 2169, 13, 145], [2170, 24, 96, 4, 122, 58, 63, 3, 362, 406, 12, 3, 55, 22, 170, 147, 1, 37, 1211], [254, 703, 401, 463, 21, 24, 141, 1, 3, 119, 3, 175, 49, 7, 90, 895, 6, 1, 119, 7, 175], [76, 61, 6, 23, 126, 69, 12, 3, 2171, 2172, 1122, 114, 246, 156, 136, 228, 155, 138], [79, 193, 8, 2173, 17], [639, 2174, 2175, 2176, 2177, 358, 2178, 2179, 19, 242, 259, 40, 1026, 896, 10, 1212, 476, 19, 2180, 275], [85, 3, 707, 2181, 678, 18, 121, 191, 226, 44, 33, 485, 16, 897, 19, 3, 714, 420, 1, 586, 17, 4, 2182, 2183], [14, 146, 417, 34, 140, 418, 25, 54, 4, 170, 365, 1, 13, 189, 1069, 1032, 329], [1213, 43, 162, 481, 1, 232, 1213, 2184, 9, 621, 6, 1, 324, 7, 232, 289, 2185, 169], [424, 36, 93, 79, 597, 7, 84, 24, 2, 619, 5, 149, 19, 2, 36, 570, 11, 54, 3, 2186, 1, 7, 552, 1, 2187, 2, 5, 93, 2, 50, 2, 667, 28, 5, 2188, 28, 1214, 4, 1215, 9, 74, 4, 527, 1, 667, 2189, 836, 2190, 8, 709, 11, 2191, 2192, 2193, 595], [151, 462, 163, 20, 3, 574, 323, 1, 2194, 341, 36, 2195], [56, 43, 715, 2196], [10, 15, 3, 473, 474, 57, 8, 413, 187, 75, 21, 560, 48, 57, 142, 561, 57, 366, 18, 47, 562, 16], [76, 27, 8, 4, 172, 1, 75, 815, 15, 68], [11, 24, 1216, 63, 218, 6], [4, 864, 19, 2197, 8, 43, 73, 35, 258, 1045, 556, 217, 51, 458, 28, 8, 73, 35, 258, 2198, 728, 217, 15, 3, 589, 675, 1042], [1115, 470, 437, 133, 16], [78, 164, 361, 62, 25, 326, 337, 2199, 1217, 12, 2200, 1217, 2201, 4, 2202, 2203, 2204, 492, 73, 18, 2205, 82, 2, 793], [45, 317, 23, 447, 40, 22, 58, 1, 37, 147, 237, 103, 23, 42, 716], [2206, 310, 674, 1, 7, 63, 82, 20, 498, 2207, 11, 2208, 25, 9, 2, 1218, 26, 310, 1, 13, 22, 1163, 898, 275], [116, 82, 51, 2209, 151], [267, 105, 11, 436, 14, 467, 16, 153, 744, 16, 899, 58, 359, 435, 6, 16, 12], [295, 283, 14, 319, 656, 2210, 22, 6, 1, 37, 283, 319, 161, 2211, 29, 2212], [14, 146, 1, 4, 487, 418, 3, 186, 1, 81, 4, 122, 58, 2213, 12, 69, 127, 2214, 166, 1], [17, 4, 2215, 900, 2216, 17, 1219, 203, 4, 2217, 38, 2218, 46, 4, 258, 19, 4, 1220, 2219, 84, 2220, 84, 2221, 84, 54, 3, 125, 12, 137], [254, 636, 401, 463, 21, 24, 141, 1, 119, 3, 486, 49, 2, 15, 3, 539, 61, 6, 637, 39, 132, 638, 464, 143], [2, 15, 64, 141, 1, 576, 17, 19, 251, 1221, 1222, 9, 459, 114, 350, 1, 39, 6, 901, 2222], [3, 543, 1, 7, 2223, 91, 64, 268, 2, 50, 396, 308], [587, 484, 271, 794, 681, 9, 8, 237, 6, 13, 137, 2224, 265, 814, 74, 14, 60, 180, 48], [5, 42, 442, 2225, 62, 2226], [76, 6, 23, 126, 7, 2227, 438, 114, 12, 69, 246, 156, 228, 136, 155, 138, 2228, 2229, 129], [2230, 5, 266, 803, 8, 356, 355, 37, 99, 40, 341, 1201, 1223], [76, 7, 30, 37, 86, 130, 3, 250, 414, 55, 16, 27, 8, 34, 172, 1, 75, 2, 6], [45, 1224, 92, 629, 294, 17, 18, 335, 25, 14, 119, 822, 902, 12, 46, 1225, 22, 102, 203, 1], [56, 159, 5, 434, 2231, 870, 2232], [32, 115, 579, 2233, 11, 270, 23, 819], [2234, 27, 690, 46, 1226, 23, 18, 402, 145], [14, 120, 834, 108, 3, 689, 17, 7, 335, 19, 273, 304, 24, 198, 1, 92, 2235, 92, 1, 54, 2236, 89, 120], [5, 72, 3, 327, 304, 5, 50, 483, 52, 11, 511, 1, 4, 134], [361, 743, 358, 51, 2237, 646, 5, 15, 64, 2238, 2239, 19, 1227, 74, 229, 35, 15, 71, 34, 2240, 218, 2241, 46, 4, 2242, 107, 329, 896, 1212, 318], [31, 21, 7, 203, 11, 903, 11, 2, 44, 119, 66, 411, 3, 252, 1228, 14, 2243, 46, 2244, 2245, 873], [79, 44, 5, 2246, 16, 2, 13], [32, 3, 14, 30, 104, 406, 14, 900, 1, 147, 26, 40, 1, 62, 14, 554, 2247, 50, 33, 1169, 735, 11, 282, 143, 2248, 42], [322, 174, 1, 3, 97, 185, 10, 15, 68, 4, 234, 55, 39, 8, 421, 25, 6, 13, 42, 89, 526, 569], [2249, 10, 434, 2250, 434, 405, 10, 717, 542, 20, 262, 755, 10, 107, 47, 655, 31, 5, 266, 62, 115, 2251, 531, 47, 125, 2252, 13, 287, 2253, 5, 434], [1229, 1229, 22, 2254, 109, 1, 1, 365, 87, 140, 121, 3, 191, 226, 3, 549, 19, 377, 1195, 136, 2255, 1], [227, 192, 153, 113, 306, 122, 139, 435, 14, 152, 7, 63, 6, 1230, 14, 16, 1, 239, 13, 136], [152, 7, 30, 1113, 12, 115, 10, 87, 662, 1, 239, 1, 4, 122, 240, 317, 21, 139, 9, 14, 6, 4, 30, 239, 1231, 14, 16], [211, 7, 173, 212, 9, 131, 213, 261, 5, 288, 214, 6, 215, 132, 199], [2256, 130, 1, 204, 2257, 69, 6, 1, 39, 127, 406, 1232, 201, 429], [5, 93, 7, 812, 53, 2, 195, 2258, 1233], [2259, 273], [78, 2260, 5, 2261, 2262, 1234, 5, 2263], [805, 806, 807, 17, 99, 808, 16, 18, 210, 112, 18, 22, 100, 332, 1, 9, 809, 12, 269, 332, 9, 416, 567, 810, 332], [56, 904, 118, 150, 2, 2264, 5, 88, 2265], [97, 1093, 36, 93, 79, 905, 7, 84, 56, 24, 2, 52, 1, 5, 2266, 573, 11, 88, 906, 198, 9, 2, 1057, 1191, 907, 8, 906, 5, 82, 582], [56, 10, 908, 888, 573, 333, 62, 2267, 622, 501, 7, 46], [151, 40, 16, 80, 578, 11, 976, 2268, 2269, 9, 63, 1, 492, 274, 4, 2270, 2271, 575, 2272], [227, 192, 153, 113, 306, 122, 139, 435, 14, 152, 7, 63, 6, 1230, 14, 16, 1, 239, 13], [528, 159, 40, 1, 2273, 11, 2274, 1235], [2, 15, 68, 3, 96, 69, 12, 3, 2275, 39, 377, 55, 6, 34, 94, 70, 694, 16], [122, 58, 30, 12, 362, 406, 2276, 96, 31, 21, 81, 1, 13, 2277], [419, 26, 20, 281, 11, 135, 82, 586, 52], [160, 909, 1236, 4, 45, 2278, 2279, 11, 4, 2280, 1237, 2281, 204, 1235, 2282, 714, 12, 2283, 235, 31, 235, 1236], [14, 2284, 222, 108, 48, 83, 7, 93, 255, 13, 408, 9, 14, 26, 186, 1, 42, 292, 14, 602, 427], [41, 1238, 17, 557, 2285], [79, 193, 24, 35, 498], [5, 60, 67, 2, 1, 320, 51, 41, 2286, 278, 56, 5, 50, 1, 576, 2287, 2288, 21, 2, 2289, 695, 2290], [194, 643, 164, 600, 44, 2291, 239, 161], [61, 6, 34, 94, 70, 694, 16, 635, 536, 85, 2, 15, 68, 3, 96, 69, 12, 55], [14, 120, 32, 2292, 2293, 430, 171, 2294, 14, 25, 31, 40, 1, 27, 106, 216, 13], [1198, 23, 1, 32, 301, 14, 6, 410, 11, 390, 19, 166, 314, 179, 31, 27, 26, 21, 7, 184, 203, 626, 37, 11, 902], [135, 88, 2295, 17, 3, 2296, 2297, 47, 49, 10, 296, 6, 88, 46, 181, 682, 1, 33, 1203], [171, 177, 32, 4, 379, 693, 1109, 16, 7, 30, 427, 77, 11, 305, 101, 251, 910, 171, 27, 106, 8, 14, 19, 409], [76, 7, 781, 551, 782, 114, 12, 246, 156, 6, 13, 783, 228, 189, 261, 784], [254, 703, 401, 463, 21, 148, 2298, 2299, 24, 141, 1, 2300, 3, 175, 49, 7, 90, 895, 61, 6, 1, 39, 7, 175], [45, 1224, 92, 629, 294, 17, 18, 335, 25, 14, 119, 822, 902, 12, 46, 1225, 22, 102, 203, 1, 2301, 29, 2302], [35, 500, 15, 3, 106, 373, 7, 156, 1, 147, 7, 106, 25, 6], [264, 5, 774, 775, 505, 690, 35, 50, 40, 2303, 2304, 102, 911, 1, 330, 912, 1, 2305, 2306, 2307, 50, 40, 803, 911, 1, 330, 912, 1, 2308, 1064, 2309, 912, 46], [520, 6, 1103, 580, 401, 632, 51, 572, 37, 106], [17, 242, 13, 133, 15, 17, 327, 201], [85, 102, 19, 34, 707, 2310, 10, 50, 365, 4, 121, 3, 2311, 191, 226, 66, 633, 21, 365, 1, 241, 26, 29], [348, 247, 187, 45, 371, 12, 2312, 17, 93, 17, 4, 2313, 913, 1239, 26, 230, 70, 25, 26, 688, 1, 11, 82, 57, 2, 263, 221], [5, 268, 2, 4, 2314, 11, 53, 2, 620, 4, 111, 376], [2, 24, 3, 244, 2, 15, 64, 357, 141, 1, 119, 69, 12, 3, 175, 290, 1, 3, 167, 291, 1, 39, 6, 225], [430, 2315, 1240, 880, 128, 59, 1241, 413, 294, 43, 20, 36, 1242, 59, 325, 1240, 2316, 2317, 1043, 51, 5, 276, 266, 123, 8, 914, 144, 452, 1243, 913, 915, 116, 40], [61, 112, 20, 2, 15, 144, 19, 38, 271, 1159, 2, 200, 908, 83], [2318, 25, 99, 2319, 17, 4, 2320, 28, 584, 190, 3, 2321, 47, 123, 2322, 20], [336, 2323, 86, 916, 1058, 2324], [2, 15, 45, 106, 6], [619, 135, 515, 28, 1, 2, 82, 2, 17, 59, 111, 105], [2325, 73, 2, 245, 492], [834, 113, 21, 3, 556, 2326, 180, 437, 18, 303, 255, 51, 60, 180, 18, 303, 255, 9, 437, 238, 917], [76, 7, 30, 37, 86, 130, 3, 250, 414, 55, 16, 27, 8, 34, 172, 1, 75, 2, 6, 518, 374, 205], [80, 10, 311, 705, 40, 98, 384, 10, 178, 51, 5, 541, 1244, 672, 442, 221, 746], [2327, 196, 187, 20, 629, 2328, 20, 16, 22, 20, 7, 918, 13, 196, 41, 260, 2329, 11, 99, 2, 13, 74, 2330, 225, 1245, 54, 29], [142, 15, 3, 2331, 16, 4, 2332, 2333, 19, 4, 2334, 501, 2335, 411, 2336, 1108, 258, 23, 4, 148, 953, 11, 147, 23, 4, 2337, 52], [619, 200, 74, 671, 202, 26, 4, 399], [2, 24, 96, 4, 122, 58, 63, 3, 362, 406, 12, 3, 55, 22, 170, 147, 1, 37, 1211], [718, 250, 271, 301, 19, 2338, 718, 297, 1, 33, 68, 25, 344, 421, 819, 204, 13, 54, 718, 1, 115], [2339, 2340, 191, 9, 1246, 85, 2341, 799, 144, 2342, 191, 911, 676], [56, 65, 48, 405, 915, 12, 47], [503, 59, 1, 112, 2, 36, 2343, 2344, 874, 6, 20, 25, 1, 29, 222, 6, 1247, 205], [168, 4, 431, 2345, 432, 70, 11, 10, 50, 15, 590, 25, 864, 52, 11, 1164, 4, 1165, 22, 146, 1, 13], [2346, 30, 204, 4, 893, 2347, 2348, 302, 16, 18, 30, 216, 13, 26, 2349, 1, 9, 4, 302, 35, 2350, 54, 10, 3, 14, 1075], [229, 14, 176, 10, 427, 229, 22, 58, 16, 1, 9, 2351, 58, 176, 12, 483, 16, 1, 9, 416], [7, 14, 171, 8, 198, 1, 33, 2352, 919, 26, 4, 935, 2353, 1, 1, 2354, 32, 2355, 11, 2356, 2357, 155, 138], [197, 91, 610, 34, 230, 70, 11, 485, 7, 63, 444, 142, 383, 2, 1, 108, 48, 57, 28, 8, 6, 23, 3, 126], [41, 396, 599, 1, 1248], [355, 5, 86, 48, 407, 708, 705, 568, 13, 98, 5, 632, 190, 311, 287, 2358, 123, 465, 178, 80, 123, 404, 2359, 57, 5, 86, 708, 98, 123, 1167, 2360, 705, 178], [2, 15, 68, 3, 96, 69, 12, 3, 55, 1, 39, 377, 55, 6, 34, 94, 70, 694, 16, 536], [979, 19, 750, 536, 513, 8, 43, 83, 537, 292, 980, 4, 634, 981, 83, 537, 25, 66, 751, 4, 203, 238, 982, 2361], [372, 660, 83, 2362, 3, 97, 255, 21, 3, 1249, 689, 25, 22, 95, 203, 11, 596, 1, 168, 4, 30, 1250], [1110, 376, 25, 2363, 52, 16, 2, 53, 15, 3, 2364, 1251], [194, 151, 1046, 62, 36, 2365], [49, 2, 50, 187, 28, 101, 65, 281, 12, 719, 2, 50, 62, 361, 25, 26, 20, 719, 256, 469], [2366, 1119, 469, 159, 33, 2367, 135, 1, 7, 2368, 468, 2, 24, 47, 1252, 11, 2369, 2, 24, 948, 17, 3, 273, 2370, 19, 920], [35, 207, 1, 75, 2, 342, 7, 31, 1, 34, 129, 19, 3, 104, 63, 277, 101, 158, 105, 227, 192, 113, 306, 208, 31, 12, 6], [750, 8, 43, 3, 302, 1, 204, 28, 8, 43, 3, 170, 1, 325, 28, 2371, 258, 16, 841, 11, 422, 16, 299, 28, 8, 169, 585, 103, 11, 224], [2372, 10, 17, 2373, 2374, 2375], [454, 1053, 2376, 3, 186, 81, 2377, 720, 302, 2378, 1253, 9, 270, 720, 502, 439, 409, 82, 657, 1254, 37, 1255], [295, 259, 10, 5, 25, 71, 19, 580, 2379, 2380, 31, 2381, 1, 27, 22, 116, 54, 10, 36, 310, 2382, 52, 41, 47, 578, 46, 242, 275], [15, 3, 451, 46, 4, 1256, 1257, 17, 1258, 558, 12, 3, 443, 2383, 37, 2384, 3, 1256, 1257, 2385, 1, 33, 3, 443], [568, 673, 2386, 2387], [62, 78, 49, 2388, 2389, 542, 20, 10, 666, 2390], [2, 15, 45, 2391, 61, 6], [2392, 2393, 2394, 9, 10, 26, 2395, 2396], [18, 718, 496, 711, 8, 500, 1, 712, 18, 713, 13, 54, 1, 42], [2397, 90, 18, 130, 3, 1259, 1260, 11, 263, 81, 3, 594, 407, 548, 127, 229, 22, 549, 1, 776], [296, 15, 3, 846, 408, 2398, 16, 7, 30, 13, 2399, 66, 433, 4, 170, 92, 11, 54, 28, 1, 37, 2400, 155, 138, 901, 692], [336, 51, 28, 124, 2401, 2402, 921, 47, 5, 606, 2403, 220], [5, 44, 33, 2404, 608, 375, 2, 44, 33, 697, 74, 111, 1048, 995, 2405, 7, 2406, 922], [35, 207, 1, 75, 2, 342, 7, 31, 1, 34, 129, 19, 105, 2407, 3, 45, 104, 63, 6, 13, 12, 31, 9, 14, 231, 169], [2408, 2409, 41, 2410, 2411, 8, 419], [2412, 2413, 2414, 274, 10, 59, 331, 20, 607, 2415, 71, 3, 1005, 644, 296, 137, 36, 2416, 12, 31, 426, 1, 1006, 29, 1], [295, 150, 547, 2, 1187, 1, 36, 26, 41, 2417, 247, 2418, 11, 167, 702, 358, 1, 667, 23, 10, 1194, 378, 89, 120, 31, 29, 1, 235], [158, 291, 4, 70, 8, 14, 9, 351, 282, 514], [5, 88, 198, 2419, 6, 20, 923, 2, 14], [996, 2420, 483, 20, 52, 73, 256, 95, 444, 971, 5, 15, 1, 2421, 52, 21, 1193, 11, 123, 354, 91, 381, 2422, 8, 964], [2, 24, 506, 2423, 326, 32, 7, 30, 248, 23, 2424, 6, 2425, 1197, 762, 9, 42], [25, 2426, 28, 52, 11, 2427, 905, 95, 2428, 865, 1, 33, 117], [1018, 1261, 51, 516, 71, 129, 428, 42], [41, 388, 2429, 924, 2430, 2431, 2432], [499, 265, 2433, 60, 180, 4, 2434, 472, 22, 18, 374, 925, 1, 403, 499, 1, 2435, 2436], [10, 15, 68, 3, 58, 428, 3, 14, 691, 139, 27, 8, 56, 10, 32, 73, 10, 81, 34, 14, 209, 1, 107, 386, 54, 58, 1, 13], [76, 7, 30, 37, 68, 3, 250, 414, 55, 16, 27, 8, 4, 172, 1, 415, 2, 6, 566], [5, 60, 72, 51, 41, 2437, 2438, 46, 2439], [2440, 2441, 4, 430, 2442, 867, 13, 9, 269, 26, 9, 273, 26, 1, 430, 533, 9, 25, 2443, 136, 143], [295, 383, 3, 1168, 31, 426, 13, 168, 4, 431, 1262, 1263, 30, 230, 70, 602, 692, 25, 1, 429, 22, 29, 1, 31, 426, 13], [195, 1264, 672], [11, 36, 399, 871, 8, 1265, 545, 66, 840, 281, 37, 2444], [62, 25, 4, 2445, 19, 2446, 25, 1266, 28], [27, 106, 8, 14, 402, 1, 4, 45, 2447, 590, 432, 177, 1, 241, 23, 27, 70, 31, 29], [18, 711, 8, 500, 301, 1, 712, 18, 713, 13, 54, 40, 1, 42, 894], [2, 15, 110, 236, 94, 70, 752, 6, 635, 13], [18, 711, 8, 500, 301, 1, 712, 18, 713, 13, 54, 40, 1, 42, 894], [9, 273, 2448, 27, 865, 5, 124, 243, 2449, 36, 645, 2450, 8, 48, 11, 41, 926], [396, 38, 92, 86, 564, 51, 60, 187, 28, 1267, 797, 2, 50, 82, 117, 17, 343], [78, 47, 1133, 124, 471], [2, 24, 3, 244, 12, 96, 414, 55, 27, 8, 34, 279, 172, 1, 75, 2, 1, 39, 6, 13], [49, 2, 60, 7, 55, 44, 40, 1, 557, 94, 189, 46, 2451, 2452, 378, 2453, 901, 61, 6, 95, 49, 885], [32, 7, 2454, 682, 9, 594, 21, 3, 14, 641, 19, 594, 2455, 11, 2456, 350, 42, 21, 4, 2457, 27, 603, 1, 29, 2458], [15, 3, 1268, 524, 1, 2459, 446, 2, 2460, 11, 389, 375, 607, 1, 1041, 2461, 21], [880, 702, 1269, 413, 9, 1239, 1078, 13, 273, 895, 2462, 1, 7, 63, 26, 539, 1, 120, 225, 29, 22, 29], [76, 7, 30, 90, 68, 3, 250, 414, 55, 16, 27, 8, 4, 172, 1, 415, 2, 6, 566, 138], [194, 174, 3, 2463, 262, 2464, 2465], [9, 4, 913, 2466, 407, 2467, 23, 89, 343, 6, 12, 514, 2468], [97, 286, 88, 133, 1, 233], [197, 10, 72, 91, 550, 34, 230, 70, 75, 2, 124, 519, 57, 6, 13, 74, 44, 33, 777, 155], [710, 399, 36, 723, 8, 787, 1, 33, 2469, 1098, 19, 304], [35, 207, 1, 75, 2, 342, 7, 31, 1, 34, 129, 19, 3, 104, 478, 277, 101, 1136, 105, 283, 26, 208, 31, 12, 6, 13], [272, 25, 2470, 341, 3, 2471, 19, 2472, 150, 2473, 17, 400, 11, 5, 124, 112, 49, 624, 506, 2474, 12, 25, 2475], [50, 2, 6, 20, 927, 7, 90, 131, 48, 19, 2476, 335, 5, 15, 2477, 6, 17, 2478, 338, 15, 1, 415, 289, 829, 47, 6, 20, 927], [2479, 449, 217, 2480, 449, 217, 2481, 449, 217, 2482, 2, 15, 74, 961, 27, 2483, 621], [261, 13, 42, 5, 2484, 1070, 2485, 333, 42], [861, 157, 188, 423, 914, 8, 2486, 2487, 71], [749, 94, 2, 299, 13, 39, 7, 14, 139, 63, 844, 3, 445, 40, 475, 701, 9, 7, 488, 6, 16, 422, 143], [86, 452, 83, 2488, 18, 1237, 1270, 98, 1127, 2489, 699, 2490, 220, 2491, 16, 1271], [624, 97, 79, 24, 2, 501, 87, 10, 388, 13], [35, 207, 1, 75, 2, 342, 7, 604, 1, 34, 129, 19, 3, 45, 58, 642, 11, 208, 483, 31, 12, 6, 9, 231], [112, 118, 56, 904, 1, 2, 150, 2, 908, 1, 20, 59, 110, 2492], [76, 61, 6, 23, 3, 126, 69, 12, 3, 114, 246, 156, 351, 282, 228, 155, 138], [424, 1272, 79, 24, 2, 103, 5, 223, 93, 1, 15, 3, 92, 150, 60, 2, 112, 20, 56, 2, 451, 59, 11, 56, 2, 24, 17, 1, 247], [322, 18, 130, 337, 19, 598, 191, 297, 14, 146, 34, 140, 121, 22, 300, 1, 879], [259, 196, 847, 2493, 896, 46, 157, 2494, 1273, 157, 2495, 64, 1059, 16, 157, 2496, 74, 84, 152, 3, 361, 2497, 2498, 2499, 1274, 6, 41, 2500, 2501, 887, 318], [79, 2502, 165, 2503], [254, 636, 401, 463, 24, 141, 1, 119, 3, 175, 49, 2, 2504, 3, 539, 61, 6, 637, 39, 132, 638, 464, 540], [5, 2505, 1, 454, 3, 2506, 723, 2507, 1275, 2508, 2509, 3, 2510, 19, 111, 2511, 8, 37, 2512, 1, 2513, 652, 2514, 111, 2515, 36, 915], [564, 387, 21, 3, 878, 344, 197, 550, 3, 907, 79, 8, 18, 255, 123, 2516, 338, 1125, 272, 8, 491, 2517], [440, 2, 244, 2518, 66, 160, 97, 466, 37, 770, 2519, 31, 29, 1, 94, 218], [7, 922, 8, 1249], [259, 182, 5, 2520, 336, 3, 3, 2521, 2522, 64, 17, 2523, 2524, 40, 2525, 49, 2526, 2527, 2528, 3, 358, 2529], [14, 2530, 881, 7, 30, 90, 66, 2531, 23, 2532, 6, 1, 15, 1276, 2533, 6, 44, 33, 14, 23, 3, 518, 126], [81, 3, 2534, 21, 2535, 10, 12, 3, 142, 24, 500, 16, 56, 1207, 26, 12, 1, 225, 502, 26], [151, 164, 56, 5, 660, 2536, 72, 49, 2537, 559, 16, 183], [1205, 43, 133, 2538, 262], [164, 4, 892, 21, 2539, 38, 40, 135, 256, 1185, 3, 2540, 102, 1081, 1226, 1277, 82, 2, 9, 2541, 555, 65, 555, 324], [2542, 71, 2543, 2544, 2545, 2546, 1278, 2547, 2548, 337, 35, 434, 558, 330, 40, 766, 98, 2549, 12, 40, 1060, 12, 796], [2550, 50, 2, 61, 492, 2551, 2552, 2553, 410], [1244, 914, 942, 2554, 71, 242, 53, 505, 10, 388, 13], [382, 1155, 1279, 114, 12, 69, 1171, 7, 76, 156, 13, 23, 126, 43, 1, 2555, 48], [2556, 5, 709, 850, 1, 7, 2557, 27, 333, 5, 180, 2, 162, 36, 93, 5, 274, 7, 84, 905, 135, 11, 2, 24, 480, 5, 471, 9, 257, 1, 33, 670, 313], [134, 4, 42, 324, 17, 400, 1, 221, 1280, 837, 693, 8, 13, 17, 4, 379, 22, 92, 1, 13], [1281, 234, 129, 122, 359, 640, 58, 14, 467, 267, 105, 22, 16, 153, 6, 16, 12], [2558, 1282, 8, 3, 84], [590, 52, 18, 30, 21, 3, 14, 247, 309, 19, 764, 25, 26, 196, 1, 80, 127, 229, 32, 3, 247, 2559, 939, 115, 310], [115, 304, 24, 432, 17, 7, 335, 13, 6, 11, 168, 59, 2560, 294, 150, 43, 1283, 974, 477, 27, 675, 2561], [928, 5, 266, 5, 276, 442, 758, 5, 40, 393, 80, 112, 128], [2562, 2563, 14, 58, 14, 359, 14, 2564, 2565, 16, 153, 839, 6, 16, 12, 6], [243, 10, 60, 32, 17, 892, 563, 2566, 666, 190, 923, 12, 2567, 11, 25, 666, 2568, 298, 602, 60, 137, 11, 736, 2569, 60, 31], [37, 58, 100, 18, 210, 127, 77, 25, 22, 2570, 1, 100, 14, 47, 32, 1284, 13, 11, 112, 18, 371, 31, 889], [2, 15, 68, 3, 192, 1, 39, 6], [2571, 97, 21, 2572, 4, 2573, 263, 125, 3, 1285, 2574, 168, 4, 431, 1262, 1263, 2575, 177, 31, 2576, 2577, 31, 29], [255, 1233, 2578, 173, 37, 61], [929, 84, 271, 81, 219, 17, 34, 496, 11, 107, 7, 689, 16, 4, 524, 19, 3, 2579, 54, 40, 1, 13, 692], [118, 617, 64, 618, 1, 731, 27, 8, 34, 279, 172, 1, 75, 10, 22, 92, 1, 593], [56, 24, 7, 45, 490, 969], [154, 94, 488, 1286, 45, 30, 23, 42, 46, 716, 22, 170, 258, 1, 37, 32, 237, 13, 189], [287, 65, 128, 465, 103], [53, 2, 67, 3, 45, 104, 478, 101, 65, 101, 158, 105, 283, 26, 208, 31, 12, 6, 13, 9, 551, 690, 88], [151, 49, 35, 53, 15, 1, 32, 3, 2580, 523, 35, 99, 1, 947, 34, 394, 1077, 1, 960, 111, 367, 2581, 25, 1, 33, 1268], [76, 7, 30, 90, 91, 64, 130, 21, 3, 55, 96, 6, 23, 280, 113, 39, 184, 42], [6, 11, 54, 34, 661, 417, 2582, 2583, 25, 1, 29, 222, 6, 1247, 205], [35, 44, 221, 375, 1085, 2584], [278, 1175, 825, 1242, 178], [2, 24, 3, 244, 10, 15, 64, 357, 141, 119, 69, 12, 3, 114, 748, 535, 290, 1, 3, 167, 291, 39], [1287, 1288, 137, 2585, 2586, 17, 2587, 27, 2588, 1287, 1288, 32, 14, 1289, 2589, 423, 2590, 137, 189, 2591, 31, 899, 2592, 1220, 314], [1290, 174, 9, 7, 1255, 19, 3, 104, 2593, 23, 1290, 753, 64, 321, 149, 2, 50, 53, 356, 150, 43, 54, 3, 104, 17, 3, 2594], [182, 1228, 717, 44, 2595, 860, 2596, 27, 77, 49, 7, 165, 202], [292, 2597, 2598, 109, 8, 37, 308, 17, 2599, 2600], [79, 655, 380, 2601, 532, 107], [2602, 606, 930, 95, 1, 2603, 23, 1291, 36, 2604, 8, 2605], [53, 2, 67, 3, 45, 58, 240, 63, 679, 169, 21, 14, 323, 1, 101, 30, 14, 26, 14, 208, 31, 12, 6], [93, 695, 3, 2606, 62, 3, 669, 49, 35, 263, 2607, 57, 1, 93, 80, 255, 223, 33, 193, 2608, 51, 80, 1128, 2609], [20, 162, 2610, 8, 697, 2611, 1, 384, 52, 36, 2612, 11, 4, 1292, 8, 545, 95], [37, 16, 4, 312, 181, 47, 49, 43, 9, 4, 655, 2613, 2614, 4, 1097, 223, 15, 64, 219], [148, 186, 39, 18, 350, 19, 450, 297, 103, 26, 698, 1, 13, 346, 314, 30, 351, 282, 346, 614], [1023, 393, 48, 34, 1086, 641, 19, 248, 270, 176, 2615, 1099, 11, 680, 331, 7, 30, 2616, 11, 1183, 26, 439, 1], [154, 2617, 2618, 15, 2619, 4, 2620, 2621, 2622, 95, 968, 70, 66, 2623, 11, 1293], [37, 2624, 319], [78, 671, 398, 10, 813, 224, 390, 183], [581, 37, 2625, 51, 446, 503, 2626, 48, 3, 665, 2627], [2628, 15, 152, 513, 19, 580, 42, 404, 292, 5, 268, 3, 26, 1, 348, 680, 2629, 148, 77, 101, 973, 53, 2, 149, 12, 2630], [166, 472, 6, 739, 1, 39, 7, 96, 69, 12, 191, 290, 1, 3, 167, 291, 13], [2, 24, 3, 244, 10, 15, 64, 357, 141, 119, 12, 3, 114, 748, 535, 290, 1, 3, 167, 291, 39], [1241, 466, 18, 1294], [31, 1, 81, 140, 501, 44, 4, 2631, 527, 817, 33, 2632, 54, 29, 1, 1, 235, 70], [2633, 52, 18, 210, 21, 3, 1188, 156, 19, 58, 1189, 106, 428, 3, 14, 877, 100, 22, 701, 876, 1], [14, 302, 32, 2634, 2635, 14, 23, 4, 270, 720, 32, 18, 270, 1254, 31, 411, 80, 699, 1253, 2636, 9, 720, 2637], [37, 2638, 2639, 448, 2640, 174, 575, 101, 1196, 56, 65, 5, 159, 145, 169], [2641, 5, 112, 10, 568, 13], [28, 1, 7, 14, 26, 391, 24, 184, 405, 931], [43, 950, 23, 3, 563, 6, 20, 13, 88, 202, 74, 286, 21, 25, 36, 2642, 16, 187, 20, 2643, 9, 28, 59, 10, 206, 148, 65, 1218, 358], [97, 333, 927, 6, 20, 510], [37, 51, 2, 497, 20, 2, 200, 133, 289, 2, 71, 2644], [36, 534, 639, 778, 2645, 36, 2646, 330, 40, 2647, 292, 2648], [2649, 86, 17, 2650, 9, 38, 2651, 293, 2652], [2653, 27, 8, 4, 172, 1, 75, 815, 15, 68, 6, 1072, 1073], [389, 1295, 98, 2654, 801, 372, 5, 1296, 631, 9, 36, 93, 51, 46, 334, 235, 36, 93, 1296, 20, 9, 631, 238, 2655], [151, 37, 2656, 148, 286, 8, 1297, 823, 52, 21, 2, 290, 375], [123, 2657, 3, 2658, 2659, 2660], [71, 56, 28, 760, 107, 386, 17, 4, 2661, 1298, 17, 1299, 10, 50, 21, 2662, 757, 26, 1298, 2663, 1, 82, 2664, 12, 2665, 2666, 33, 10], [76, 7, 30, 90, 91, 64, 130, 21, 3, 250, 414, 55, 6, 23, 280, 113, 184, 42], [544, 151, 1299, 8, 1170, 19, 3, 2667], [9, 7, 186, 1, 81, 3, 14, 467, 2668, 80, 919, 31, 95, 21, 2669], [2670, 8, 529, 2, 1, 33, 117, 185, 31, 12, 82, 117, 29, 54, 29, 456, 1], [284, 35, 24, 824, 3, 900, 16, 2671], [5, 446, 217, 200, 1090, 5, 798, 73, 5, 44, 33, 453, 1, 423, 2, 79, 193, 5, 2672, 2, 179, 2673, 4, 2674, 2675, 37, 2676, 891, 2677, 20, 61, 11, 108, 217, 1, 846, 83, 5, 93, 2, 2678], [59, 3, 1025, 2679, 12, 56], [6, 843, 1, 2680, 1145, 167, 92, 133, 16, 17, 4, 792, 216, 13, 1016, 2681, 37, 102, 2682, 7, 2683, 2684, 201], [1300, 2685, 151, 86, 3, 2686, 2687, 10, 1301, 599, 137, 336, 2688], [40, 1, 2689, 120, 779, 16, 2690, 2691, 4, 2692, 21, 932, 111, 623, 18, 932, 62, 1142], [14, 58, 12, 359, 21, 2693, 696, 14, 2694, 14, 1173, 6, 16, 12, 6], [419, 182, 5, 107, 1302, 490, 1, 2695, 586, 4, 658], [76, 35, 24, 253, 1, 75, 2, 148, 811, 121, 131, 10, 15, 68, 3, 55, 96, 6, 39, 132, 184, 1202], [672, 80, 128, 2696, 360, 1303, 183, 5, 145, 98, 137, 360, 1243, 128, 1301, 671, 2697, 128, 71, 157, 161, 2698, 708, 128], [50, 10, 32, 309, 602, 1, 7, 63], [284, 284, 284, 2699, 2700], [10, 17, 400, 521], [2, 15, 68, 3, 58, 27, 8, 56, 2, 32, 73, 2, 81, 34, 14, 209, 1, 107, 386, 54, 58, 1, 13], [2, 6, 190, 11, 112, 13, 2701, 19, 220, 6, 190, 13], [2702, 2703], [106, 236, 425, 9, 493, 103, 8, 7, 339, 84, 108, 48, 150, 494, 495, 591, 109, 8, 3, 479, 592, 373, 2], [523, 2704, 9, 2705, 123, 71, 588, 11, 2706, 71, 2707], [211, 7, 173, 212, 9, 131, 213, 261, 5, 288, 214, 6, 215, 132, 199], [520, 7, 6, 646, 5, 86, 2708, 46, 2709, 180, 10, 124, 471, 9, 10, 1, 145, 181, 41, 47, 1007, 103], [634, 23, 6, 612, 85, 109, 8, 110, 76, 106, 198, 9, 2], [47, 24, 2, 294, 916, 38, 5, 32, 38, 2710, 313, 12, 62, 1017, 21, 148, 484], [31, 1, 81, 140, 56, 2711, 680, 380, 2712, 2713, 204, 54, 29, 1, 1, 235, 70], [243, 36, 831, 8, 43, 59, 1, 290, 21, 20, 142, 2714, 20, 59, 2715, 2716], [2717, 107, 18, 65], [211, 7, 173, 212, 9, 131, 213, 250, 214, 1, 39, 6, 215, 132, 199], [216, 16, 2718, 82, 2, 183], [18, 130, 3, 1259, 1260, 11, 263, 81, 3, 594, 407, 548, 127, 229, 22, 549, 1, 776], [2719, 304, 24, 2720, 4, 2721, 2722, 9, 2723, 19, 2724, 15, 2, 372, 2725, 2726, 18, 2727, 9, 4, 2728, 2729, 19, 2730, 28, 8, 389, 2731, 5, 149, 28, 8, 2732, 2733, 18, 2734, 2735], [112, 7, 371, 56, 2, 658, 1, 53, 16, 929, 84, 2736], [4, 455, 206, 144, 2737, 51, 5, 2738, 59, 503, 33, 1116, 17, 1261, 307, 625, 188, 77, 11, 123, 999, 28, 1, 257, 9, 14], [254, 636, 401, 463, 24, 141, 1, 119, 3, 175, 49, 2, 15, 3, 539, 61, 6, 637, 39, 132, 638, 464, 540], [14, 9, 77, 58, 100, 18, 210, 127, 77, 25, 22, 58, 1, 32, 433, 11, 112, 18, 369, 704, 315, 2739], [32, 2740, 499, 100, 31, 2741, 2742, 12, 2743, 269, 115, 40, 1206, 4, 872, 98, 303, 176, 158, 291, 464, 143], [2744, 613, 4, 2745, 79, 24, 2, 278, 27, 8, 25, 2746, 2, 3, 166, 84, 1111], [643, 340, 149, 28, 86, 38, 2747, 5, 107, 28, 74, 95, 18, 43, 3, 1076, 797, 10, 2748, 28, 326], [230, 70, 6], [402, 1, 2749, 27, 120, 8, 14, 2750, 2, 14, 648, 1, 770, 2751, 881, 46, 773, 1, 1245, 54, 40, 29, 1], [287, 128, 278, 13], [118, 226, 664, 15, 7, 188, 2752, 16, 257, 308, 4, 729, 543, 16, 7, 605, 195, 3, 2753], [11, 349, 9, 20, 216, 13, 85, 2, 40, 11, 4, 527, 44, 798, 56, 2, 24, 537, 83, 11, 149, 7, 430, 11, 331, 460, 23, 2, 582], [19, 2754, 60, 2755, 20, 2, 72, 5, 919, 447, 82, 582, 53, 331, 20, 1140, 36, 2756, 1304, 349, 2757, 595], [81, 35, 15, 3, 244, 1148, 351, 2758, 68, 110, 362, 115, 1280, 2759, 375, 47, 331, 110, 2760, 16, 18, 30, 12, 514], [931, 42, 152, 7, 30, 2, 24, 662, 1, 239, 1, 4, 122, 240, 139, 30, 9, 14, 6, 4, 30, 239, 1231, 14, 16], [47, 50, 147, 18, 886], [1162, 107, 3, 309, 11, 54, 28, 1, 20], [78, 1044, 459, 611], [372, 1270, 1305, 372, 497, 66, 2761, 17, 2762, 3, 343, 57, 2763, 10, 354, 8, 4, 102, 57, 1080, 10, 1275, 193, 51, 2764, 1, 2765, 28, 238, 917], [160, 218, 9, 7, 700, 26, 368, 179, 508, 653, 654, 241, 21, 29, 37, 554, 409, 155], [202, 8, 7, 450, 132, 1, 29, 1306, 391, 31, 29, 2766, 94, 218], [920, 2767, 1, 39, 18, 1289, 114, 54, 3, 2768, 2769, 903, 2770, 1, 1307, 16, 257, 379, 155, 138, 2771, 2772, 2773, 496, 868, 603, 765, 29], [581, 928, 182, 15, 370], [5, 2774, 2, 24, 3, 885, 455, 11, 41, 253, 43, 1, 33, 3, 2775, 5, 15, 1, 32, 144, 1294, 2776, 4, 312, 11, 80, 408, 4, 2777, 53, 15, 3, 84], [2778, 4, 2779], [4, 111, 376, 38, 5, 835, 3, 327, 328, 1102, 4, 455, 740, 1177, 2780, 42, 9, 111, 11, 21, 9, 111, 164, 150, 5, 2781, 190], [41, 285, 182, 5, 706, 125, 453, 53, 27, 2782, 10, 50, 108, 110, 2783, 377, 657, 133, 78], [255, 91, 367, 64, 27, 193, 370, 11, 166, 405, 2, 599, 17, 2, 2784, 28, 883, 271, 9, 20, 5, 706, 522, 2, 195, 102, 2785], [2786, 153, 94, 2, 299, 13, 39, 7, 14, 139, 63, 844, 9, 7, 488, 6, 13, 16, 129, 422, 1219, 136, 143, 429, 744], [928, 182, 25, 1, 393, 38, 2, 60, 686, 2787, 20, 52, 1277, 46, 227, 2788, 23, 1308, 223, 38, 33, 78], [46, 56, 65, 159, 5, 145, 169], [419, 56, 65, 2, 67, 20, 1, 145, 52], [174, 9, 7, 171, 232, 970, 90, 7, 30, 44, 33, 321, 159, 7, 100, 43, 628, 61, 6, 94, 218, 16], [480, 45, 484, 1, 10, 162], [2789, 51, 878, 33, 3, 97, 343, 51, 60, 408, 1, 2790, 238, 1161], [920, 496, 487, 2791, 81, 3, 251, 899, 732, 406, 49, 10, 72, 353, 2792, 2793, 1180, 17, 2794, 77, 22, 2795, 1, 2796], [5, 2797, 60, 717, 1, 2798, 44, 354, 33, 17, 1309, 17, 21, 2], [5, 149, 2799, 135, 2800], [28, 8, 42, 585, 882, 882], [211, 7, 173, 212, 9, 131, 213, 261, 5, 288, 214, 6, 215, 132, 199], [5, 497, 117, 5, 152, 3, 2801, 2802, 188, 77, 272, 366, 41, 245, 1035, 5, 497, 117, 62, 25, 3, 393, 459, 1, 33, 2803, 83, 51, 272, 340, 843], [80, 10, 356, 40, 233, 276, 1141, 10, 505, 10, 768, 52, 80, 120, 20, 178], [4, 170, 2804, 17, 2805, 461, 23, 4, 2806, 2807, 2808, 2809, 353, 1310, 4, 2810, 8, 1273, 2811, 15, 3, 97, 84], [9, 697, 386, 17, 34, 30, 2812, 585, 2, 50, 13, 15, 222, 308, 2813, 2, 446, 32, 436, 25, 54, 22, 1, 189], [45, 317, 23, 447, 40, 22, 58, 1, 37, 147, 237, 955, 42, 716], [194, 36, 676, 347, 1049, 7, 90, 313, 41, 47, 2814, 26, 20, 95, 2815, 27, 602, 2816, 502, 721, 2817], [76, 27, 8, 34, 172, 1, 75, 10, 7, 55, 23, 585, 8, 165, 373, 156, 1, 39, 6, 13], [296, 32, 1181, 67, 273, 432, 873, 268, 397, 1, 18, 30, 168, 4, 431, 1182, 432, 158, 22, 1200, 1, 13, 917], [93, 28, 2818, 44, 187, 2, 2819, 21, 937, 5, 88, 133, 1, 2820, 7, 812, 21, 36, 2821], [9, 18, 186, 1, 81, 3, 487, 407, 548, 22, 698, 1, 363, 816], [587, 30, 851, 87, 237, 6, 13, 852, 853, 18, 369, 204, 854, 270, 855, 1152, 300, 856, 857], [194, 8, 28, 353, 884], [118, 74, 85, 35, 72, 111, 791, 8, 4, 111, 791, 457, 19, 34, 1304, 2822, 35, 24, 1227, 1, 163, 3, 728, 191, 16, 38, 84, 1107, 57, 59, 1, 2823, 17, 38, 2, 24, 402, 61, 75, 34, 2824, 925, 9, 115, 390], [5, 93, 10, 196, 87, 10, 462, 631, 8, 2825, 8, 123, 506, 110, 1118, 22, 1009, 2826], [5, 597, 1, 18, 1274, 2827, 51, 37, 102, 8, 109], [2828, 511, 954, 621, 1, 20], [100, 177, 7, 921, 91, 13, 2829, 2830, 31, 2831, 2832, 12, 2833, 416, 140, 89, 77, 22, 29, 29, 27, 120, 14, 2834], [80, 10, 40, 95, 1264, 178], [36, 2835, 2836, 38, 2837, 8, 320, 9, 74, 293, 2838, 2839, 2840, 28, 44, 33, 320, 9, 2841, 312, 6, 2842, 2843, 2844, 11, 2845, 28], [890, 519, 142, 627, 71, 2846], [18, 2847, 780, 91, 64, 2848, 11, 2, 15, 64, 321, 2, 50, 305, 115, 416, 27, 1251, 2849, 2850, 120], [1052, 1285, 1156, 260, 600, 92, 13, 2851, 6, 374, 205, 23, 558, 1, 2852, 1, 29, 222, 6], [8, 529, 2, 1, 33, 117, 185, 31, 12, 82, 117, 2853, 29, 54, 29, 456, 1], [11, 719, 2, 11, 5, 82, 35, 50, 165, 2854, 52, 162], [27, 8, 4, 65, 35, 15, 207, 1, 75, 10, 10, 15, 68, 4, 55, 39, 8, 421, 25, 6, 13, 42, 89, 526, 569], [76, 6, 23, 126, 7, 382, 438, 114, 12, 69, 246, 156, 228, 136, 138], [2855, 49, 62, 43, 102, 504, 62, 557, 36, 965, 91, 2856, 73, 380, 27, 789, 84, 235], [2857, 1310, 2858, 1311, 1234, 142, 59, 1014, 102, 2859, 202, 98, 109], [41, 687, 1, 28, 5, 25, 274, 36, 2860, 60, 769, 20, 468, 347, 42, 2861, 3, 327, 217, 27, 484, 27, 645, 20, 17, 2862, 220, 17, 2863, 86, 110, 2864], [2865, 2866, 2867], [51, 5, 15, 1, 5, 59, 1, 15, 93, 11, 1283], [234, 129, 122, 359, 640, 58, 14, 467, 12, 732, 267, 105, 22, 16, 153, 6, 16, 12], [27, 8, 4, 65, 35, 15, 207, 75, 10, 10, 15, 68, 4, 800, 55, 39, 8, 421, 6, 13, 42, 89, 201, 569], [43, 364, 2868, 542, 10], [2869, 44, 54, 17, 111, 201], [26, 2870, 1, 1, 82, 225, 898, 275], [238, 2871, 2872, 2873, 2874], [393, 48, 305, 7, 196, 2875, 2876, 2877, 2878], [164, 646, 7, 588, 5, 167, 1, 33, 565], [134, 51, 50, 35, 221, 17, 400, 355, 44, 40, 1, 2879, 11, 80, 181, 2, 263, 26, 46, 663, 29, 11, 60, 2880, 135, 15, 673, 66, 841, 2881], [424, 2882, 36, 1278, 2883, 2884], [116, 26, 871, 11, 398, 2, 72, 2885, 16], [380, 272, 2886, 107, 2887, 532, 323, 1, 1312, 1, 3, 134, 12, 37, 387], [5, 88, 17, 2888, 2889, 13, 133, 1, 826, 2890, 17, 3, 327, 323], [923, 14, 6, 20, 510], [154, 1094, 41, 16, 2891, 642, 41, 245, 125, 52, 4, 2892, 509, 61, 145, 52, 1313, 93, 1096], [501], [4, 975, 1308, 8, 59, 3, 978, 460, 23, 36, 626, 788, 930, 216, 66, 28, 468, 2893, 422, 46, 2894, 11, 2, 15, 1, 107, 1003], [778, 51, 5, 2895, 10, 325, 5, 2896, 80, 10, 276, 465, 20, 262], [2897, 339, 399, 80, 50, 699, 345, 2898], [2899, 24, 2900, 2, 67, 1, 2901, 37, 470], [128, 265, 2902, 2903], [211, 7, 173, 212, 9, 2904, 131, 213, 261, 5, 288, 214, 6, 215, 132, 199], [1051, 9, 101, 2905, 2906, 2907, 402, 15, 2, 64, 2908, 1050, 35, 50, 165, 161, 6, 14, 12, 26, 95, 161], [419, 116, 2909, 307, 1, 434, 162, 26, 20, 73, 256, 95, 46, 840], [118, 226, 664, 39, 27, 252, 129, 46, 7, 605, 40, 1, 1071, 363, 29, 222, 22, 29, 1], [13, 71, 385, 826, 2910, 10, 37, 242, 103], [150, 206, 5, 768, 52, 16, 36, 2911, 1314], [2, 112, 56, 904, 60, 2912, 59, 27, 1, 20, 78, 37, 99, 1, 325], [2913, 2914, 2915, 2916, 11, 2917, 24, 648, 13, 60, 180, 4, 811, 370, 6, 46, 29, 222, 6, 205], [5, 813, 1291, 10, 772, 2918, 2919, 541, 755, 264, 178, 293, 328, 330], [10, 2920, 1, 2921, 190, 2922, 62, 43, 2923, 2924, 1295, 298, 669, 62, 4, 2925], [78, 37, 2926, 25, 553, 38, 3, 185, 17, 99], [76, 35, 24, 253, 1, 75, 10, 254, 121, 131, 38, 2, 15, 68, 3, 55, 96, 6, 23, 280, 113, 39, 184, 42], [10, 24, 1315, 1, 4, 303, 30, 248, 70, 17, 4, 379, 9, 89, 328, 405, 2, 54, 29, 1, 1316], [5, 497, 7, 90, 1, 2927], [160, 218, 9, 7, 700, 26, 368, 179, 2928, 653, 654, 241, 21, 29, 37, 554, 409, 161], [78, 137, 336], [95, 242, 227, 1022, 219, 50, 10, 137, 20, 144, 247, 2929, 5, 15, 40, 95, 92, 13, 358, 2930, 319], [18, 133, 1317, 2931, 11, 290, 1, 3, 167, 291, 1, 39, 337, 1317, 2932, 69, 1, 316, 48, 22, 318, 1], [5, 124, 2933, 79, 339, 2, 24, 38, 41, 458, 2934, 66, 622], [56, 1318, 19, 392, 53, 2, 933], [60, 125, 2935, 125, 2936, 480, 42, 600, 92, 70, 21, 1114, 2937, 6, 29, 34, 222, 6], [236, 425, 153, 493, 103, 8, 7, 339, 48, 150, 494, 495, 591, 477, 3, 479, 592, 373, 2], [533, 59, 307, 38, 197, 2938, 20, 223, 2939], [24, 2, 17, 400, 27, 8, 265, 236], [160, 209, 3, 884, 45, 58, 8, 52, 209, 103, 209, 8, 14, 168, 107, 386, 22, 58, 1, 13], [5, 67, 1, 2940, 7, 922, 13], [135, 41, 2941, 65, 1, 187, 144, 2942, 2943], [40, 2944, 292, 117, 11, 828, 117, 219, 563, 624, 2945, 4, 668], [2, 24, 506, 610, 66, 34, 230, 70, 66, 197, 2, 72, 1, 108, 48, 57, 28, 8, 6, 23, 3, 280, 113], [597, 1, 445, 734, 47, 5, 152, 1, 40, 1, 4, 538, 1, 2946, 4, 2947], [154, 456, 353, 8, 303, 312, 1, 2948, 2949, 725, 34, 2950, 650], [151, 35, 2951, 320, 9, 110, 1101, 46, 1132, 613, 867], [81, 76, 7, 30, 90, 91, 64, 130, 21, 3, 55, 96, 6, 23, 280, 113, 39, 184, 42], [149, 18, 2952, 81, 27, 77, 17, 34, 140, 496, 26, 204, 1, 2953, 2954, 155, 138], [4, 737, 2955, 733, 8, 1, 2956, 27, 209, 54, 48, 94, 329], [890, 2957, 48, 5, 152, 2958, 93, 16, 2959, 63, 715, 4, 2960, 2961], [710, 62, 674, 49, 2, 50, 25, 515, 1319, 12, 1307, 12, 307, 164, 458, 3, 649, 115, 2962, 531, 674, 69], [2963, 125, 78, 178, 747], [2964, 42, 2965, 1320, 35, 404, 103], [1300, 10, 2966, 2967, 10, 2968, 151, 2969, 2970, 87, 2971, 229, 2972, 2973, 887, 331, 2974, 2975, 19, 2976, 1033], [50, 2, 61, 311, 2977, 56, 298, 192, 2978, 8, 380, 123, 67, 307, 45, 12, 687, 428, 28, 123, 42, 2979, 17, 4, 2980, 2981, 111, 12, 101, 2982], [62, 491, 2983, 32, 3, 2984, 12, 796, 67, 20, 1, 145, 108, 2], [587, 58, 104, 139, 63, 8, 7, 6, 319, 225, 977, 6, 833, 23, 317, 802, 411, 593], [14, 120, 2985, 2986, 2987], [41, 110, 2988, 73, 5, 242, 5, 242, 17, 4, 675, 11, 233, 481, 468, 41, 1321, 46, 4, 2989, 5, 354, 233, 481, 73, 256, 1321, 127, 84, 8, 603], [2990, 395, 2, 54, 14, 2991, 11, 2992, 2993, 842, 27, 106, 23, 2994, 2, 82, 4, 2995, 9, 2996], [154, 109, 18, 339, 286, 617, 64, 618, 731, 4, 431, 2997, 92, 22, 92, 1, 13, 593], [5, 93, 2, 627, 162], [43, 364, 2998, 1, 1248, 2999, 41, 17, 663], [805, 806, 807, 17, 99, 808, 16, 18, 210, 112, 18, 22, 100, 332, 1, 9, 809, 12, 269, 332, 9, 416, 567, 810, 332], [3000, 234, 3001, 273], [134, 1297, 51, 2, 24, 4, 3002, 11, 4, 3003, 290, 375], [51, 2, 200, 670, 47, 2, 159, 33, 3004, 83, 190], [211, 7, 173, 212, 9, 131, 213, 261, 5, 288, 214, 6, 215, 132, 199], [144, 371, 67, 20, 1, 930, 860, 3005, 1210, 107, 3, 563], [14, 139, 435, 21, 696, 23, 21, 934, 721, 105, 192, 22, 3006, 3007, 396, 3008, 6, 12, 3009], [824, 385, 13, 5, 71, 45, 517], [151, 581, 3010, 5, 340, 15, 3, 3011, 3012, 59, 2], [53, 2, 67, 3, 45, 58, 240, 63, 679, 169, 21, 14, 323, 1, 101, 30, 14, 26, 14, 208, 31, 12, 6], [877, 58, 176, 763, 100, 1010, 1, 403, 100, 3013, 1, 1011, 3014, 3015, 3016, 3017, 3018, 704], [135, 5, 615, 43, 145, 80], [3, 907, 86, 481, 181, 298, 3019, 3020, 19, 1100], [3021, 146, 17, 3, 140, 418, 9, 3, 186, 1, 81, 110, 362, 22, 862, 1, 1, 32, 146, 502, 22, 205, 136, 143, 9, 390], [3022, 440, 2, 118, 9, 4, 3023], [544, 564, 33, 109, 17, 3, 526], [7, 226, 3024, 8, 3025, 494, 495, 9, 450, 410, 1, 316, 48, 31, 29, 94, 329, 6], [27, 8, 4, 65, 35, 15, 207, 75, 10, 10, 15, 68, 4, 800, 55, 39, 8, 421, 6, 13, 42, 89, 201, 569], [647, 648, 223, 7, 649, 650, 59, 3, 6, 23, 647, 234, 651, 6, 1, 443, 7, 65], [14, 9, 77, 58, 100, 18, 210, 127, 77, 25, 22, 58, 1, 32, 433, 11, 112, 18, 369, 704, 315], [14, 9, 77, 58, 100, 18, 210, 127, 77, 25, 22, 58, 1, 32, 433, 11, 112, 18, 369, 567, 315], [10, 15, 3, 473, 474, 57, 8, 413, 187, 75, 21, 560, 48, 57, 142, 561, 57, 366, 18, 47, 562, 16], [3026, 3027, 52, 35, 60, 15, 38, 193, 572], [10, 15, 3, 473, 474, 57, 8, 413, 187, 75, 21, 560, 48, 57, 142, 561, 57, 366, 18, 47, 562, 16], [118, 678, 18, 121, 191, 226, 44, 125, 485, 16, 897, 19, 3, 714, 420, 73, 86, 3028, 3029, 457, 22, 344, 1], [272, 8, 34, 3030, 272, 3031, 34, 1013, 272, 8, 334, 274, 19, 169, 3032, 3033, 86, 3034, 334, 3035, 1271, 3036, 395, 972, 34, 3037, 670, 338, 3038, 66, 93, 338, 3039, 3040, 117, 3041, 338, 1292, 179, 168, 17, 652, 3042, 338, 681, 28, 29, 3043, 3044, 1269], [154, 196, 62, 3045, 79, 87, 10, 5, 86, 3046, 16, 603, 286, 28, 86, 166, 79, 86, 7, 352, 10, 64, 1104, 20, 849, 1008, 26, 29, 1, 29], [931, 42, 152, 7, 30, 2, 24, 662, 1, 239, 1, 4, 122, 240, 139, 30, 9, 14, 6, 4, 30, 239, 3047, 14, 16], [94, 488, 1286, 45, 30, 23, 42, 46, 716, 22, 170, 258, 1, 37, 32, 237, 13, 189], [135, 1040, 499, 32, 4, 893, 269, 171, 12, 240, 601, 16, 1208, 30, 26, 100, 12, 601, 1, 13, 429, 22, 1209, 29], [2, 50, 1322, 1, 3048, 3049, 3050, 3051, 924, 3052, 66, 1151, 1322, 1, 44, 33, 997, 1, 7, 188, 530], [3053, 116, 145, 906, 13], [23, 869, 161], [2, 15, 68, 69, 12, 3, 55, 1, 39, 189, 3054], [424, 35, 99, 144, 3055, 1246, 11, 3056, 1, 493, 3057, 3058, 9, 3059, 50, 5, 779, 2, 341, 5, 99, 7, 903, 11, 3060, 566, 743, 87], [47, 5, 263, 595, 11, 795, 2, 188, 1, 20], [47, 73, 53, 2, 296, 1184, 3061], [56, 380, 4, 3062, 3063, 53], [3064, 3065, 3066, 3067, 21, 3068, 23, 3069, 3070, 74, 1146, 394], [37, 309, 61, 3071], [3072, 305, 23, 19, 176, 427, 229, 27, 8, 3, 3073, 70, 21, 140, 176, 3074, 10, 15, 102, 410, 827, 95, 11, 195], [14, 146, 417, 34, 140, 1323, 25, 26, 4, 170, 81, 1, 13, 189, 1120], [926, 600, 294, 669, 926, 11, 52, 28, 13, 6, 25, 1, 29, 222, 6], [3075, 41, 3076, 3077], [134, 491], [462, 719, 2, 423, 4, 511, 52, 1314], [102, 19, 4, 3078, 17, 3079, 850, 52, 427, 3080, 3081, 38, 3082, 1179, 470, 3083, 3, 1252, 333, 3084], [287, 47, 481, 165, 573, 1223, 12, 35, 821, 40, 659, 178, 1303, 5, 861], [26, 681, 1, 1, 147, 7, 859, 579, 3085, 3086, 1276, 143, 42, 195, 7, 176], [5, 331, 751, 3087, 381, 11, 3088, 74, 3089, 80, 3090, 62, 458, 3091, 11, 41, 74, 194], [135, 5, 15, 1, 320, 9, 36, 448, 196, 2, 367, 599, 95, 1, 20, 274, 2, 15, 3, 589, 233, 36, 93], [180, 6, 180, 6, 3092, 3093, 3094, 180, 6, 3095, 3096, 164, 334, 3097, 102, 21, 166, 63, 738, 910, 1232], [279, 186, 39, 18, 350, 19, 450, 297, 103, 26, 134, 1, 13, 346, 730, 314, 30, 351, 282, 346, 921], [710, 848, 73, 159, 5, 515, 4, 1324, 3098, 1002, 219], [154, 336, 196, 318, 10, 888, 20, 3099, 498, 3100, 27, 8, 3, 1267, 703, 37, 49, 2, 1312, 2, 32, 1306, 1293, 205, 3101, 293, 3102, 687, 396, 3103], [174, 9, 842, 27, 3104, 3105, 387], [236, 106, 27, 8, 3, 279, 75, 172, 2, 15, 236, 391, 198, 48, 34, 94, 1190, 3106, 199, 6, 13], [174, 7, 3107, 924, 7, 387, 27, 77, 44, 365, 10, 34, 121, 69, 203, 4, 45, 257, 3108, 22, 420, 1], [764, 71, 3109, 48, 148, 509], [134, 3110, 2, 124, 3111], [14, 146, 17, 3, 140, 418, 9, 3, 186, 1, 81, 110, 362, 22, 862, 1, 1, 32, 146, 502, 22, 205, 136, 143, 9, 390], [197, 91, 610, 34, 230, 70, 11, 485, 7, 63, 3112, 383, 2, 1, 108, 48, 57, 28, 8, 6, 23, 3, 126], [3113, 83, 7, 1320, 3114], [76, 61, 6, 23, 126, 7, 1325, 382, 438, 114, 12, 69, 246, 156, 228, 136, 138, 1326], [322, 18, 130, 19, 598, 297, 12, 96, 14, 146, 487, 121, 22, 300, 1, 879], [27, 8, 36, 90, 66, 3115], [160, 909, 3116, 3117, 3118, 361, 845, 1, 325, 154, 154, 29, 54, 29, 1], [37, 859, 100, 18, 210, 127, 77, 25, 22, 1, 100, 14, 47, 32, 1284, 13, 11, 112, 18, 371, 31, 889], [7, 186, 1, 33, 16, 3, 3119, 918, 423, 6, 13, 25, 89, 201, 577, 378, 155, 138, 875, 8, 3, 374, 205, 6], [25, 845, 1, 325, 3120, 381, 2, 294, 3121, 3122, 83, 27, 1319], [1311, 1024, 38, 3123, 44, 3124, 715, 4, 1327, 61, 60, 1282, 715, 4, 1327, 3125, 60, 67, 1, 3126, 3, 570, 185], [81, 3, 69, 55, 12, 3, 55, 350], [147, 7, 929, 352, 1, 1328, 535, 3127, 3128, 55, 96, 26, 1328, 1, 37, 3129], [698, 482, 10, 769, 8, 28, 2, 337, 69, 12, 3130, 226, 6, 13, 577, 155, 138, 3131, 225, 30, 833], [3132, 279, 3133, 16, 36, 886, 1258, 47, 5, 124], [3, 234, 486, 8, 198, 9, 2, 34, 832, 91, 3134, 1192, 2, 23, 34, 3135, 30, 3136, 1, 119, 3, 486, 25, 6], [1281, 227, 192, 153, 113, 306, 16, 12], [166, 45, 129, 267, 105, 267, 22, 16, 303, 153, 761, 11, 32, 122, 139, 435, 14, 6, 14, 16, 13, 12, 136], [85, 3, 707, 678, 377, 121, 3, 191, 226, 44, 125, 485, 16, 897, 19, 3, 714, 420, 73, 24, 4, 188, 3137, 22, 420, 1], [322, 18, 130, 19, 598, 297, 12, 96, 14, 146, 487, 121, 22, 300, 1], [564, 116, 82, 2, 17, 3, 665], [71, 137, 5, 3138, 1, 1318, 5, 717, 128, 17, 746, 5, 835, 3, 3139, 51, 59, 43, 265, 589], [10, 24, 1315, 1, 4, 303, 30, 248, 70, 17, 4, 379, 9, 89, 1302, 328, 405, 2, 54, 29, 1, 1316], [160, 218, 9, 7, 700, 26, 368, 179, 508, 653, 654, 241, 21, 29, 37, 554, 409, 161], [5, 44, 415, 18, 181, 17, 111, 323], [37, 3140, 2, 253, 1, 32, 20, 1, 1131, 1084, 326, 3, 3141, 12, 307], [76, 236, 425, 9, 493, 103, 8, 7, 339, 84, 108, 48, 150, 494, 495, 591, 109, 8, 3, 479, 592, 373, 9, 2], [617, 64, 141, 1, 576, 17, 19, 251, 1221, 1222, 9, 459, 114, 512, 46, 3142, 1, 39, 374, 205, 6], [43, 281, 3143, 823, 52, 16, 144, 233, 27, 8, 36, 45, 90, 66, 4, 312], [295, 2, 15, 64, 130, 3, 14, 1324, 691, 139, 25, 31, 3144, 1, 147, 7, 55, 3145, 316, 48, 29, 3146], [918, 3147, 8, 95, 16, 7, 385, 40, 1, 1329, 3148, 16, 1329, 3149, 11, 204, 1153, 925, 3150, 868, 16, 603, 47, 3151, 3152, 316, 48, 1], [287, 65, 87, 128, 133, 1, 3153, 3154], [76, 236, 425, 9, 493, 103, 8, 7, 339, 84, 108, 48, 150, 494, 495, 591, 109, 8, 3, 479, 592, 373, 2], [18, 171, 70, 91, 3155, 14, 368, 40, 1, 1, 305, 248, 13, 29, 22, 177, 29, 1, 155], [160, 909, 1330, 757, 8, 565, 51, 10, 299, 43, 72, 501, 28, 18, 3156, 3157, 87, 3158, 3159, 31, 420, 3160, 235, 31, 235, 1330], [24, 2, 3161, 470, 108, 48, 23, 983, 3162], [174, 9, 4, 3163, 13, 933, 3164, 21, 4, 3165, 21, 3166, 16, 7, 30, 9, 3, 14, 543, 25, 31, 21, 933, 13], [597, 1158, 3167, 3168, 329], [3169, 4, 543, 1, 32, 3, 1216, 3170, 3171, 302, 4, 45, 37, 23, 3172, 3, 430, 3173, 3174, 12, 3, 3175, 3176, 3177, 14], [10, 3178, 870, 521, 5, 13, 47, 578], [76, 6, 23, 7, 126, 7, 382, 1279, 114, 12, 69, 246, 156, 228, 136, 155, 138, 1326], [182, 3179, 5, 706, 145, 1, 3180, 15, 583, 3181], [79, 24, 2, 36, 93, 24, 2, 21, 7, 831, 65, 1, 348, 3182, 21, 190, 582, 325, 259, 3183, 3184, 3185, 424, 23, 1214, 4, 1215], [154, 41, 1331, 5, 88, 490, 588, 11, 242, 85, 3, 3186, 5, 93, 590, 26, 20, 167, 41, 5, 36, 3187, 13, 26, 1331, 1, 66, 898], [41, 1238, 181, 17, 201], [345, 2, 87, 3, 339, 244, 39, 7, 55, 26, 345, 219, 1, 163, 460, 26, 205], [76, 61, 6, 23, 126, 7, 1325, 382, 438, 114, 12, 69, 246, 156, 228, 136, 138], [46, 4, 122, 3188, 165, 109, 49, 2, 50, 3189, 52, 144, 3190, 11, 67, 1, 163, 4, 45, 3191, 3, 408], [3192], [35, 207, 1, 6, 2, 342, 7, 31, 1, 34, 160, 9, 3, 104, 30, 105, 283, 26, 14, 208, 31, 19, 6, 13], [347, 3193, 441, 262], [3194, 1123, 3195], [3196, 8, 529, 2, 1, 33, 298, 185, 31, 12, 82, 190, 3197, 29, 54, 29, 456, 1], [202, 71, 476, 19, 3198, 3199, 727, 3200], [79, 145, 28, 760, 47, 649, 65, 9, 3, 3201, 57, 8, 3202, 19, 4, 3203, 1, 3204, 3, 3205, 57, 740, 1, 576, 48, 74, 286], [3206, 80, 356, 3207, 40, 3208, 98, 3209, 341], [73, 206, 726, 32, 95], [322, 17, 27, 252, 1323, 121, 10, 15, 68, 4, 55, 1, 39, 25, 6, 3210, 160, 219, 42], [62, 285, 498, 20, 341, 25, 3211, 469], [174, 9, 7, 171, 232, 1144, 90, 7, 30, 44, 33, 321, 159, 7, 100, 43, 628, 61, 6, 94, 218, 23, 3212], [116, 932, 117, 36, 63, 1, 92, 725, 10], [118, 226, 664, 39, 7, 448, 3213, 3214, 3215, 73, 1038, 7, 114, 226, 6, 73, 3216, 1305, 448, 318], [3217, 164, 4, 249, 65, 10, 412, 10, 520, 20, 891, 916, 49, 5, 520, 10, 249, 2, 53, 93, 20], [3218, 8, 3219, 38, 8, 43, 3220], [139, 2, 24, 130, 3, 1166, 691, 139, 6, 3221, 126, 231, 866, 328], [79, 83, 498, 17, 1309, 21, 3222, 198, 9, 607, 25, 22, 95, 7, 203, 11, 596, 1, 316, 17, 195, 4, 1250], [3223, 32, 476, 19, 69, 27, 352, 3224, 118, 402, 1, 4, 352, 35, 15, 71, 34, 1134, 11, 303, 372, 69, 163, 460, 580], [1149, 51, 5, 660, 2, 200, 4, 3225], [328, 1, 827, 326, 9, 10, 44, 33, 1027, 52, 1, 426, 21, 4, 122, 472, 11, 1029, 773, 1, 33, 3226, 54, 32, 22, 29, 1], [523, 71, 3, 3227, 13, 62, 3228, 52, 109], [35, 72, 197, 57, 2, 72, 38, 1034, 2, 6, 1, 108, 48, 57, 315], [97, 333, 36, 118, 3229, 15, 3, 166, 338, 3230, 84], [345, 5, 15, 68, 3231, 90, 684, 53, 5, 53, 188], [260, 167, 874, 6, 13, 25, 89, 201, 577, 378, 155, 138, 875], [295, 259, 109, 1272, 62, 64, 252, 13, 11, 37, 170, 95, 503, 59, 144, 370, 2, 52, 9, 28, 165, 1313, 78, 275, 502, 3232, 1, 54, 1, 3233], [30, 177, 305, 101, 19, 4, 251, 910, 3234, 9, 7, 30], [78, 178, 41, 17, 400, 13, 724], [3235, 64, 3236, 257, 468, 3237, 1265, 43, 3238, 13, 174, 1, 7, 425, 35, 44, 1266, 220, 3239, 3240]]\n",
            "[[  14  104  139 ...    0    0    0]\n",
            " [   5   60   72 ...    0    0    0]\n",
            " [ 118 1338   61 ...    0    0    0]\n",
            " ...\n",
            " [  30  177  305 ...    0    0    0]\n",
            " [  78  178   41 ...    0    0    0]\n",
            " [3235   64 3236 ...    0    0    0]]\n"
          ]
        }
      ]
    },
    {
      "cell_type": "code",
      "source": [
        "print(np.asarray(trainPadded))"
      ],
      "metadata": {
        "colab": {
          "base_uri": "https://localhost:8080/"
        },
        "id": "E7GmvzRkrcTb",
        "outputId": "9831f1ff-29f7-4a6f-e46d-53f9df76bcb8"
      },
      "execution_count": 101,
      "outputs": [
        {
          "output_type": "stream",
          "name": "stdout",
          "text": [
            "[[  14  104  139 ...    0    0    0]\n",
            " [   5   60   72 ...    0    0    0]\n",
            " [ 118 1338   61 ...    0    0    0]\n",
            " ...\n",
            " [  30  177  305 ...    0    0    0]\n",
            " [  78  178   41 ...    0    0    0]\n",
            " [3235   64 3236 ...    0    0    0]]\n"
          ]
        }
      ]
    },
    {
      "cell_type": "code",
      "source": [
        "model = ''\n",
        "model = tf.keras.Sequential([\n",
        "                             tf.keras.layers.Embedding(vocabSize, 64, input_length=maxLen),\n",
        "                             tf.keras.layers.LSTM(64),\n",
        "                             tf.keras.layers.Dense(1, activation=\"sigmoid\")\n",
        "])\n",
        "model.summary()\n",
        "model.compile(loss=\"binary_crossentropy\",optimizer=\"adam\",metrics=['accuracy'])\n",
        "df_train_f.head()"
      ],
      "metadata": {
        "colab": {
          "base_uri": "https://localhost:8080/",
          "height": 466
        },
        "id": "GlevUVaBeO86",
        "outputId": "d2c5aa03-8f3f-4f2e-9d13-219649459bc7"
      },
      "execution_count": 102,
      "outputs": [
        {
          "output_type": "stream",
          "name": "stdout",
          "text": [
            "Model: \"sequential_5\"\n",
            "_________________________________________________________________\n",
            " Layer (type)                Output Shape              Param #   \n",
            "=================================================================\n",
            " embedding_5 (Embedding)     (None, 50, 64)            2560000   \n",
            "                                                                 \n",
            " lstm_5 (LSTM)               (None, 64)                33024     \n",
            "                                                                 \n",
            " dense_5 (Dense)             (None, 1)                 65        \n",
            "                                                                 \n",
            "=================================================================\n",
            "Total params: 2,593,089\n",
            "Trainable params: 2,593,089\n",
            "Non-trainable params: 0\n",
            "_________________________________________________________________\n"
          ]
        },
        {
          "output_type": "execute_result",
          "data": {
            "text/plain": [
              "      h_or_s                                               text  \\\n",
              "734        1  [free, video, camera, phones, with, half, pric...   \n",
              "91         0  [i, dont, know, jack, shit, about, anything, o...   \n",
              "985        1  [dear, matthew, please, call, 09063440451, fro...   \n",
              "2534       1  [monthly, password, for, wap, mobsicom, is, 39...   \n",
              "3948       0           [i, gotta, collect, da, car, at, 6, lei]   \n",
              "\n",
              "                                                  ctext  length1  \n",
              "734   free video camera phones with half price line ...       24  \n",
              "91    i dont know jack shit about anything or id say...       32  \n",
              "985   dear matthew please call from a landline your ...       23  \n",
              "2534  monthly password for wap mobsicom is use your ...       13  \n",
              "3948                     i gotta collect da car at lei         8  "
            ],
            "text/html": [
              "\n",
              "  <div id=\"df-1ee6f34b-5e01-4761-a722-607a5c85021e\">\n",
              "    <div class=\"colab-df-container\">\n",
              "      <div>\n",
              "<style scoped>\n",
              "    .dataframe tbody tr th:only-of-type {\n",
              "        vertical-align: middle;\n",
              "    }\n",
              "\n",
              "    .dataframe tbody tr th {\n",
              "        vertical-align: top;\n",
              "    }\n",
              "\n",
              "    .dataframe thead th {\n",
              "        text-align: right;\n",
              "    }\n",
              "</style>\n",
              "<table border=\"1\" class=\"dataframe\">\n",
              "  <thead>\n",
              "    <tr style=\"text-align: right;\">\n",
              "      <th></th>\n",
              "      <th>h_or_s</th>\n",
              "      <th>text</th>\n",
              "      <th>ctext</th>\n",
              "      <th>length1</th>\n",
              "    </tr>\n",
              "  </thead>\n",
              "  <tbody>\n",
              "    <tr>\n",
              "      <th>734</th>\n",
              "      <td>1</td>\n",
              "      <td>[free, video, camera, phones, with, half, pric...</td>\n",
              "      <td>free video camera phones with half price line ...</td>\n",
              "      <td>24</td>\n",
              "    </tr>\n",
              "    <tr>\n",
              "      <th>91</th>\n",
              "      <td>0</td>\n",
              "      <td>[i, dont, know, jack, shit, about, anything, o...</td>\n",
              "      <td>i dont know jack shit about anything or id say...</td>\n",
              "      <td>32</td>\n",
              "    </tr>\n",
              "    <tr>\n",
              "      <th>985</th>\n",
              "      <td>1</td>\n",
              "      <td>[dear, matthew, please, call, 09063440451, fro...</td>\n",
              "      <td>dear matthew please call from a landline your ...</td>\n",
              "      <td>23</td>\n",
              "    </tr>\n",
              "    <tr>\n",
              "      <th>2534</th>\n",
              "      <td>1</td>\n",
              "      <td>[monthly, password, for, wap, mobsicom, is, 39...</td>\n",
              "      <td>monthly password for wap mobsicom is use your ...</td>\n",
              "      <td>13</td>\n",
              "    </tr>\n",
              "    <tr>\n",
              "      <th>3948</th>\n",
              "      <td>0</td>\n",
              "      <td>[i, gotta, collect, da, car, at, 6, lei]</td>\n",
              "      <td>i gotta collect da car at lei</td>\n",
              "      <td>8</td>\n",
              "    </tr>\n",
              "  </tbody>\n",
              "</table>\n",
              "</div>\n",
              "      <button class=\"colab-df-convert\" onclick=\"convertToInteractive('df-1ee6f34b-5e01-4761-a722-607a5c85021e')\"\n",
              "              title=\"Convert this dataframe to an interactive table.\"\n",
              "              style=\"display:none;\">\n",
              "        \n",
              "  <svg xmlns=\"http://www.w3.org/2000/svg\" height=\"24px\"viewBox=\"0 0 24 24\"\n",
              "       width=\"24px\">\n",
              "    <path d=\"M0 0h24v24H0V0z\" fill=\"none\"/>\n",
              "    <path d=\"M18.56 5.44l.94 2.06.94-2.06 2.06-.94-2.06-.94-.94-2.06-.94 2.06-2.06.94zm-11 1L8.5 8.5l.94-2.06 2.06-.94-2.06-.94L8.5 2.5l-.94 2.06-2.06.94zm10 10l.94 2.06.94-2.06 2.06-.94-2.06-.94-.94-2.06-.94 2.06-2.06.94z\"/><path d=\"M17.41 7.96l-1.37-1.37c-.4-.4-.92-.59-1.43-.59-.52 0-1.04.2-1.43.59L10.3 9.45l-7.72 7.72c-.78.78-.78 2.05 0 2.83L4 21.41c.39.39.9.59 1.41.59.51 0 1.02-.2 1.41-.59l7.78-7.78 2.81-2.81c.8-.78.8-2.07 0-2.86zM5.41 20L4 18.59l7.72-7.72 1.47 1.35L5.41 20z\"/>\n",
              "  </svg>\n",
              "      </button>\n",
              "      \n",
              "  <style>\n",
              "    .colab-df-container {\n",
              "      display:flex;\n",
              "      flex-wrap:wrap;\n",
              "      gap: 12px;\n",
              "    }\n",
              "\n",
              "    .colab-df-convert {\n",
              "      background-color: #E8F0FE;\n",
              "      border: none;\n",
              "      border-radius: 50%;\n",
              "      cursor: pointer;\n",
              "      display: none;\n",
              "      fill: #1967D2;\n",
              "      height: 32px;\n",
              "      padding: 0 0 0 0;\n",
              "      width: 32px;\n",
              "    }\n",
              "\n",
              "    .colab-df-convert:hover {\n",
              "      background-color: #E2EBFA;\n",
              "      box-shadow: 0px 1px 2px rgba(60, 64, 67, 0.3), 0px 1px 3px 1px rgba(60, 64, 67, 0.15);\n",
              "      fill: #174EA6;\n",
              "    }\n",
              "\n",
              "    [theme=dark] .colab-df-convert {\n",
              "      background-color: #3B4455;\n",
              "      fill: #D2E3FC;\n",
              "    }\n",
              "\n",
              "    [theme=dark] .colab-df-convert:hover {\n",
              "      background-color: #434B5C;\n",
              "      box-shadow: 0px 1px 3px 1px rgba(0, 0, 0, 0.15);\n",
              "      filter: drop-shadow(0px 1px 2px rgba(0, 0, 0, 0.3));\n",
              "      fill: #FFFFFF;\n",
              "    }\n",
              "  </style>\n",
              "\n",
              "      <script>\n",
              "        const buttonEl =\n",
              "          document.querySelector('#df-1ee6f34b-5e01-4761-a722-607a5c85021e button.colab-df-convert');\n",
              "        buttonEl.style.display =\n",
              "          google.colab.kernel.accessAllowed ? 'block' : 'none';\n",
              "\n",
              "        async function convertToInteractive(key) {\n",
              "          const element = document.querySelector('#df-1ee6f34b-5e01-4761-a722-607a5c85021e');\n",
              "          const dataTable =\n",
              "            await google.colab.kernel.invokeFunction('convertToInteractive',\n",
              "                                                     [key], {});\n",
              "          if (!dataTable) return;\n",
              "\n",
              "          const docLinkHtml = 'Like what you see? Visit the ' +\n",
              "            '<a target=\"_blank\" href=https://colab.research.google.com/notebooks/data_table.ipynb>data table notebook</a>'\n",
              "            + ' to learn more about interactive tables.';\n",
              "          element.innerHTML = '';\n",
              "          dataTable['output_type'] = 'display_data';\n",
              "          await google.colab.output.renderOutput(dataTable, element);\n",
              "          const docLink = document.createElement('div');\n",
              "          docLink.innerHTML = docLinkHtml;\n",
              "          element.appendChild(docLink);\n",
              "        }\n",
              "      </script>\n",
              "    </div>\n",
              "  </div>\n",
              "  "
            ]
          },
          "metadata": {},
          "execution_count": 102
        }
      ]
    },
    {
      "cell_type": "code",
      "source": [
        "history = ''\n",
        "history = model.fit(np.asarray(trainPadded), df_train_f['h_or_s'], epochs=5, batch_size=32, verbose=True)"
      ],
      "metadata": {
        "colab": {
          "base_uri": "https://localhost:8080/"
        },
        "id": "l2cJOyEYg_yj",
        "outputId": "424b89b1-34de-4824-d98d-580ecfbf372a"
      },
      "execution_count": 103,
      "outputs": [
        {
          "output_type": "stream",
          "name": "stdout",
          "text": [
            "Epoch 1/5\n",
            "33/33 [==============================] - 4s 60ms/step - loss: 0.6928 - accuracy: 0.5248\n",
            "Epoch 2/5\n",
            "33/33 [==============================] - 2s 60ms/step - loss: 0.5026 - accuracy: 0.7529\n",
            "Epoch 3/5\n",
            "33/33 [==============================] - 2s 60ms/step - loss: 0.1582 - accuracy: 0.9609\n",
            "Epoch 4/5\n",
            "33/33 [==============================] - 2s 60ms/step - loss: 0.0769 - accuracy: 0.9857\n",
            "Epoch 5/5\n",
            "33/33 [==============================] - 2s 61ms/step - loss: 0.1083 - accuracy: 0.9781\n"
          ]
        }
      ]
    },
    {
      "cell_type": "code",
      "source": [
        "p_t = tokenizer.texts_to_sequences(pd.Series([\"sale today! to stop texts call 98912460324\"]))\n",
        "p_t_padded = pad_sequences(p_t, maxlen=maxLen, padding='post', truncating='post')\n",
        "sheesh = model.predict(p_t_padded)\n",
        "if round(sheesh[0][0])==1:\n",
        "  predic = 'spam'\n",
        "else:\n",
        "  predic = 'ham'\n",
        "print(predic,sheesh)"
      ],
      "metadata": {
        "colab": {
          "base_uri": "https://localhost:8080/"
        },
        "id": "QIrQx9tUsze-",
        "outputId": "1c7d6df5-0107-43ae-8b00-579b98a98514"
      },
      "execution_count": 104,
      "outputs": [
        {
          "output_type": "stream",
          "name": "stdout",
          "text": [
            "1/1 [==============================] - 0s 480ms/step\n",
            "spam [[0.9725666]]\n"
          ]
        }
      ]
    },
    {
      "cell_type": "code",
      "execution_count": 105,
      "metadata": {
        "id": "J9tD9yACG6M9",
        "colab": {
          "base_uri": "https://localhost:8080/"
        },
        "outputId": "54b073de-02a5-4825-fdfc-9e295400da9e"
      },
      "outputs": [
        {
          "output_type": "stream",
          "name": "stdout",
          "text": [
            "1/1 [==============================] - 0s 27ms/step\n",
            "[0.011065427, 'ham']\n",
            "0.011065427\n"
          ]
        }
      ],
      "source": [
        "# function to predict messages based on model\n",
        "# (should return list containing prediction and label, ex. [0.008318834938108921, 'ham'])\n",
        "def predict_message(pred_text):\n",
        "  p_t = tokenizer.texts_to_sequences(pd.Series([pred_text]))\n",
        "  p_t_padded = pad_sequences(p_t, maxlen=maxLen, padding='post', truncating='post')\n",
        "  sheesh = model.predict(p_t_padded)\n",
        "  if round(sheesh[0][0])==1:\n",
        "    predic = 'spam'\n",
        "  else:\n",
        "    predic = 'ham'\n",
        "  prediction = [sheesh[0][0], predic]\n",
        "  print(prediction)\n",
        "  return (prediction)\n",
        "pred_text = \"how are you doing today?\"\n",
        "prediction = predict_message(pred_text)[0]\n",
        "print(prediction)"
      ]
    },
    {
      "cell_type": "code",
      "execution_count": 106,
      "metadata": {
        "id": "Dxotov85SjsC",
        "colab": {
          "base_uri": "https://localhost:8080/"
        },
        "outputId": "4cb65d90-0c96-46ff-ef1b-2531eddde826"
      },
      "outputs": [
        {
          "output_type": "stream",
          "name": "stdout",
          "text": [
            "1/1 [==============================] - 0s 28ms/step\n",
            "[0.011065427, 'ham']\n",
            "1/1 [==============================] - 0s 24ms/step\n",
            "[0.9725666, 'spam']\n",
            "1/1 [==============================] - 0s 24ms/step\n",
            "[0.01071676, 'ham']\n",
            "1/1 [==============================] - 0s 30ms/step\n",
            "[0.972568, 'spam']\n",
            "1/1 [==============================] - 0s 29ms/step\n",
            "[0.97256976, 'spam']\n",
            "1/1 [==============================] - 0s 27ms/step\n",
            "[0.010668503, 'ham']\n",
            "1/1 [==============================] - 0s 26ms/step\n",
            "[0.0107128685, 'ham']\n",
            "You passed the challenge. Great job!\n"
          ]
        }
      ],
      "source": [
        "# Run this cell to test your function and model. Do not modify contents.\n",
        "def test_predictions():\n",
        "  test_messages = [\"how are you doing today\",\n",
        "                   \"sale today! to stop texts call 98912460324\",\n",
        "                   \"i dont want to go. can we try it a different day? available sat\",\n",
        "                   \"our new mobile video service is live. just install on your phone to start watching.\",\n",
        "                   \"you have won £1000 cash! call to claim your prize.\",\n",
        "                   \"i'll bring it tomorrow. don't forget the milk.\",\n",
        "                   \"wow, is your arm alright. that happened to me one time too\"\n",
        "                  ]\n",
        "\n",
        "  test_answers = [\"ham\", \"spam\", \"ham\", \"spam\", \"spam\", \"ham\", \"ham\"]\n",
        "  passed = True\n",
        "\n",
        "  for msg, ans in zip(test_messages, test_answers):\n",
        "    prediction = predict_message(msg)\n",
        "    if prediction[1] != ans:\n",
        "      passed = False\n",
        "\n",
        "  if passed:\n",
        "    print(\"You passed the challenge. Great job!\")\n",
        "  else:\n",
        "    print(\"You haven't passed yet. Keep trying.\")\n",
        "\n",
        "test_predictions()\n"
      ]
    }
  ],
  "metadata": {
    "colab": {
      "collapsed_sections": [],
      "name": "Copy of copy1 of fcc_sms_text_classification.ipynb",
      "provenance": []
    },
    "kernelspec": {
      "display_name": "Python 3",
      "name": "python3"
    },
    "language_info": {},
    "gpuClass": "standard"
  },
  "nbformat": 4,
  "nbformat_minor": 0
}